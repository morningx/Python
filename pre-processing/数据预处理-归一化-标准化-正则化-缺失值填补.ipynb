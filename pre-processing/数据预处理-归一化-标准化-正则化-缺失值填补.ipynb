{
 "cells": [
  {
   "cell_type": "markdown",
   "metadata": {},
   "source": [
    "# 数据无量纲处理-归一化"
   ]
  },
  {
   "cell_type": "markdown",
   "metadata": {},
   "source": [
    "- 数据归一化\n",
    "\n",
    "- x=max,则最大结果为1；\n",
    "- x=min，则最小结果为0；\n",
    "- 这样保证了所有数据都在0-1范围"
   ]
  },
  {
   "cell_type": "markdown",
   "metadata": {},
   "source": [
    "$$x^* = \\frac{x - min(x)}{max(x)-min(x)}$$"
   ]
  },
  {
   "cell_type": "code",
   "execution_count": 29,
   "metadata": {
    "ExecuteTime": {
     "end_time": "2020-02-26T17:10:14.750469Z",
     "start_time": "2020-02-26T17:10:14.742474Z"
    }
   },
   "outputs": [
    {
     "data": {
      "text/plain": [
       "[[-1, 2], [-0.5, 6], [0, 10], [1, 18]]"
      ]
     },
     "execution_count": 29,
     "metadata": {},
     "output_type": "execute_result"
    }
   ],
   "source": [
    "data = [[-1, 2], [-0.5, 6], [0, 10], [1, 18]]\n",
    "data"
   ]
  },
  {
   "cell_type": "code",
   "execution_count": 30,
   "metadata": {
    "ExecuteTime": {
     "end_time": "2020-02-26T17:10:15.823836Z",
     "start_time": "2020-02-26T17:10:15.813844Z"
    }
   },
   "outputs": [
    {
     "data": {
      "text/plain": [
       "array([[-1. ,  2. ],\n",
       "       [-0.5,  6. ],\n",
       "       [ 0. , 10. ],\n",
       "       [ 1. , 18. ]])"
      ]
     },
     "execution_count": 30,
     "metadata": {},
     "output_type": "execute_result"
    }
   ],
   "source": [
    "import numpy as np\n",
    "X = np.array([[-1, 2], [-0.5, 6], [0, 10], [1, 18]])\n",
    "X"
   ]
  },
  {
   "cell_type": "code",
   "execution_count": 31,
   "metadata": {
    "ExecuteTime": {
     "end_time": "2020-02-26T17:10:16.852197Z",
     "start_time": "2020-02-26T17:10:16.845201Z"
    }
   },
   "outputs": [
    {
     "data": {
      "text/plain": [
       "array([-1.,  2.])"
      ]
     },
     "execution_count": 31,
     "metadata": {},
     "output_type": "execute_result"
    }
   ],
   "source": [
    "X.min(axis=0)"
   ]
  },
  {
   "cell_type": "code",
   "execution_count": 32,
   "metadata": {
    "ExecuteTime": {
     "end_time": "2020-02-26T17:10:17.830589Z",
     "start_time": "2020-02-26T17:10:17.820597Z"
    }
   },
   "outputs": [
    {
     "data": {
      "text/plain": [
       "18.0"
      ]
     },
     "execution_count": 32,
     "metadata": {},
     "output_type": "execute_result"
    }
   ],
   "source": [
    "X.max()\n",
    "# 无参数，则默认为所有数据最大值"
   ]
  },
  {
   "cell_type": "code",
   "execution_count": 33,
   "metadata": {
    "ExecuteTime": {
     "end_time": "2020-02-26T17:10:18.693075Z",
     "start_time": "2020-02-26T17:10:18.685082Z"
    }
   },
   "outputs": [
    {
     "data": {
      "text/plain": [
       "array([ 1., 18.])"
      ]
     },
     "execution_count": 33,
     "metadata": {},
     "output_type": "execute_result"
    }
   ],
   "source": [
    "X.max(axis=0)\n",
    "# 每一行的最大值"
   ]
  },
  {
   "cell_type": "code",
   "execution_count": 34,
   "metadata": {
    "ExecuteTime": {
     "end_time": "2020-02-26T17:10:19.527582Z",
     "start_time": "2020-02-26T17:10:19.520589Z"
    }
   },
   "outputs": [
    {
     "data": {
      "text/plain": [
       "array([ 2.,  6., 10., 18.])"
      ]
     },
     "execution_count": 34,
     "metadata": {},
     "output_type": "execute_result"
    }
   ],
   "source": [
    "X.max(axis=1)\n",
    "# 每一列的最大值"
   ]
  },
  {
   "cell_type": "code",
   "execution_count": 35,
   "metadata": {
    "ExecuteTime": {
     "end_time": "2020-02-26T17:10:20.304100Z",
     "start_time": "2020-02-26T17:10:20.293108Z"
    }
   },
   "outputs": [
    {
     "data": {
      "text/plain": [
       "array([[0.  , 0.  ],\n",
       "       [0.25, 0.25],\n",
       "       [0.5 , 0.5 ],\n",
       "       [1.  , 1.  ]])"
      ]
     },
     "execution_count": 35,
     "metadata": {},
     "output_type": "execute_result"
    }
   ],
   "source": [
    "# 归一化\n",
    "# 归一化normalize; normalization\n",
    "X = np.array([[-1, 2], [-0.5, 6], [0, 10], [1, 18]])\n",
    "# axis=0 行      axis=1 列\n",
    "X_nor = (X - X.min(axis=0)) / (X.max(axis=0) - X.min(axis=0))\n",
    "X_nor"
   ]
  },
  {
   "cell_type": "code",
   "execution_count": 36,
   "metadata": {
    "ExecuteTime": {
     "end_time": "2020-02-26T17:10:21.214535Z",
     "start_time": "2020-02-26T17:10:21.205543Z"
    }
   },
   "outputs": [
    {
     "data": {
      "text/plain": [
       "array([[-1. ,  2. ],\n",
       "       [-0.5,  6. ],\n",
       "       [ 0. , 10. ],\n",
       "       [ 1. , 18. ]])"
      ]
     },
     "execution_count": 36,
     "metadata": {},
     "output_type": "execute_result"
    }
   ],
   "source": [
    "# 逆转归一化\n",
    "X_returned = X_nor * (X.max(axis=0) - X.min(axis=0)) + X.min(axis=0)\n",
    "X_returned"
   ]
  },
  {
   "cell_type": "code",
   "execution_count": 37,
   "metadata": {
    "ExecuteTime": {
     "end_time": "2020-02-26T17:10:22.887708Z",
     "start_time": "2020-02-26T17:10:22.873716Z"
    }
   },
   "outputs": [
    {
     "data": {
      "text/html": [
       "<div>\n",
       "<style scoped>\n",
       "    .dataframe tbody tr th:only-of-type {\n",
       "        vertical-align: middle;\n",
       "    }\n",
       "\n",
       "    .dataframe tbody tr th {\n",
       "        vertical-align: top;\n",
       "    }\n",
       "\n",
       "    .dataframe thead th {\n",
       "        text-align: right;\n",
       "    }\n",
       "</style>\n",
       "<table border=\"1\" class=\"dataframe\">\n",
       "  <thead>\n",
       "    <tr style=\"text-align: right;\">\n",
       "      <th></th>\n",
       "      <th>0</th>\n",
       "      <th>1</th>\n",
       "    </tr>\n",
       "  </thead>\n",
       "  <tbody>\n",
       "    <tr>\n",
       "      <td>0</td>\n",
       "      <td>-1.0</td>\n",
       "      <td>2</td>\n",
       "    </tr>\n",
       "    <tr>\n",
       "      <td>1</td>\n",
       "      <td>-0.5</td>\n",
       "      <td>6</td>\n",
       "    </tr>\n",
       "    <tr>\n",
       "      <td>2</td>\n",
       "      <td>0.0</td>\n",
       "      <td>10</td>\n",
       "    </tr>\n",
       "    <tr>\n",
       "      <td>3</td>\n",
       "      <td>1.0</td>\n",
       "      <td>18</td>\n",
       "    </tr>\n",
       "  </tbody>\n",
       "</table>\n",
       "</div>"
      ],
      "text/plain": [
       "     0   1\n",
       "0 -1.0   2\n",
       "1 -0.5   6\n",
       "2  0.0  10\n",
       "3  1.0  18"
      ]
     },
     "execution_count": 37,
     "metadata": {},
     "output_type": "execute_result"
    }
   ],
   "source": [
    "import pandas as pd\n",
    "x = pd.DataFrame(data)\n",
    "x"
   ]
  },
  {
   "cell_type": "markdown",
   "metadata": {},
   "source": [
    "# 使用pandas来实现归一化"
   ]
  },
  {
   "cell_type": "code",
   "execution_count": 38,
   "metadata": {
    "ExecuteTime": {
     "end_time": "2020-02-26T17:10:25.029424Z",
     "start_time": "2020-02-26T17:10:25.006439Z"
    }
   },
   "outputs": [
    {
     "data": {
      "text/html": [
       "<div>\n",
       "<style scoped>\n",
       "    .dataframe tbody tr th:only-of-type {\n",
       "        vertical-align: middle;\n",
       "    }\n",
       "\n",
       "    .dataframe tbody tr th {\n",
       "        vertical-align: top;\n",
       "    }\n",
       "\n",
       "    .dataframe thead th {\n",
       "        text-align: right;\n",
       "    }\n",
       "</style>\n",
       "<table border=\"1\" class=\"dataframe\">\n",
       "  <thead>\n",
       "    <tr style=\"text-align: right;\">\n",
       "      <th></th>\n",
       "      <th>0</th>\n",
       "      <th>1</th>\n",
       "    </tr>\n",
       "  </thead>\n",
       "  <tbody>\n",
       "    <tr>\n",
       "      <td>0</td>\n",
       "      <td>0.00</td>\n",
       "      <td>0.00</td>\n",
       "    </tr>\n",
       "    <tr>\n",
       "      <td>1</td>\n",
       "      <td>0.25</td>\n",
       "      <td>0.25</td>\n",
       "    </tr>\n",
       "    <tr>\n",
       "      <td>2</td>\n",
       "      <td>0.50</td>\n",
       "      <td>0.50</td>\n",
       "    </tr>\n",
       "    <tr>\n",
       "      <td>3</td>\n",
       "      <td>1.00</td>\n",
       "      <td>1.00</td>\n",
       "    </tr>\n",
       "  </tbody>\n",
       "</table>\n",
       "</div>"
      ],
      "text/plain": [
       "      0     1\n",
       "0  0.00  0.00\n",
       "1  0.25  0.25\n",
       "2  0.50  0.50\n",
       "3  1.00  1.00"
      ]
     },
     "execution_count": 38,
     "metadata": {},
     "output_type": "execute_result"
    }
   ],
   "source": [
    "# 归一化\n",
    "x_nor = (x - x.min()) / (x.max() - x.min())\n",
    "x_nor"
   ]
  },
  {
   "cell_type": "code",
   "execution_count": 39,
   "metadata": {
    "ExecuteTime": {
     "end_time": "2020-02-26T17:10:27.001225Z",
     "start_time": "2020-02-26T17:10:26.983238Z"
    }
   },
   "outputs": [
    {
     "data": {
      "text/html": [
       "<div>\n",
       "<style scoped>\n",
       "    .dataframe tbody tr th:only-of-type {\n",
       "        vertical-align: middle;\n",
       "    }\n",
       "\n",
       "    .dataframe tbody tr th {\n",
       "        vertical-align: top;\n",
       "    }\n",
       "\n",
       "    .dataframe thead th {\n",
       "        text-align: right;\n",
       "    }\n",
       "</style>\n",
       "<table border=\"1\" class=\"dataframe\">\n",
       "  <thead>\n",
       "    <tr style=\"text-align: right;\">\n",
       "      <th></th>\n",
       "      <th>0</th>\n",
       "      <th>1</th>\n",
       "    </tr>\n",
       "  </thead>\n",
       "  <tbody>\n",
       "    <tr>\n",
       "      <td>0</td>\n",
       "      <td>-1.0</td>\n",
       "      <td>2.0</td>\n",
       "    </tr>\n",
       "    <tr>\n",
       "      <td>1</td>\n",
       "      <td>-0.5</td>\n",
       "      <td>6.0</td>\n",
       "    </tr>\n",
       "    <tr>\n",
       "      <td>2</td>\n",
       "      <td>0.0</td>\n",
       "      <td>10.0</td>\n",
       "    </tr>\n",
       "    <tr>\n",
       "      <td>3</td>\n",
       "      <td>1.0</td>\n",
       "      <td>18.0</td>\n",
       "    </tr>\n",
       "  </tbody>\n",
       "</table>\n",
       "</div>"
      ],
      "text/plain": [
       "     0     1\n",
       "0 -1.0   2.0\n",
       "1 -0.5   6.0\n",
       "2  0.0  10.0\n",
       "3  1.0  18.0"
      ]
     },
     "execution_count": 39,
     "metadata": {},
     "output_type": "execute_result"
    }
   ],
   "source": [
    "# 逆转归一化\n",
    "x_returned = x_nor * (x.max() - x.min()) + x.min()\n",
    "x_returned"
   ]
  },
  {
   "cell_type": "markdown",
   "metadata": {},
   "source": [
    "# sklearn preprocessing.MinMaxScaler 实现归一化\n",
    "\n",
    "- 缩放到一个指定的最大和最小值(通常是1-0，可超过这个区间范围)之间,这可以通过preprocessing.MinMaxScaler类实现\n",
    "\n",
    "\n",
    "- MinMaxScaler 移动数据，使所有特征都刚好位于 0 和 1 之间"
   ]
  },
  {
   "cell_type": "code",
   "execution_count": 40,
   "metadata": {
    "ExecuteTime": {
     "end_time": "2020-02-26T17:10:29.359078Z",
     "start_time": "2020-02-26T17:10:29.356082Z"
    }
   },
   "outputs": [],
   "source": [
    "from sklearn.preprocessing import MinMaxScaler"
   ]
  },
  {
   "cell_type": "code",
   "execution_count": 41,
   "metadata": {
    "ExecuteTime": {
     "end_time": "2020-02-26T17:10:30.063643Z",
     "start_time": "2020-02-26T17:10:30.052649Z"
    }
   },
   "outputs": [
    {
     "name": "stdout",
     "output_type": "stream",
     "text": [
      "[[0.5        0.         1.        ]\n",
      " [1.         0.5        0.33333333]\n",
      " [0.         1.         0.        ]]\n"
     ]
    }
   ],
   "source": [
    "from sklearn.preprocessing import MinMaxScaler\n",
    "import numpy as np\n",
    "\n",
    "X = np.array([[ 1., -1.,  2.],\n",
    "               [ 2.,  0.,  0.],\n",
    "               [ 0.,  1., -1.]])\n",
    "\n",
    "scaler=MinMaxScaler()\n",
    "X_train_minmax=scaler.fit_transform(X)\n",
    "print(X_train_minmax)"
   ]
  },
  {
   "cell_type": "code",
   "execution_count": 42,
   "metadata": {
    "ExecuteTime": {
     "end_time": "2020-02-26T17:10:30.737224Z",
     "start_time": "2020-02-26T17:10:30.724232Z"
    }
   },
   "outputs": [
    {
     "name": "stdout",
     "output_type": "stream",
     "text": [
      "[1.         0.         0.33333333]\n",
      "[0.66666667 0.66666667 1.55555556]\n",
      "[[ 0.         -1.22474487  1.33630621]\n",
      " [ 1.22474487  0.         -0.26726124]\n",
      " [-1.22474487  1.22474487 -1.06904497]]\n"
     ]
    }
   ],
   "source": [
    "from sklearn.preprocessing import StandardScaler\n",
    "import numpy as np\n",
    "\n",
    "X = np.array([[ 1., -1.,  2.],\n",
    "               [ 2.,  0.,  0.],\n",
    "               [ 0.,  1., -1.]])\n",
    "\n",
    "scaler=StandardScaler()\n",
    "scaler.fit(X)\n",
    "print(scaler.mean_)\n",
    "print(scaler.var_)\n",
    "print(scaler.transform(X))"
   ]
  },
  {
   "cell_type": "code",
   "execution_count": 43,
   "metadata": {
    "ExecuteTime": {
     "end_time": "2020-02-26T17:10:31.650658Z",
     "start_time": "2020-02-26T17:10:31.644661Z"
    }
   },
   "outputs": [],
   "source": [
    "data = [[-1, 2], [-0.5, 6], [0, 10], [1, 18]]"
   ]
  },
  {
   "cell_type": "code",
   "execution_count": 44,
   "metadata": {
    "ExecuteTime": {
     "end_time": "2020-02-26T17:10:32.751064Z",
     "start_time": "2020-02-26T17:10:32.740072Z"
    }
   },
   "outputs": [
    {
     "data": {
      "text/plain": [
       "MinMaxScaler(copy=True, feature_range=(0, 1))"
      ]
     },
     "execution_count": 44,
     "metadata": {},
     "output_type": "execute_result"
    }
   ],
   "source": [
    "# scaler缩放器；缩放控制器\n",
    "# 实现归一化\n",
    "scaler = MinMaxScaler()              \n",
    "#实例化\n",
    "scaler"
   ]
  },
  {
   "cell_type": "code",
   "execution_count": 45,
   "metadata": {
    "ExecuteTime": {
     "end_time": "2020-02-26T17:10:34.189247Z",
     "start_time": "2020-02-26T17:10:34.180251Z"
    }
   },
   "outputs": [
    {
     "data": {
      "text/plain": [
       "MinMaxScaler(copy=True, feature_range=(0, 1))"
      ]
     },
     "execution_count": 45,
     "metadata": {},
     "output_type": "execute_result"
    }
   ],
   "source": [
    "scaler = scaler.fit(data)    \n",
    "# fit合适；拟合\n",
    "scaler"
   ]
  },
  {
   "cell_type": "code",
   "execution_count": 173,
   "metadata": {
    "ExecuteTime": {
     "end_time": "2020-02-25T13:37:07.054531Z",
     "start_time": "2020-02-25T13:37:07.023553Z"
    }
   },
   "outputs": [],
   "source": [
    "scaler?"
   ]
  },
  {
   "cell_type": "code",
   "execution_count": 46,
   "metadata": {
    "ExecuteTime": {
     "end_time": "2020-02-26T17:10:44.438181Z",
     "start_time": "2020-02-26T17:10:44.428187Z"
    }
   },
   "outputs": [
    {
     "data": {
      "text/plain": [
       "(0, 1)"
      ]
     },
     "execution_count": 46,
     "metadata": {},
     "output_type": "execute_result"
    }
   ],
   "source": [
    "scaler.feature_range "
   ]
  },
  {
   "cell_type": "code",
   "execution_count": 47,
   "metadata": {
    "ExecuteTime": {
     "end_time": "2020-02-26T17:10:45.845306Z",
     "start_time": "2020-02-26T17:10:45.837312Z"
    }
   },
   "outputs": [
    {
     "data": {
      "text/plain": [
       "array([[0.  , 0.  ],\n",
       "       [0.25, 0.25],\n",
       "       [0.5 , 0.5 ],\n",
       "       [1.  , 1.  ]])"
      ]
     },
     "execution_count": 47,
     "metadata": {},
     "output_type": "execute_result"
    }
   ],
   "source": [
    "result = scaler.transform(data)      \n",
    "# 通过接口导出结果 transform转换；转化；转变，变革\n",
    "result"
   ]
  },
  {
   "cell_type": "code",
   "execution_count": 48,
   "metadata": {
    "ExecuteTime": {
     "end_time": "2020-02-26T17:10:48.606719Z",
     "start_time": "2020-02-26T17:10:48.596726Z"
    }
   },
   "outputs": [
    {
     "data": {
      "text/plain": [
       "array([[-1. ,  2. ],\n",
       "       [-0.5,  6. ],\n",
       "       [ 0. , 10. ],\n",
       "       [ 1. , 18. ]])"
      ]
     },
     "execution_count": 48,
     "metadata": {},
     "output_type": "execute_result"
    }
   ],
   "source": [
    "# inverse反面；相反的事物\n",
    "# 将归一化后的结果逆转\n",
    "scaler.inverse_transform(result)     "
   ]
  },
  {
   "cell_type": "code",
   "execution_count": 49,
   "metadata": {
    "ExecuteTime": {
     "end_time": "2020-02-26T17:10:49.991921Z",
     "start_time": "2020-02-26T17:10:49.982925Z"
    }
   },
   "outputs": [
    {
     "data": {
      "text/plain": [
       "array([-1.,  2.])"
      ]
     },
     "execution_count": 49,
     "metadata": {},
     "output_type": "execute_result"
    }
   ],
   "source": [
    "scaler.data_min_"
   ]
  },
  {
   "cell_type": "code",
   "execution_count": 50,
   "metadata": {
    "ExecuteTime": {
     "end_time": "2020-02-26T17:10:51.829875Z",
     "start_time": "2020-02-26T17:10:51.819879Z"
    }
   },
   "outputs": [
    {
     "data": {
      "text/plain": [
       "array([ 1., 18.])"
      ]
     },
     "execution_count": 50,
     "metadata": {},
     "output_type": "execute_result"
    }
   ],
   "source": [
    "scaler.data_max_"
   ]
  },
  {
   "cell_type": "code",
   "execution_count": 51,
   "metadata": {
    "ExecuteTime": {
     "end_time": "2020-02-26T17:10:54.406313Z",
     "start_time": "2020-02-26T17:10:54.397318Z"
    }
   },
   "outputs": [
    {
     "data": {
      "text/plain": [
       "array([ 2., 16.])"
      ]
     },
     "execution_count": 51,
     "metadata": {},
     "output_type": "execute_result"
    }
   ],
   "source": [
    "scaler.data_range_\n",
    "# range范围；值域；全距\n",
    "# 初始化的scaler对象缩放器的范围 最小值2 最大值18"
   ]
  },
  {
   "cell_type": "code",
   "execution_count": 52,
   "metadata": {
    "ExecuteTime": {
     "end_time": "2020-02-26T17:10:55.751480Z",
     "start_time": "2020-02-26T17:10:55.740485Z"
    }
   },
   "outputs": [
    {
     "data": {
      "text/plain": [
       "array([[ 5.  ,  5.  ],\n",
       "       [ 6.25,  6.25],\n",
       "       [ 7.5 ,  7.5 ],\n",
       "       [10.  , 10.  ]])"
      ]
     },
     "execution_count": 52,
     "metadata": {},
     "output_type": "execute_result"
    }
   ],
   "source": [
    "# 使用MinMaxScaler的参数feature_range实现将数据归一化到[0,1]以外的范围中\n",
    "# feature range 特征范围\n",
    "scaler = MinMaxScaler(feature_range=[5,10])    \n",
    "# 初始化，特征范围在5-10区间内\n",
    "result = scaler.fit_transform(data)            \n",
    "# fit_transform一步导出结果\n",
    "result"
   ]
  },
  {
   "cell_type": "markdown",
   "metadata": {},
   "source": [
    "# partial_fit 100GB数据切割训练做预处理\n",
    "\n",
    "- 当X中的特征数量非常多的时候，fit会报错并表示，数据量太大计算不了\n",
    "- 此时使用partial_fit作为训练接口    \n",
    "- scaler = scaler.partial_fit(data)\n",
    "- partial_fit这个方法的一般用在如果训练集数据量非常大，一次不能全部载入内存的时候\n",
    "- 这时我们可以把训练集分成若干等分，重复调用partial_fit来一步步的学习训练集\n",
    "- partial 偏袒的；局部的；不公平的\n",
    "- 使用该方法时，最好每次数据块都足够大，推荐每次填满整个内存\n",
    "- 通过连续调用partial_fit方法，成百上千GB的数据集就可以被切成一块一块地来进行训练\n",
    "- partial_fit(X,y,classes=None,sample_weight=None)"
   ]
  },
  {
   "cell_type": "code",
   "execution_count": 53,
   "metadata": {
    "ExecuteTime": {
     "end_time": "2020-02-26T17:12:18.367439Z",
     "start_time": "2020-02-26T17:12:18.357446Z"
    }
   },
   "outputs": [
    {
     "data": {
      "text/plain": [
       "MinMaxScaler(copy=True, feature_range=[5, 10])"
      ]
     },
     "execution_count": 53,
     "metadata": {},
     "output_type": "execute_result"
    }
   ],
   "source": [
    "partial_data = scaler.partial_fit(data)\n",
    "partial_data"
   ]
  },
  {
   "cell_type": "code",
   "execution_count": 54,
   "metadata": {
    "ExecuteTime": {
     "end_time": "2020-02-26T17:12:19.602814Z",
     "start_time": "2020-02-26T17:12:19.595818Z"
    }
   },
   "outputs": [
    {
     "data": {
      "text/plain": [
       "[5, 10]"
      ]
     },
     "execution_count": 54,
     "metadata": {},
     "output_type": "execute_result"
    }
   ],
   "source": [
    "partial_data.feature_range "
   ]
  },
  {
   "cell_type": "markdown",
   "metadata": {},
   "source": [
    "# 数据标准化-数据归一化区别\n",
    "\n",
    "\n",
    "- 每个值减去均值后除以标准差，让每个值都变小；\n",
    "- 原先的分布是否符合正太分布，标准化后也是否符合正太分布；\n",
    "- 标准化只是将数据比例缩小；\n",
    "- 做了位置和大小转变\n",
    "\n",
    "\n",
    "- 大样本大数定理下，是否大量数据符合正太分布？\n",
    "- =>也是不符合，原有样本不会因为标准化导致正太\n",
    "\n",
    "\n",
    "- 每次样本取出均值Xi，取多次数据，X1X2X3...Xn\n",
    "- 这些Xn的变量的平均数为： ∑(X1+X2+Xn)/n=X拔\n",
    "- 平均值的分布是大数定理，跟标准化无关\n",
    "\n",
    "\n",
    "- 归一化，x-min/max-min，区间一定在0-1之间；\n",
    "- 标准化，x-μ/δ，区间不一定在0-1，会超过，仍然是正无穷和负无穷之间\n",
    "\n",
    "\n",
    "- 归一化对异常值处理会出现异常情况，导致数据极端小\n",
    "- 标准化会减少这种异常情况使得数据分布更泛\n",
    "- 标准化比归一化更好\n"
   ]
  },
  {
   "cell_type": "markdown",
   "metadata": {},
   "source": [
    "# 标准化公式计算\n",
    "\n",
    "\n",
    "- StandardScaler 确保每个特征的平均值为 0、方差为 1，使所有特征都位于同一量级。\n",
    "\n",
    "\n",
    "$$x^* = \\frac{x-μ}\\sigma$$ "
   ]
  },
  {
   "cell_type": "code",
   "execution_count": 55,
   "metadata": {
    "ExecuteTime": {
     "end_time": "2020-02-26T17:12:44.693519Z",
     "start_time": "2020-02-26T17:12:44.676530Z"
    }
   },
   "outputs": [
    {
     "name": "stdout",
     "output_type": "stream",
     "text": [
      "[1.         0.         0.33333333]\n",
      "[0.66666667 0.66666667 1.55555556]\n",
      "[[ 0.         -1.22474487  1.33630621]\n",
      " [ 1.22474487  0.         -0.26726124]\n",
      " [-1.22474487  1.22474487 -1.06904497]]\n"
     ]
    }
   ],
   "source": [
    "from sklearn.preprocessing import StandardScaler\n",
    "import numpy as np\n",
    "\n",
    "X = np.array([[ 1., -1.,  2.],\n",
    "               [ 2.,  0.,  0.],\n",
    "               [ 0.,  1., -1.]])\n",
    "\n",
    "scaler=StandardScaler()\n",
    "scaler.fit(X)\n",
    "print(scaler.mean_)\n",
    "print(scaler.var_)\n",
    "print(scaler.transform(X))"
   ]
  },
  {
   "cell_type": "code",
   "execution_count": 56,
   "metadata": {
    "ExecuteTime": {
     "end_time": "2020-02-26T17:12:47.659072Z",
     "start_time": "2020-02-26T17:12:47.650078Z"
    }
   },
   "outputs": [
    {
     "data": {
      "text/plain": [
       "[[-1, 2], [-0.5, 6], [0, 10], [1, 18]]"
      ]
     },
     "execution_count": 56,
     "metadata": {},
     "output_type": "execute_result"
    }
   ],
   "source": [
    "data = [[-1, 2], [-0.5, 6], [0, 10], [1, 18]]\n",
    "data"
   ]
  },
  {
   "cell_type": "code",
   "execution_count": 57,
   "metadata": {
    "ExecuteTime": {
     "end_time": "2020-02-26T17:12:48.613478Z",
     "start_time": "2020-02-26T17:12:48.603491Z"
    }
   },
   "outputs": [
    {
     "data": {
      "text/plain": [
       "StandardScaler(copy=True, with_mean=True, with_std=True)"
      ]
     },
     "execution_count": 57,
     "metadata": {},
     "output_type": "execute_result"
    }
   ],
   "source": [
    "from sklearn.preprocessing import StandardScaler\n",
    "scaler = StandardScaler()\n",
    "scaler.fit(data)\n",
    "# fit，本质是生成均值和方差"
   ]
  },
  {
   "cell_type": "code",
   "execution_count": 209,
   "metadata": {
    "ExecuteTime": {
     "end_time": "2020-02-25T14:14:48.418412Z",
     "start_time": "2020-02-25T14:14:48.407420Z"
    }
   },
   "outputs": [],
   "source": [
    "scaler?"
   ]
  },
  {
   "cell_type": "code",
   "execution_count": 58,
   "metadata": {
    "ExecuteTime": {
     "end_time": "2020-02-26T17:12:51.554821Z",
     "start_time": "2020-02-26T17:12:51.547828Z"
    }
   },
   "outputs": [
    {
     "data": {
      "text/plain": [
       "array([-0.125,  9.   ])"
      ]
     },
     "execution_count": 58,
     "metadata": {},
     "output_type": "execute_result"
    }
   ],
   "source": [
    "scaler.mean_\n",
    "# The mean value for each feature in the training set.\n",
    "# 训练集中每个特征的平均值\n",
    "# 每列的均值"
   ]
  },
  {
   "cell_type": "code",
   "execution_count": 59,
   "metadata": {
    "ExecuteTime": {
     "end_time": "2020-02-26T17:12:52.653230Z",
     "start_time": "2020-02-26T17:12:52.644236Z"
    }
   },
   "outputs": [
    {
     "data": {
      "text/plain": [
       "array([ 0.546875, 35.      ])"
      ]
     },
     "execution_count": 59,
     "metadata": {},
     "output_type": "execute_result"
    }
   ],
   "source": [
    "scaler.var_\n",
    "# 二维数据每列的方差"
   ]
  },
  {
   "cell_type": "code",
   "execution_count": 60,
   "metadata": {
    "ExecuteTime": {
     "end_time": "2020-02-26T17:12:55.067802Z",
     "start_time": "2020-02-26T17:12:55.057810Z"
    }
   },
   "outputs": [
    {
     "data": {
      "text/plain": [
       "array([[-1.18321596, -1.18321596],\n",
       "       [-0.50709255, -0.50709255],\n",
       "       [ 0.16903085,  0.16903085],\n",
       "       [ 1.52127766,  1.52127766]])"
      ]
     },
     "execution_count": 60,
     "metadata": {},
     "output_type": "execute_result"
    }
   ],
   "source": [
    "x_std = scaler.transform(data)    \n",
    "# 对数据仅转换处理，使得转换为标准化数据\n",
    "x_std"
   ]
  },
  {
   "cell_type": "code",
   "execution_count": 61,
   "metadata": {
    "ExecuteTime": {
     "end_time": "2020-02-26T17:12:56.893788Z",
     "start_time": "2020-02-26T17:12:56.882796Z"
    }
   },
   "outputs": [
    {
     "data": {
      "text/plain": [
       "array([[-1.18321596, -1.18321596],\n",
       "       [-0.50709255, -0.50709255],\n",
       "       [ 0.16903085,  0.16903085],\n",
       "       [ 1.52127766,  1.52127766]])"
      ]
     },
     "execution_count": 61,
     "metadata": {},
     "output_type": "execute_result"
    }
   ],
   "source": [
    "scaler2 = scaler.fit_transform(data)\n",
    "scaler2\n",
    "# fit_transform =  fit  + transform"
   ]
  },
  {
   "cell_type": "code",
   "execution_count": 63,
   "metadata": {
    "ExecuteTime": {
     "end_time": "2020-02-26T17:13:15.686842Z",
     "start_time": "2020-02-26T17:13:15.679847Z"
    }
   },
   "outputs": [
    {
     "data": {
      "text/plain": [
       "array([-0.125,  9.   ])"
      ]
     },
     "execution_count": 63,
     "metadata": {},
     "output_type": "execute_result"
    }
   ],
   "source": [
    "scaler.mean_\n",
    "# 均值"
   ]
  },
  {
   "cell_type": "code",
   "execution_count": 68,
   "metadata": {
    "ExecuteTime": {
     "end_time": "2020-02-26T17:13:49.577283Z",
     "start_time": "2020-02-26T17:13:49.570294Z"
    }
   },
   "outputs": [
    {
     "data": {
      "text/plain": [
       "array([ 0.546875, 35.      ])"
      ]
     },
     "execution_count": 68,
     "metadata": {},
     "output_type": "execute_result"
    }
   ],
   "source": [
    "scaler.var_\n",
    "# 方差"
   ]
  },
  {
   "cell_type": "code",
   "execution_count": 69,
   "metadata": {
    "ExecuteTime": {
     "end_time": "2020-02-26T17:13:52.018769Z",
     "start_time": "2020-02-26T17:13:52.009774Z"
    }
   },
   "outputs": [
    {
     "data": {
      "text/plain": [
       "array([[-1. ,  2. ],\n",
       "       [-0.5,  6. ],\n",
       "       [ 0. , 10. ],\n",
       "       [ 1. , 18. ]])"
      ]
     },
     "execution_count": 69,
     "metadata": {},
     "output_type": "execute_result"
    }
   ],
   "source": [
    "scaler.inverse_transform(x_std)   \n",
    "# 使用inverse_transform逆转标准化"
   ]
  },
  {
   "cell_type": "markdown",
   "metadata": {},
   "source": [
    "# 数据标准化不会改变数据分布\n"
   ]
  },
  {
   "cell_type": "code",
   "execution_count": 70,
   "metadata": {
    "ExecuteTime": {
     "end_time": "2020-02-26T17:14:09.888294Z",
     "start_time": "2020-02-26T17:14:09.883296Z"
    }
   },
   "outputs": [],
   "source": [
    "from sklearn.preprocessing import StandardScaler  \n",
    "# 导入标准化包\n",
    "from sklearn.preprocessing import MinMaxScaler\n",
    "# 导入归一化包"
   ]
  },
  {
   "cell_type": "code",
   "execution_count": 72,
   "metadata": {
    "ExecuteTime": {
     "end_time": "2020-02-26T17:14:18.114560Z",
     "start_time": "2020-02-26T17:14:17.722810Z"
    }
   },
   "outputs": [
    {
     "data": {
      "image/png": "[encoded data removed]",
      "text/plain": [
       "<Figure size 432x288 with 1 Axes>"
      ]
     },
     "metadata": {},
     "output_type": "display_data"
    }
   ],
   "source": [
    "import matplotlib.pyplot as plt   \n",
    "import seaborn as sns\n",
    "sns.set_style(\"whitegrid\")\n",
    "# 导入可视化包\n",
    "# exponential指数的；由指数表示的；越来越快的\n",
    "ex = np.random.exponential(size=1000)\n",
    "# 指数公式 y=e x次方 长尾分布\n",
    "sns.boxplot(ex)\n",
    "plt.show()"
   ]
  },
  {
   "cell_type": "code",
   "execution_count": 73,
   "metadata": {
    "ExecuteTime": {
     "end_time": "2020-02-26T17:14:28.574651Z",
     "start_time": "2020-02-26T17:14:28.082956Z"
    }
   },
   "outputs": [
    {
     "data": {
      "text/plain": [
       "<matplotlib.axes._subplots.AxesSubplot at 0x1acca6d1a08>"
      ]
     },
     "execution_count": 73,
     "metadata": {},
     "output_type": "execute_result"
    },
    {
     "data": {
      "image/png": "[encoded data removed]",
      "text/plain": [
       "<Figure size 432x288 with 1 Axes>"
      ]
     },
     "metadata": {},
     "output_type": "display_data"
    }
   ],
   "source": [
    "import seaborn as sns\n",
    "sns.distplot(ex,bins=20)\n",
    "# 分布图 distributed分布式；分散式；分布式的\n",
    "# 设置了20个矩形条"
   ]
  },
  {
   "cell_type": "code",
   "execution_count": 74,
   "metadata": {
    "ExecuteTime": {
     "end_time": "2020-02-26T17:14:32.038669Z",
     "start_time": "2020-02-26T17:14:31.585956Z"
    }
   },
   "outputs": [
    {
     "data": {
      "text/plain": [
       "<matplotlib.axes._subplots.AxesSubplot at 0x1accbdfbc88>"
      ]
     },
     "execution_count": 74,
     "metadata": {},
     "output_type": "execute_result"
    },
    {
     "data": {
      "image/png": "[encoded data removed]",
      "text/plain": [
       "<Figure size 432x288 with 1 Axes>"
      ]
     },
     "metadata": {},
     "output_type": "display_data"
    }
   ],
   "source": [
    "sns.kdeplot(ex,shade=True)\n",
    "# shade控制阴影"
   ]
  },
  {
   "cell_type": "code",
   "execution_count": 75,
   "metadata": {
    "ExecuteTime": {
     "end_time": "2020-02-26T17:14:40.878496Z",
     "start_time": "2020-02-26T17:14:40.869504Z"
    }
   },
   "outputs": [
    {
     "data": {
      "text/plain": [
       "(1000,)"
      ]
     },
     "execution_count": 75,
     "metadata": {},
     "output_type": "execute_result"
    }
   ],
   "source": [
    "ex.shape\n",
    "# 1列1000行数据，代入算法API内需转成二维维度\n",
    "# reshape(-1,1)可将一维转成二维"
   ]
  },
  {
   "cell_type": "code",
   "execution_count": 76,
   "metadata": {
    "ExecuteTime": {
     "end_time": "2020-02-26T17:14:41.722990Z",
     "start_time": "2020-02-26T17:14:41.712995Z"
    }
   },
   "outputs": [
    {
     "data": {
      "text/plain": [
       "sklearn.preprocessing.data.MinMaxScaler"
      ]
     },
     "execution_count": 76,
     "metadata": {},
     "output_type": "execute_result"
    }
   ],
   "source": [
    "type(MinMaxScaler(ex))"
   ]
  },
  {
   "cell_type": "code",
   "execution_count": 78,
   "metadata": {
    "ExecuteTime": {
     "end_time": "2020-02-26T17:14:48.280395Z",
     "start_time": "2020-02-26T17:14:48.275404Z"
    }
   },
   "outputs": [],
   "source": [
    "# ex.reshape(-1,1)\n",
    "# array([[5.96881808e-01],[6.21533398e-01],[3.89783557e-01],"
   ]
  },
  {
   "cell_type": "code",
   "execution_count": 79,
   "metadata": {
    "ExecuteTime": {
     "end_time": "2020-02-26T17:14:50.032415Z",
     "start_time": "2020-02-26T17:14:50.024423Z"
    }
   },
   "outputs": [
    {
     "data": {
      "text/plain": [
       "numpy.ndarray"
      ]
     },
     "execution_count": 79,
     "metadata": {},
     "output_type": "execute_result"
    }
   ],
   "source": [
    "type(ex.reshape(-1,1))"
   ]
  },
  {
   "cell_type": "code",
   "execution_count": 80,
   "metadata": {
    "ExecuteTime": {
     "end_time": "2020-02-26T17:14:50.784083Z",
     "start_time": "2020-02-26T17:14:50.777091Z"
    }
   },
   "outputs": [
    {
     "data": {
      "text/plain": [
       "(1000, 1)"
      ]
     },
     "execution_count": 80,
     "metadata": {},
     "output_type": "execute_result"
    }
   ],
   "source": [
    "ex.reshape(-1,1).shape"
   ]
  },
  {
   "cell_type": "code",
   "execution_count": 81,
   "metadata": {
    "ExecuteTime": {
     "end_time": "2020-02-26T17:14:55.646188Z",
     "start_time": "2020-02-26T17:14:55.515268Z"
    }
   },
   "outputs": [
    {
     "data": {
      "text/plain": [
       "MinMaxScaler(copy=True,\n",
       "             feature_range=array([6.55887162e-01, 8.78661855e-01, 6.89684011e-01, 7.38990517e-01,\n",
       "       6.68582392e-02, 5.03404978e-01, 9.72054034e-01, 3.79350538e-01,\n",
       "       1.35410698e+00, 1.20892030e+00, 6.01581719e-01, 3.83603714e-01,\n",
       "       1.44245214e+00, 4.16373402e-01, 1.01228469e+00, 1.51103336e-02,\n",
       "       1.05974315e+00, 1.51797035e+00, 6.66790919e-02, 4.19445795e-01,\n",
       "       3.0019...\n",
       "       4.34595964e-01, 9.65982228e-01, 5.94581771e-01, 8.74265367e-01,\n",
       "       1.24603752e+00, 5.11988702e-02, 5.32461166e-01, 5.08069505e-01,\n",
       "       1.18429069e+00, 4.42324064e-01, 1.43093792e+00, 6.22143184e-01,\n",
       "       2.32098948e+00, 1.58132208e+00, 3.39394118e+00, 6.74501981e-01,\n",
       "       1.36798263e+00, 1.98694249e+00, 3.38635972e-01, 2.47140092e-01,\n",
       "       5.82892378e-01, 1.89872344e+00, 8.64809794e-02, 1.87665594e+00]))"
      ]
     },
     "execution_count": 81,
     "metadata": {},
     "output_type": "execute_result"
    }
   ],
   "source": [
    "MinMaxScaler(ex)\n",
    "# 对数据集进行归一化处理"
   ]
  },
  {
   "cell_type": "code",
   "execution_count": 82,
   "metadata": {
    "ExecuteTime": {
     "end_time": "2020-02-26T17:14:59.735022Z",
     "start_time": "2020-02-26T17:14:59.730024Z"
    },
    "scrolled": true
   },
   "outputs": [],
   "source": [
    "ext = ex.reshape(-1,1)\n",
    "mmsext = MinMaxScaler(ext)\n",
    "# mmsext\n",
    "# MinMaxScaler(copy=True,feature_range=array([[6.86503501e-01],[4.68746145e-01],[3.31356471e-01],"
   ]
  },
  {
   "cell_type": "code",
   "execution_count": 83,
   "metadata": {
    "ExecuteTime": {
     "end_time": "2020-02-26T17:15:01.352107Z",
     "start_time": "2020-02-26T17:15:00.929371Z"
    }
   },
   "outputs": [
    {
     "data": {
      "text/plain": [
       "<matplotlib.axes._subplots.AxesSubplot at 0x1accc158988>"
      ]
     },
     "execution_count": 83,
     "metadata": {},
     "output_type": "execute_result"
    },
    {
     "data": {
      "image/png": "[encoded data removed]",
      "text/plain": [
       "<Figure size 432x288 with 1 Axes>"
      ]
     },
     "metadata": {},
     "output_type": "display_data"
    }
   ],
   "source": [
    "# feature_range=array,可通过二维数组形式绘图\n",
    "sns.boxplot(mmsext.feature_range)"
   ]
  },
  {
   "cell_type": "code",
   "execution_count": 84,
   "metadata": {
    "ExecuteTime": {
     "end_time": "2020-02-26T17:15:09.534292Z",
     "start_time": "2020-02-26T17:15:09.012617Z"
    }
   },
   "outputs": [
    {
     "data": {
      "text/plain": [
       "(array([538., 261., 110.,  48.,  24.,  10.,   4.,   2.,   1.,   2.]),\n",
       " array([7.18574369e-04, 7.74797369e-01, 1.54887616e+00, 2.32295496e+00,\n",
       "        3.09703375e+00, 3.87111255e+00, 4.64519134e+00, 5.41927013e+00,\n",
       "        6.19334893e+00, 6.96742772e+00, 7.74150652e+00]),\n",
       " <a list of 10 Patch objects>)"
      ]
     },
     "execution_count": 84,
     "metadata": {},
     "output_type": "execute_result"
    },
    {
     "data": {
      "image/png": "[encoded data removed]",
      "text/plain": [
       "<Figure size 432x288 with 1 Axes>"
      ]
     },
     "metadata": {},
     "output_type": "display_data"
    }
   ],
   "source": [
    "plt.hist(mmsext.feature_range)"
   ]
  },
  {
   "cell_type": "code",
   "execution_count": 85,
   "metadata": {
    "ExecuteTime": {
     "end_time": "2020-02-26T17:15:12.584492Z",
     "start_time": "2020-02-26T17:15:12.126779Z"
    }
   },
   "outputs": [
    {
     "data": {
      "image/png": "[encoded data removed]",
      "text/plain": [
       "<Figure size 432x288 with 1 Axes>"
      ]
     },
     "metadata": {},
     "output_type": "display_data"
    }
   ],
   "source": [
    "a = np.random.rand(100)           \n",
    "# 生成100个随机数\n",
    "a = a.reshape(-1,1)               \n",
    "# sklearn只允许输入至少二维数组，所以需要对数据进行格式转换  \n",
    "a = np.sort(a)                          \n",
    "# 对数据进行排序\n",
    "plt.hist(a);                      \n",
    "# 绘制直方图"
   ]
  },
  {
   "cell_type": "code",
   "execution_count": 86,
   "metadata": {
    "ExecuteTime": {
     "end_time": "2020-02-26T17:15:19.341690Z",
     "start_time": "2020-02-26T17:15:19.331698Z"
    }
   },
   "outputs": [
    {
     "data": {
      "text/plain": [
       "array([0.11400897, 0.15375719, 0.43376345, 0.47801202, 0.53206419,\n",
       "       0.62913152, 0.72758992, 0.81932254, 0.82305561, 0.91343048])"
      ]
     },
     "execution_count": 86,
     "metadata": {},
     "output_type": "execute_result"
    }
   ],
   "source": [
    "a = np.random.rand(10)\n",
    "a = np.sort(a)\n",
    "a"
   ]
  },
  {
   "cell_type": "code",
   "execution_count": 87,
   "metadata": {
    "ExecuteTime": {
     "end_time": "2020-02-26T17:15:23.277432Z",
     "start_time": "2020-02-26T17:15:22.819719Z"
    }
   },
   "outputs": [
    {
     "data": {
      "image/png": "[encoded data removed]",
      "text/plain": [
       "<Figure size 432x288 with 1 Axes>"
      ]
     },
     "metadata": {},
     "output_type": "display_data"
    }
   ],
   "source": [
    "# 对数据进行标准化处理\n",
    "# Standard规格；标准型；标准房\n",
    "from sklearn.preprocessing import StandardScaler  \n",
    "scaler = StandardScaler()   \n",
    "# 随机1000个数，随机后进行sort排序，排序后生成二维数组\n",
    "# 对二维数组进行缩放器处理，标准化处理，(x-μ)/δ\n",
    "b = scaler.fit_transform(np.sort(np.random.rand(1000)).reshape(-1,1))                       \n",
    "plt.hist(b);                        "
   ]
  },
  {
   "cell_type": "code",
   "execution_count": 88,
   "metadata": {
    "ExecuteTime": {
     "end_time": "2020-02-26T17:15:23.820096Z",
     "start_time": "2020-02-26T17:15:23.376375Z"
    }
   },
   "outputs": [
    {
     "data": {
      "image/png": "[encoded data removed]",
      "text/plain": [
       "<Figure size 432x288 with 1 Axes>"
      ]
     },
     "metadata": {},
     "output_type": "display_data"
    }
   ],
   "source": [
    "#标准正态分布的直方图\n",
    "# numpy.random.randn(dx)是从标准正态分布中返回一个或多个样本值\n",
    "# numpy.random.rand(d0, d1, …, dn)的随机样本位于[0, 1)之间\n",
    "c = np.random.randn(1000)\n",
    "# c.sort()\n",
    "c = np.sort(c)\n",
    "plt.hist(c);"
   ]
  },
  {
   "cell_type": "markdown",
   "metadata": {
    "ExecuteTime": {
     "end_time": "2020-02-26T17:16:26.876266Z",
     "start_time": "2020-02-26T17:16:26.867274Z"
    }
   },
   "source": [
    "# 正则化\n",
    "\n",
    "\n",
    "- Normalizer 它对每个数据点进行缩放，使得特征向量的欧式长度等于 1 "
   ]
  },
  {
   "cell_type": "code",
   "execution_count": 89,
   "metadata": {
    "ExecuteTime": {
     "end_time": "2020-02-26T17:16:11.488030Z",
     "start_time": "2020-02-26T17:16:11.477040Z"
    }
   },
   "outputs": [
    {
     "name": "stdout",
     "output_type": "stream",
     "text": [
      "[[ 0.40824829 -0.40824829  0.81649658]\n",
      " [ 1.          0.          0.        ]\n",
      " [ 0.          0.70710678 -0.70710678]]\n"
     ]
    }
   ],
   "source": [
    "from sklearn.preprocessing import Normalizer\n",
    "import numpy as np\n",
    "\n",
    "X = np.array([[ 1., -1.,  2.],\n",
    "               [ 2.,  0.,  0.],\n",
    "               [ 0.,  1., -1.]])\n",
    "\n",
    "scaler=Normalizer(norm='l2')\n",
    "X=scaler.fit_transform(X)\n",
    "print(X)"
   ]
  },
  {
   "cell_type": "markdown",
   "metadata": {},
   "source": [
    "# 缺失值处理-SimpleImputer"
   ]
  },
  {
   "cell_type": "markdown",
   "metadata": {
    "ExecuteTime": {
     "end_time": "2020-02-25T16:02:15.908257Z",
     "start_time": "2020-02-25T16:02:15.890269Z"
    }
   },
   "source": [
    "- SimpleImputer?这个类是专⻔⽤来填补缺失值的\n",
    "\n",
    "- strategy : string, optional (default=\"mean\") \n",
    "- 策略：字符串，可选（默认值=“平均值”） \n",
    "\n",
    "- The imputation strategy. \n",
    "- 归因策略\n",
    "\n",
    "- If \"mean\", then replace missing values using the mean along each column. Can only be used with numeric data. \n",
    "- 如果为“均值”，则使用均值和 每列。 只能与数字数据一起使用。 \n",
    "\n",
    "- If \"median\", then replace missing values using the median along each column. Can only be used with numeric data. \n",
    "- 如果为“中位数”，则使用中位数和 每列。 只能与数字数据一起使用。 \n",
    "\n",
    "- If \"most_frequent\", then replace missing using the most frequent value along each column. Can be used with strings or numeric data. \n",
    "- 如果为“ most_frequent”，则使用最频繁的位置替换丢失的内容 每列的值。 可以与字符串或数字数据一起使用。\n",
    "\n",
    "- If \"constant\", then replace missing values with fill_value. Can be used with strings or numeric data.\n",
    "- 如果为“常数”，则将缺失的值替换为fill_value。 可 与字符串或数字数据一起使用。"
   ]
  },
  {
   "cell_type": "code",
   "execution_count": 92,
   "metadata": {
    "ExecuteTime": {
     "end_time": "2020-02-26T17:17:39.075677Z",
     "start_time": "2020-02-26T17:17:39.049695Z"
    }
   },
   "outputs": [
    {
     "data": {
      "text/html": [
       "<div>\n",
       "<style scoped>\n",
       "    .dataframe tbody tr th:only-of-type {\n",
       "        vertical-align: middle;\n",
       "    }\n",
       "\n",
       "    .dataframe tbody tr th {\n",
       "        vertical-align: top;\n",
       "    }\n",
       "\n",
       "    .dataframe thead th {\n",
       "        text-align: right;\n",
       "    }\n",
       "</style>\n",
       "<table border=\"1\" class=\"dataframe\">\n",
       "  <thead>\n",
       "    <tr style=\"text-align: right;\">\n",
       "      <th></th>\n",
       "      <th>Age</th>\n",
       "      <th>Sex</th>\n",
       "      <th>Embarked</th>\n",
       "      <th>Survived</th>\n",
       "    </tr>\n",
       "  </thead>\n",
       "  <tbody>\n",
       "    <tr>\n",
       "      <td>0</td>\n",
       "      <td>22.0</td>\n",
       "      <td>male</td>\n",
       "      <td>S</td>\n",
       "      <td>No</td>\n",
       "    </tr>\n",
       "    <tr>\n",
       "      <td>1</td>\n",
       "      <td>38.0</td>\n",
       "      <td>female</td>\n",
       "      <td>C</td>\n",
       "      <td>Yes</td>\n",
       "    </tr>\n",
       "    <tr>\n",
       "      <td>2</td>\n",
       "      <td>26.0</td>\n",
       "      <td>female</td>\n",
       "      <td>S</td>\n",
       "      <td>Yes</td>\n",
       "    </tr>\n",
       "    <tr>\n",
       "      <td>3</td>\n",
       "      <td>35.0</td>\n",
       "      <td>female</td>\n",
       "      <td>S</td>\n",
       "      <td>Yes</td>\n",
       "    </tr>\n",
       "    <tr>\n",
       "      <td>4</td>\n",
       "      <td>35.0</td>\n",
       "      <td>male</td>\n",
       "      <td>S</td>\n",
       "      <td>No</td>\n",
       "    </tr>\n",
       "  </tbody>\n",
       "</table>\n",
       "</div>"
      ],
      "text/plain": [
       "    Age     Sex Embarked Survived\n",
       "0  22.0    male        S       No\n",
       "1  38.0  female        C      Yes\n",
       "2  26.0  female        S      Yes\n",
       "3  35.0  female        S      Yes\n",
       "4  35.0    male        S       No"
      ]
     },
     "execution_count": 92,
     "metadata": {},
     "output_type": "execute_result"
    }
   ],
   "source": [
    "import pandas as pd\n",
    "road = r\"D:\\Media\\Study\\classroom\\机器学习3-0224-\\20200225-数据预处理及特征工程\\Narrativedata.csv\"\n",
    "data = pd.read_csv(road)\n",
    "data.head()\n",
    "# Embarked上船；从事；装货；装(货)\n",
    "# Survived幸存；存活；生存\n",
    "# ：Embarked指乘客登船港⼝，S是英国的Southampton，C是法国的Cherbourg，Q是爱尔兰的Queens town）"
   ]
  },
  {
   "cell_type": "code",
   "execution_count": 93,
   "metadata": {
    "ExecuteTime": {
     "end_time": "2020-02-26T17:18:10.284123Z",
     "start_time": "2020-02-26T17:18:10.272129Z"
    }
   },
   "outputs": [
    {
     "name": "stdout",
     "output_type": "stream",
     "text": [
      "<class 'pandas.core.frame.DataFrame'>\n",
      "RangeIndex: 891 entries, 0 to 890\n",
      "Data columns (total 4 columns):\n",
      "Age         714 non-null float64\n",
      "Sex         891 non-null object\n",
      "Embarked    889 non-null object\n",
      "Survived    891 non-null object\n",
      "dtypes: float64(1), object(3)\n",
      "memory usage: 28.0+ KB\n"
     ]
    }
   ],
   "source": [
    "data.info()"
   ]
  },
  {
   "cell_type": "code",
   "execution_count": 96,
   "metadata": {
    "ExecuteTime": {
     "end_time": "2020-02-26T17:18:34.888762Z",
     "start_time": "2020-02-26T17:18:34.877775Z"
    }
   },
   "outputs": [
    {
     "data": {
      "text/plain": [
       "Age         177\n",
       "Sex           0\n",
       "Embarked      2\n",
       "Survived      0\n",
       "dtype: int64"
      ]
     },
     "execution_count": 96,
     "metadata": {},
     "output_type": "execute_result"
    }
   ],
   "source": [
    "# 查看缺失值\n",
    "# 布尔类型数据进行ture和false，对null空值进行求和，得到为空值的结果个数\n",
    "data.isnull().sum()"
   ]
  },
  {
   "cell_type": "code",
   "execution_count": 97,
   "metadata": {
    "ExecuteTime": {
     "end_time": "2020-02-26T17:18:38.283091Z",
     "start_time": "2020-02-26T17:18:38.271100Z"
    }
   },
   "outputs": [
    {
     "data": {
      "text/plain": [
       "Age         0.198653\n",
       "Sex         0.000000\n",
       "Embarked    0.002245\n",
       "Survived    0.000000\n",
       "dtype: float64"
      ]
     },
     "execution_count": 97,
     "metadata": {},
     "output_type": "execute_result"
    }
   ],
   "source": [
    "# 缺失值比例 mean平均值；中庸；平均数；中间\n",
    "data.isnull().mean()"
   ]
  },
  {
   "cell_type": "code",
   "execution_count": 99,
   "metadata": {
    "ExecuteTime": {
     "end_time": "2020-02-26T17:19:16.756208Z",
     "start_time": "2020-02-26T17:19:16.744215Z"
    }
   },
   "outputs": [
    {
     "data": {
      "text/plain": [
       "array([[22.],\n",
       "       [38.],\n",
       "       [26.],\n",
       "       [35.],\n",
       "       [35.],\n",
       "       [nan],\n",
       "       [54.],\n",
       "       [ 2.],\n",
       "       [27.],\n",
       "       [14.]])"
      ]
     },
     "execution_count": 99,
     "metadata": {},
     "output_type": "execute_result"
    }
   ],
   "source": [
    "# 填补年龄\n",
    "Age = data.loc[:,\"Age\"].values.reshape(-1,1)   \n",
    "# loc 行，列，查找所有的行，age这列字段，的values值，进行二维数组转变\n",
    "# sklearn当中特征矩阵必须是二维\n",
    "Age[:10]"
   ]
  },
  {
   "cell_type": "code",
   "execution_count": 100,
   "metadata": {
    "ExecuteTime": {
     "end_time": "2020-02-26T17:19:17.886506Z",
     "start_time": "2020-02-26T17:19:17.863520Z"
    }
   },
   "outputs": [
    {
     "name": "stdout",
     "output_type": "stream",
     "text": [
      "[[22.         38.         26.         35.         35.         29.69911765\n",
      "  54.          2.         27.         14.        ]]\n",
      "[[22. 38. 26. 35. 35. 28. 54.  2. 27. 14.]]\n",
      "[[22. 38. 26. 35. 35.  0. 54.  2. 27. 14.]]\n"
     ]
    }
   ],
   "source": [
    "from sklearn.impute import SimpleImputer\n",
    "# SimpleImputer 这个类是专⻔⽤来填补缺失值的\n",
    "# impute把…归咎于；把…归因于；把…转嫁于\n",
    "# Imputer 估算\n",
    "imp_mean = SimpleImputer()                              \n",
    "\n",
    "# 实例化，默认均值填补\n",
    "# 我们填补缺失值的策略，默认均值。\n",
    "# 输⼊“mean”使⽤均值填补（仅对数值型特征可⽤）\n",
    "# 输⼊“median\"⽤中值填补（仅对数值型特征可⽤）\n",
    "# 输⼊\"most_frequent”⽤众数填补（对数值型和字符型特征都可⽤）\n",
    "# 输⼊“constant\"表示请参考参数“fill_value\"中的值（对数值型和字符型特征都可⽤）\n",
    "# strategy 策略模式；谋略；计谋\n",
    "imp_median = SimpleImputer(strategy=\"median\")           \n",
    "\n",
    "#实例化，用中位数填补\n",
    "imp_0 = SimpleImputer(strategy=\"constant\",fill_value=0) \n",
    "# 实例化，用0填补\n",
    "# constant经常的；恒定的；永恒的常数；常量\n",
    "\n",
    "# fit_transform一步完成调取结果\n",
    "# mean均值填充\n",
    "imp_mean = imp_mean.fit_transform(Age)\n",
    "# median中位数填充\n",
    "imp_median = imp_median.fit_transform(Age)\n",
    "# 常数0填充\n",
    "imp_0 = imp_0.fit_transform(Age)\n",
    "\n",
    "# fit 适配 transform 转变\n",
    "# fit_transform 适配且转变\n",
    "\n",
    "print(imp_mean[:10].T)\n",
    "print(imp_median[:10].T)\n",
    "print(imp_0[:10].T)"
   ]
  },
  {
   "cell_type": "code",
   "execution_count": 101,
   "metadata": {
    "ExecuteTime": {
     "end_time": "2020-02-26T17:19:51.776771Z",
     "start_time": "2020-02-26T17:19:51.766779Z"
    }
   },
   "outputs": [
    {
     "data": {
      "text/plain": [
       "0"
      ]
     },
     "execution_count": 101,
     "metadata": {},
     "output_type": "execute_result"
    }
   ],
   "source": [
    "# 使用中位数填补Age,填充后没有空值在age字段值内\n",
    "data.loc[:,\"Age\"] = imp_median\n",
    "data.Age.isnull().sum()"
   ]
  },
  {
   "cell_type": "code",
   "execution_count": 102,
   "metadata": {
    "ExecuteTime": {
     "end_time": "2020-02-26T17:19:55.047836Z",
     "start_time": "2020-02-26T17:19:55.036843Z"
    }
   },
   "outputs": [
    {
     "name": "stdout",
     "output_type": "stream",
     "text": [
      "<class 'pandas.core.frame.DataFrame'>\n",
      "RangeIndex: 891 entries, 0 to 890\n",
      "Data columns (total 4 columns):\n",
      "Age         891 non-null float64\n",
      "Sex         891 non-null object\n",
      "Embarked    889 non-null object\n",
      "Survived    891 non-null object\n",
      "dtypes: float64(1), object(3)\n",
      "memory usage: 28.0+ KB\n"
     ]
    }
   ],
   "source": [
    "data.info()"
   ]
  },
  {
   "cell_type": "code",
   "execution_count": 103,
   "metadata": {
    "ExecuteTime": {
     "end_time": "2020-02-26T17:20:43.944438Z",
     "start_time": "2020-02-26T17:20:43.933447Z"
    }
   },
   "outputs": [],
   "source": [
    "# 使用众数填补Embarked\n",
    "# 分类变量，用众数进行填充\n",
    "# Embarked上船；从事；装货；装(货)\n",
    "# frequent频繁的；经常发生的 众数\n",
    "Embarked = data.loc[:,\"Embarked\"].values.reshape(-1,1)\n",
    "imp_mode = SimpleImputer(strategy = \"most_frequent\")\n",
    "data.loc[:,\"Embarked\"] = imp_mode.fit_transform(Embarked)"
   ]
  },
  {
   "cell_type": "code",
   "execution_count": 104,
   "metadata": {
    "ExecuteTime": {
     "end_time": "2020-02-26T17:20:48.744888Z",
     "start_time": "2020-02-26T17:20:48.734895Z"
    }
   },
   "outputs": [
    {
     "name": "stdout",
     "output_type": "stream",
     "text": [
      "<class 'pandas.core.frame.DataFrame'>\n",
      "RangeIndex: 891 entries, 0 to 890\n",
      "Data columns (total 4 columns):\n",
      "Age         891 non-null float64\n",
      "Sex         891 non-null object\n",
      "Embarked    891 non-null object\n",
      "Survived    891 non-null object\n",
      "dtypes: float64(1), object(3)\n",
      "memory usage: 28.0+ KB\n"
     ]
    }
   ],
   "source": [
    "data.info()"
   ]
  },
  {
   "attachments": {},
   "cell_type": "markdown",
   "metadata": {},
   "source": [
    "# 使用numpy和pandas填补缺失值"
   ]
  },
  {
   "cell_type": "code",
   "execution_count": 106,
   "metadata": {
    "ExecuteTime": {
     "end_time": "2020-02-26T17:21:15.889557Z",
     "start_time": "2020-02-26T17:21:15.853579Z"
    }
   },
   "outputs": [
    {
     "data": {
      "text/html": [
       "<div>\n",
       "<style scoped>\n",
       "    .dataframe tbody tr th:only-of-type {\n",
       "        vertical-align: middle;\n",
       "    }\n",
       "\n",
       "    .dataframe tbody tr th {\n",
       "        vertical-align: top;\n",
       "    }\n",
       "\n",
       "    .dataframe thead th {\n",
       "        text-align: right;\n",
       "    }\n",
       "</style>\n",
       "<table border=\"1\" class=\"dataframe\">\n",
       "  <thead>\n",
       "    <tr style=\"text-align: right;\">\n",
       "      <th></th>\n",
       "      <th>Age</th>\n",
       "      <th>Sex</th>\n",
       "      <th>Embarked</th>\n",
       "      <th>Survived</th>\n",
       "    </tr>\n",
       "  </thead>\n",
       "  <tbody>\n",
       "    <tr>\n",
       "      <td>0</td>\n",
       "      <td>22.0</td>\n",
       "      <td>male</td>\n",
       "      <td>S</td>\n",
       "      <td>No</td>\n",
       "    </tr>\n",
       "    <tr>\n",
       "      <td>1</td>\n",
       "      <td>38.0</td>\n",
       "      <td>female</td>\n",
       "      <td>C</td>\n",
       "      <td>Yes</td>\n",
       "    </tr>\n",
       "    <tr>\n",
       "      <td>2</td>\n",
       "      <td>26.0</td>\n",
       "      <td>female</td>\n",
       "      <td>S</td>\n",
       "      <td>Yes</td>\n",
       "    </tr>\n",
       "    <tr>\n",
       "      <td>3</td>\n",
       "      <td>35.0</td>\n",
       "      <td>female</td>\n",
       "      <td>S</td>\n",
       "      <td>Yes</td>\n",
       "    </tr>\n",
       "    <tr>\n",
       "      <td>4</td>\n",
       "      <td>35.0</td>\n",
       "      <td>male</td>\n",
       "      <td>S</td>\n",
       "      <td>No</td>\n",
       "    </tr>\n",
       "  </tbody>\n",
       "</table>\n",
       "</div>"
      ],
      "text/plain": [
       "    Age     Sex Embarked Survived\n",
       "0  22.0    male        S       No\n",
       "1  38.0  female        C      Yes\n",
       "2  26.0  female        S      Yes\n",
       "3  35.0  female        S      Yes\n",
       "4  35.0    male        S       No"
      ]
     },
     "execution_count": 106,
     "metadata": {},
     "output_type": "execute_result"
    }
   ],
   "source": [
    "import pandas as pd\n",
    "data = pd.read_csv(road) \n",
    "data.head()\n",
    "\n",
    "#查看缺失值\n",
    "data.isnull().sum() \n",
    "\n",
    "#用中位数填补Age的缺失值\n",
    "data.loc[:,\"Age\"] = data.loc[:,\"Age\"].fillna(data.loc[:,\"Age\"].median())\n",
    "\n",
    "#由于Embarked的缺失值较少，可以直接删除\n",
    "data.dropna(axis=0,inplace=True)\n",
    "data.head()"
   ]
  }
 ],
 "metadata": {
  "kernelspec": {
   "display_name": "Python 3",
   "language": "python",
   "name": "python3"
  },
  "language_info": {
   "codemirror_mode": {
    "name": "ipython",
    "version": 3
   },
   "file_extension": ".py",
   "mimetype": "text/x-python",
   "name": "python",
   "nbconvert_exporter": "python",
   "pygments_lexer": "ipython3",
   "version": "3.7.4"
  },
  "toc": {
   "base_numbering": 1,
   "nav_menu": {},
   "number_sections": true,
   "sideBar": true,
   "skip_h1_title": false,
   "title_cell": "Table of Contents",
   "title_sidebar": "Contents",
   "toc_cell": false,
   "toc_position": {},
   "toc_section_display": true,
   "toc_window_display": true
  }
 },
 "nbformat": 4,
 "nbformat_minor": 4
}
