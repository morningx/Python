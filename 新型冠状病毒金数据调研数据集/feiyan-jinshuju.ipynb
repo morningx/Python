{
 "cells": [
  {
   "cell_type": "markdown",
   "metadata": {},
   "source": [
    "- 1 深度系统deepin linux环境下运行\n",
    "- 2 未能解决绘图饼图中展示的分块内容的中文乱码问题"
   ]
  },
  {
   "cell_type": "code",
   "execution_count": 2,
   "metadata": {},
   "outputs": [
    {
     "data": {
      "text/plain": [
       "'/media/apple/A29E38759E384457/Study/data/20200126-jinshuju-wuhanfeiyan/wuhanfeiyan_202001261715.csv'"
      ]
     },
     "execution_count": 2,
     "metadata": {},
     "output_type": "execute_result"
    }
   ],
   "source": [
    "road = r'/media/apple/A29E38759E384457/Study/data/20200126-jinshuju-wuhanfeiyan/wuhanfeiyan_202001261715.csv'\n",
    "road"
   ]
  },
  {
   "cell_type": "code",
   "execution_count": 3,
   "metadata": {},
   "outputs": [],
   "source": [
    "import pandas as pd\n",
    "import numpy as np\n",
    "import matplotlib.pyplot as plt"
   ]
  },
  {
   "cell_type": "code",
   "execution_count": 4,
   "metadata": {},
   "outputs": [
    {
     "data": {
      "text/html": [
       "<div>\n",
       "<style scoped>\n",
       "    .dataframe tbody tr th:only-of-type {\n",
       "        vertical-align: middle;\n",
       "    }\n",
       "\n",
       "    .dataframe tbody tr th {\n",
       "        vertical-align: top;\n",
       "    }\n",
       "\n",
       "    .dataframe thead th {\n",
       "        text-align: right;\n",
       "    }\n",
       "</style>\n",
       "<table border=\"1\" class=\"dataframe\">\n",
       "  <thead>\n",
       "    <tr style=\"text-align: right;\">\n",
       "      <th></th>\n",
       "      <th>time</th>\n",
       "      <th>id</th>\n",
       "      <th>age</th>\n",
       "      <th>sex</th>\n",
       "      <th>education</th>\n",
       "      <th>job</th>\n",
       "      <th>location</th>\n",
       "      <th>correct_understanding</th>\n",
       "      <th>my_party</th>\n",
       "      <th>parent_party</th>\n",
       "      <th>channel_find_info</th>\n",
       "      <th>control feelings</th>\n",
       "      <th>hospital_resource_shortage</th>\n",
       "      <th>family_medical_resources</th>\n",
       "      <th>family_living_resources</th>\n",
       "    </tr>\n",
       "  </thead>\n",
       "  <tbody>\n",
       "    <tr>\n",
       "      <td>0</td>\n",
       "      <td>2020-01-26 11:59:57</td>\n",
       "      <td>480</td>\n",
       "      <td>18~25</td>\n",
       "      <td>男</td>\n",
       "      <td>大学本科</td>\n",
       "      <td>大学生</td>\n",
       "      <td>湖北省宜昌市</td>\n",
       "      <td>病毒对老年人有严重的威胁，病毒会进化，并且致死性越来越强</td>\n",
       "      <td>已取消所有聚会安排</td>\n",
       "      <td>父母已取消所有聚会安排</td>\n",
       "      <td>微信好友，公众号，微信群，微信朋友圈，微博，电视新闻</td>\n",
       "      <td>中立，不做判断</td>\n",
       "      <td>已有权威机构证实存在短缺</td>\n",
       "      <td>口罩，酒精，体温计</td>\n",
       "      <td>已储备30天以上的物资</td>\n",
       "    </tr>\n",
       "    <tr>\n",
       "      <td>1</td>\n",
       "      <td>2020-01-26 03:48:37</td>\n",
       "      <td>203</td>\n",
       "      <td>26~30</td>\n",
       "      <td>女</td>\n",
       "      <td>高中/中专/技校</td>\n",
       "      <td>个体经营户</td>\n",
       "      <td>福建省莆田市</td>\n",
       "      <td>病毒会进化，并且致死性越来越强，病毒对老年人有严重的威胁，感染病毒后会立即出现咳嗽、发烧的症...</td>\n",
       "      <td>有中型聚会安排（5～10人）</td>\n",
       "      <td>父母已取消所有聚会安排</td>\n",
       "      <td>微信好友，公众号，微信群，微博，微信朋友圈，抖音，电视新闻</td>\n",
       "      <td>NaN</td>\n",
       "      <td>没有确凿信息，不断定</td>\n",
       "      <td>口罩，体温计，酒精</td>\n",
       "      <td>未储备</td>\n",
       "    </tr>\n",
       "  </tbody>\n",
       "</table>\n",
       "</div>"
      ],
      "text/plain": [
       "                  time   id    age sex education    job location  \\\n",
       "0  2020-01-26 11:59:57  480  18~25   男      大学本科    大学生   湖北省宜昌市   \n",
       "1  2020-01-26 03:48:37  203  26~30   女  高中/中专/技校  个体经营户   福建省莆田市   \n",
       "\n",
       "                               correct_understanding        my_party  \\\n",
       "0                       病毒对老年人有严重的威胁，病毒会进化，并且致死性越来越强       已取消所有聚会安排   \n",
       "1  病毒会进化，并且致死性越来越强，病毒对老年人有严重的威胁，感染病毒后会立即出现咳嗽、发烧的症...  有中型聚会安排（5～10人）   \n",
       "\n",
       "  parent_party              channel_find_info control feelings  \\\n",
       "0  父母已取消所有聚会安排     微信好友，公众号，微信群，微信朋友圈，微博，电视新闻          中立，不做判断   \n",
       "1  父母已取消所有聚会安排  微信好友，公众号，微信群，微博，微信朋友圈，抖音，电视新闻              NaN   \n",
       "\n",
       "  hospital_resource_shortage family_medical_resources family_living_resources  \n",
       "0               已有权威机构证实存在短缺                口罩，酒精，体温计             已储备30天以上的物资  \n",
       "1                 没有确凿信息，不断定                口罩，体温计，酒精                     未储备  "
      ]
     },
     "execution_count": 4,
     "metadata": {},
     "output_type": "execute_result"
    }
   ],
   "source": [
    "df = pd.read_csv(road)\n",
    "df.head(2)"
   ]
  },
  {
   "cell_type": "code",
   "execution_count": 5,
   "metadata": {},
   "outputs": [
    {
     "name": "stdout",
     "output_type": "stream",
     "text": [
      "<class 'pandas.core.frame.DataFrame'>\n",
      "RangeIndex: 498 entries, 0 to 497\n",
      "Data columns (total 15 columns):\n",
      "time                          498 non-null object\n",
      "id                            498 non-null int64\n",
      "age                           498 non-null object\n",
      "sex                           498 non-null object\n",
      "education                     498 non-null object\n",
      "job                           498 non-null object\n",
      "location                      497 non-null object\n",
      "correct_understanding         496 non-null object\n",
      "my_party                      498 non-null object\n",
      "parent_party                  498 non-null object\n",
      "channel_find_info             498 non-null object\n",
      "control feelings              475 non-null object\n",
      "hospital_resource_shortage    498 non-null object\n",
      "family_medical_resources      496 non-null object\n",
      "family_living_resources       498 non-null object\n",
      "dtypes: int64(1), object(14)\n",
      "memory usage: 58.5+ KB\n"
     ]
    }
   ],
   "source": [
    "df.info()"
   ]
  },
  {
   "cell_type": "code",
   "execution_count": 6,
   "metadata": {},
   "outputs": [
    {
     "data": {
      "text/plain": [
       "Index(['time', 'id', 'age', 'sex', 'education', 'job', 'location',\n",
       "       'correct_understanding', 'my_party', 'parent_party',\n",
       "       'channel_find_info', 'control_feelings', 'hospital_resource_shortage',\n",
       "       'family_medical_resources', 'family_living_resources'],\n",
       "      dtype='object')"
      ]
     },
     "execution_count": 6,
     "metadata": {},
     "output_type": "execute_result"
    }
   ],
   "source": [
    "# 发现mysql重命名有个错误\n",
    "# df1.rename(columns={'c':'D'},inplace=True) \n",
    "df.rename(columns={'control feelings':'control_feelings'},inplace=True)\n",
    "df.columns"
   ]
  },
  {
   "cell_type": "code",
   "execution_count": 7,
   "metadata": {},
   "outputs": [
    {
     "data": {
      "text/html": [
       "<div>\n",
       "<style scoped>\n",
       "    .dataframe tbody tr th:only-of-type {\n",
       "        vertical-align: middle;\n",
       "    }\n",
       "\n",
       "    .dataframe tbody tr th {\n",
       "        vertical-align: top;\n",
       "    }\n",
       "\n",
       "    .dataframe thead th {\n",
       "        text-align: right;\n",
       "    }\n",
       "</style>\n",
       "<table border=\"1\" class=\"dataframe\">\n",
       "  <thead>\n",
       "    <tr style=\"text-align: right;\">\n",
       "      <th></th>\n",
       "      <th>time</th>\n",
       "      <th>id</th>\n",
       "      <th>age</th>\n",
       "      <th>sex</th>\n",
       "      <th>education</th>\n",
       "      <th>job</th>\n",
       "      <th>location</th>\n",
       "      <th>correct_understanding</th>\n",
       "      <th>my_party</th>\n",
       "      <th>parent_party</th>\n",
       "      <th>channel_find_info</th>\n",
       "      <th>control_feelings</th>\n",
       "      <th>hospital_resource_shortage</th>\n",
       "      <th>family_medical_resources</th>\n",
       "      <th>family_living_resources</th>\n",
       "    </tr>\n",
       "  </thead>\n",
       "  <tbody>\n",
       "    <tr>\n",
       "      <td>0</td>\n",
       "      <td>2020-01-26 11:59:57</td>\n",
       "      <td>480</td>\n",
       "      <td>18~25</td>\n",
       "      <td>男</td>\n",
       "      <td>大学本科</td>\n",
       "      <td>大学生</td>\n",
       "      <td>湖北省宜昌市</td>\n",
       "      <td>病毒对老年人有严重的威胁，病毒会进化，并且致死性越来越强</td>\n",
       "      <td>已取消所有聚会安排</td>\n",
       "      <td>父母已取消所有聚会安排</td>\n",
       "      <td>微信好友，公众号，微信群，微信朋友圈，微博，电视新闻</td>\n",
       "      <td>中立，不做判断</td>\n",
       "      <td>已有权威机构证实存在短缺</td>\n",
       "      <td>口罩，酒精，体温计</td>\n",
       "      <td>已储备30天以上的物资</td>\n",
       "    </tr>\n",
       "    <tr>\n",
       "      <td>1</td>\n",
       "      <td>2020-01-26 03:48:37</td>\n",
       "      <td>203</td>\n",
       "      <td>26~30</td>\n",
       "      <td>女</td>\n",
       "      <td>高中/中专/技校</td>\n",
       "      <td>个体经营户</td>\n",
       "      <td>福建省莆田市</td>\n",
       "      <td>病毒会进化，并且致死性越来越强，病毒对老年人有严重的威胁，感染病毒后会立即出现咳嗽、发烧的症...</td>\n",
       "      <td>有中型聚会安排（5～10人）</td>\n",
       "      <td>父母已取消所有聚会安排</td>\n",
       "      <td>微信好友，公众号，微信群，微博，微信朋友圈，抖音，电视新闻</td>\n",
       "      <td>NaN</td>\n",
       "      <td>没有确凿信息，不断定</td>\n",
       "      <td>口罩，体温计，酒精</td>\n",
       "      <td>未储备</td>\n",
       "    </tr>\n",
       "  </tbody>\n",
       "</table>\n",
       "</div>"
      ],
      "text/plain": [
       "                  time   id    age sex education    job location  \\\n",
       "0  2020-01-26 11:59:57  480  18~25   男      大学本科    大学生   湖北省宜昌市   \n",
       "1  2020-01-26 03:48:37  203  26~30   女  高中/中专/技校  个体经营户   福建省莆田市   \n",
       "\n",
       "                               correct_understanding        my_party  \\\n",
       "0                       病毒对老年人有严重的威胁，病毒会进化，并且致死性越来越强       已取消所有聚会安排   \n",
       "1  病毒会进化，并且致死性越来越强，病毒对老年人有严重的威胁，感染病毒后会立即出现咳嗽、发烧的症...  有中型聚会安排（5～10人）   \n",
       "\n",
       "  parent_party              channel_find_info control_feelings  \\\n",
       "0  父母已取消所有聚会安排     微信好友，公众号，微信群，微信朋友圈，微博，电视新闻          中立，不做判断   \n",
       "1  父母已取消所有聚会安排  微信好友，公众号，微信群，微博，微信朋友圈，抖音，电视新闻              NaN   \n",
       "\n",
       "  hospital_resource_shortage family_medical_resources family_living_resources  \n",
       "0               已有权威机构证实存在短缺                口罩，酒精，体温计             已储备30天以上的物资  \n",
       "1                 没有确凿信息，不断定                口罩，体温计，酒精                     未储备  "
      ]
     },
     "execution_count": 7,
     "metadata": {},
     "output_type": "execute_result"
    }
   ],
   "source": [
    "data = df.copy()\n",
    "data.head(2)"
   ]
  },
  {
   "cell_type": "code",
   "execution_count": 8,
   "metadata": {},
   "outputs": [
    {
     "data": {
      "text/html": [
       "<div>\n",
       "<style scoped>\n",
       "    .dataframe tbody tr th:only-of-type {\n",
       "        vertical-align: middle;\n",
       "    }\n",
       "\n",
       "    .dataframe tbody tr th {\n",
       "        vertical-align: top;\n",
       "    }\n",
       "\n",
       "    .dataframe thead th {\n",
       "        text-align: right;\n",
       "    }\n",
       "</style>\n",
       "<table border=\"1\" class=\"dataframe\">\n",
       "  <thead>\n",
       "    <tr style=\"text-align: right;\">\n",
       "      <th></th>\n",
       "      <th>time</th>\n",
       "      <th>id</th>\n",
       "      <th>age</th>\n",
       "      <th>sex</th>\n",
       "      <th>education</th>\n",
       "      <th>job</th>\n",
       "      <th>location</th>\n",
       "      <th>correct_understanding</th>\n",
       "      <th>my_party</th>\n",
       "      <th>parent_party</th>\n",
       "      <th>channel_find_info</th>\n",
       "      <th>control_feelings</th>\n",
       "      <th>hospital_resource_shortage</th>\n",
       "      <th>family_medical_resources</th>\n",
       "      <th>family_living_resources</th>\n",
       "    </tr>\n",
       "  </thead>\n",
       "  <tbody>\n",
       "    <tr>\n",
       "      <td>438</td>\n",
       "      <td>2020-01-25 23:24:09</td>\n",
       "      <td>36</td>\n",
       "      <td>26~30</td>\n",
       "      <td>不想透露</td>\n",
       "      <td>保密</td>\n",
       "      <td>其他</td>\n",
       "      <td>NaN</td>\n",
       "      <td>病毒对老年人有严重的威胁</td>\n",
       "      <td>已取消所有聚会安排</td>\n",
       "      <td>父母已取消所有聚会安排</td>\n",
       "      <td>微信好友，微信群，微信朋友圈，微博，电视新闻</td>\n",
       "      <td>较乐观，短期会好转</td>\n",
       "      <td>没有确凿信息，不断定</td>\n",
       "      <td>口罩</td>\n",
       "      <td>已储备7天内的物资</td>\n",
       "    </tr>\n",
       "  </tbody>\n",
       "</table>\n",
       "</div>"
      ],
      "text/plain": [
       "                    time  id    age   sex education job location  \\\n",
       "438  2020-01-25 23:24:09  36  26~30  不想透露        保密  其他      NaN   \n",
       "\n",
       "    correct_understanding   my_party parent_party       channel_find_info  \\\n",
       "438          病毒对老年人有严重的威胁  已取消所有聚会安排  父母已取消所有聚会安排  微信好友，微信群，微信朋友圈，微博，电视新闻   \n",
       "\n",
       "    control_feelings hospital_resource_shortage family_medical_resources  \\\n",
       "438        较乐观，短期会好转                 没有确凿信息，不断定                       口罩   \n",
       "\n",
       "    family_living_resources  \n",
       "438               已储备7天内的物资  "
      ]
     },
     "execution_count": 8,
     "metadata": {},
     "output_type": "execute_result"
    }
   ],
   "source": [
    "df[df.location.isnull()]\n",
    "# 查询空值结果为布尔值false-true，再代入到df中，则可找到此列为true值的"
   ]
  },
  {
   "cell_type": "code",
   "execution_count": 9,
   "metadata": {
    "scrolled": true
   },
   "outputs": [
    {
     "name": "stderr",
     "output_type": "stream",
     "text": [
      "/home/apple/anaconda3/lib/python3.7/site-packages/ipykernel_launcher.py:2: SettingWithCopyWarning: \n",
      "A value is trying to be set on a copy of a slice from a DataFrame.\n",
      "Try using .loc[row_indexer,col_indexer] = value instead\n",
      "\n",
      "See the caveats in the documentation: http://pandas.pydata.org/pandas-docs/stable/user_guide/indexing.html#returning-a-view-versus-a-copy\n",
      "  \n"
     ]
    },
    {
     "data": {
      "text/html": [
       "<div>\n",
       "<style scoped>\n",
       "    .dataframe tbody tr th:only-of-type {\n",
       "        vertical-align: middle;\n",
       "    }\n",
       "\n",
       "    .dataframe tbody tr th {\n",
       "        vertical-align: top;\n",
       "    }\n",
       "\n",
       "    .dataframe thead th {\n",
       "        text-align: right;\n",
       "    }\n",
       "</style>\n",
       "<table border=\"1\" class=\"dataframe\">\n",
       "  <thead>\n",
       "    <tr style=\"text-align: right;\">\n",
       "      <th></th>\n",
       "      <th>time</th>\n",
       "      <th>id</th>\n",
       "      <th>age</th>\n",
       "      <th>sex</th>\n",
       "      <th>education</th>\n",
       "      <th>job</th>\n",
       "      <th>location</th>\n",
       "      <th>correct_understanding</th>\n",
       "      <th>my_party</th>\n",
       "      <th>parent_party</th>\n",
       "      <th>channel_find_info</th>\n",
       "      <th>control_feelings</th>\n",
       "      <th>hospital_resource_shortage</th>\n",
       "      <th>family_medical_resources</th>\n",
       "      <th>family_living_resources</th>\n",
       "    </tr>\n",
       "  </thead>\n",
       "  <tbody>\n",
       "    <tr>\n",
       "      <td>438</td>\n",
       "      <td>2020-01-25 23:24:09</td>\n",
       "      <td>36</td>\n",
       "      <td>26~30</td>\n",
       "      <td>不想透露</td>\n",
       "      <td>保密</td>\n",
       "      <td>其他</td>\n",
       "      <td>NaN</td>\n",
       "      <td>病毒对老年人有严重的威胁</td>\n",
       "      <td>已取消所有聚会安排</td>\n",
       "      <td>父母已取消所有聚会安排</td>\n",
       "      <td>微信好友，微信群，微信朋友圈，微博，电视新闻</td>\n",
       "      <td>较乐观，短期会好转</td>\n",
       "      <td>没有确凿信息，不断定</td>\n",
       "      <td>口罩</td>\n",
       "      <td>已储备7天内的物资</td>\n",
       "    </tr>\n",
       "  </tbody>\n",
       "</table>\n",
       "</div>"
      ],
      "text/plain": [
       "                    time  id    age   sex education job location  \\\n",
       "438  2020-01-25 23:24:09  36  26~30  不想透露        保密  其他      NaN   \n",
       "\n",
       "    correct_understanding   my_party parent_party       channel_find_info  \\\n",
       "438          病毒对老年人有严重的威胁  已取消所有聚会安排  父母已取消所有聚会安排  微信好友，微信群，微信朋友圈，微博，电视新闻   \n",
       "\n",
       "    control_feelings hospital_resource_shortage family_medical_resources  \\\n",
       "438        较乐观，短期会好转                 没有确凿信息，不断定                       口罩   \n",
       "\n",
       "    family_living_resources  \n",
       "438               已储备7天内的物资  "
      ]
     },
     "execution_count": 9,
     "metadata": {},
     "output_type": "execute_result"
    }
   ],
   "source": [
    "# 用常见的　湖北省武汉市　代替location空值\n",
    "df[df.location.isnull()]['location'] = '湖北省武汉市'\n",
    "df[df.location.isnull()]\n",
    "# A value is trying to be set on a copy of a slice from a DataFrame.\n",
    "# Try using .loc[row_indexer,col_indexer] = value instead"
   ]
  },
  {
   "cell_type": "code",
   "execution_count": 45,
   "metadata": {},
   "outputs": [
    {
     "name": "stderr",
     "output_type": "stream",
     "text": [
      "/home/apple/anaconda3/lib/python3.7/site-packages/pandas/core/generic.py:6287: SettingWithCopyWarning: \n",
      "A value is trying to be set on a copy of a slice from a DataFrame\n",
      "\n",
      "See the caveats in the documentation: http://pandas.pydata.org/pandas-docs/stable/user_guide/indexing.html#returning-a-view-versus-a-copy\n",
      "  self._update_inplace(new_data)\n"
     ]
    }
   ],
   "source": [
    "df[df.location.isnull()].location.fillna('湖北省武汉市',inplace=True)\n",
    "# 输出警告不支持填充　\n",
    "# A value is trying to be set on a copy of a slice from a DataFrame"
   ]
  },
  {
   "cell_type": "code",
   "execution_count": 11,
   "metadata": {},
   "outputs": [
    {
     "data": {
      "text/plain": [
       "438     NaN\n",
       "439    海外其它\n",
       "Name: location, dtype: object"
      ]
     },
     "execution_count": 11,
     "metadata": {},
     "output_type": "execute_result"
    }
   ],
   "source": [
    "df.location[438:440, ]"
   ]
  },
  {
   "cell_type": "code",
   "execution_count": 12,
   "metadata": {},
   "outputs": [],
   "source": [
    "# df['近期销量']=df['近期销量'].replace(np.nan,'0').astype(int)\n",
    "df['location'] = df['location'].replace(np.nan,'湖北省武汉市')"
   ]
  },
  {
   "cell_type": "code",
   "execution_count": 13,
   "metadata": {},
   "outputs": [
    {
     "data": {
      "text/plain": [
       "438    湖北省武汉市\n",
       "439      海外其它\n",
       "Name: location, dtype: object"
      ]
     },
     "execution_count": 13,
     "metadata": {},
     "output_type": "execute_result"
    }
   ],
   "source": [
    "df.location[438:440, ]"
   ]
  },
  {
   "cell_type": "code",
   "execution_count": 14,
   "metadata": {},
   "outputs": [
    {
     "name": "stdout",
     "output_type": "stream",
     "text": [
      "<class 'pandas.core.frame.DataFrame'>\n",
      "RangeIndex: 498 entries, 0 to 497\n",
      "Data columns (total 15 columns):\n",
      "time                          498 non-null object\n",
      "id                            498 non-null int64\n",
      "age                           498 non-null object\n",
      "sex                           498 non-null object\n",
      "education                     498 non-null object\n",
      "job                           498 non-null object\n",
      "location                      498 non-null object\n",
      "correct_understanding         496 non-null object\n",
      "my_party                      498 non-null object\n",
      "parent_party                  498 non-null object\n",
      "channel_find_info             498 non-null object\n",
      "control_feelings              475 non-null object\n",
      "hospital_resource_shortage    498 non-null object\n",
      "family_medical_resources      496 non-null object\n",
      "family_living_resources       498 non-null object\n",
      "dtypes: int64(1), object(14)\n",
      "memory usage: 58.5+ KB\n"
     ]
    }
   ],
   "source": [
    "df.info()"
   ]
  },
  {
   "cell_type": "code",
   "execution_count": 15,
   "metadata": {},
   "outputs": [
    {
     "data": {
      "text/html": [
       "<div>\n",
       "<style scoped>\n",
       "    .dataframe tbody tr th:only-of-type {\n",
       "        vertical-align: middle;\n",
       "    }\n",
       "\n",
       "    .dataframe tbody tr th {\n",
       "        vertical-align: top;\n",
       "    }\n",
       "\n",
       "    .dataframe thead th {\n",
       "        text-align: right;\n",
       "    }\n",
       "</style>\n",
       "<table border=\"1\" class=\"dataframe\">\n",
       "  <thead>\n",
       "    <tr style=\"text-align: right;\">\n",
       "      <th></th>\n",
       "      <th>time</th>\n",
       "      <th>id</th>\n",
       "      <th>age</th>\n",
       "      <th>sex</th>\n",
       "      <th>education</th>\n",
       "      <th>job</th>\n",
       "      <th>location</th>\n",
       "      <th>correct_understanding</th>\n",
       "      <th>my_party</th>\n",
       "      <th>parent_party</th>\n",
       "      <th>channel_find_info</th>\n",
       "      <th>control_feelings</th>\n",
       "      <th>hospital_resource_shortage</th>\n",
       "      <th>family_medical_resources</th>\n",
       "      <th>family_living_resources</th>\n",
       "    </tr>\n",
       "  </thead>\n",
       "  <tbody>\n",
       "    <tr>\n",
       "      <td>56</td>\n",
       "      <td>2020-01-26 09:29:18</td>\n",
       "      <td>341</td>\n",
       "      <td>18~25</td>\n",
       "      <td>男</td>\n",
       "      <td>大学本科</td>\n",
       "      <td>上班族/创业者</td>\n",
       "      <td>湖北省荆州市</td>\n",
       "      <td>NaN</td>\n",
       "      <td>已取消所有聚会安排</td>\n",
       "      <td>父母已取消所有聚会安排</td>\n",
       "      <td>微博，公众号，微信群，微信好友</td>\n",
       "      <td>较乐观，短期会好转</td>\n",
       "      <td>已有权威机构证实存在短缺</td>\n",
       "      <td>口罩</td>\n",
       "      <td>已储备7～30天的物资</td>\n",
       "    </tr>\n",
       "    <tr>\n",
       "      <td>382</td>\n",
       "      <td>2020-01-26 00:02:57</td>\n",
       "      <td>121</td>\n",
       "      <td>18~25</td>\n",
       "      <td>不想透露</td>\n",
       "      <td>保密</td>\n",
       "      <td>大学生</td>\n",
       "      <td>广东省佛山市</td>\n",
       "      <td>NaN</td>\n",
       "      <td>已取消所有聚会安排</td>\n",
       "      <td>父母已取消所有聚会安排</td>\n",
       "      <td>微博，抖音，电视新闻，微信朋友圈，微信群，微信好友，其他</td>\n",
       "      <td>中立，不做判断</td>\n",
       "      <td>没有确凿信息，不断定</td>\n",
       "      <td>口罩，酒精</td>\n",
       "      <td>已储备7天内的物资</td>\n",
       "    </tr>\n",
       "  </tbody>\n",
       "</table>\n",
       "</div>"
      ],
      "text/plain": [
       "                    time   id    age   sex education      job location  \\\n",
       "56   2020-01-26 09:29:18  341  18~25     男      大学本科  上班族/创业者   湖北省荆州市   \n",
       "382  2020-01-26 00:02:57  121  18~25  不想透露        保密      大学生   广东省佛山市   \n",
       "\n",
       "    correct_understanding   my_party parent_party  \\\n",
       "56                    NaN  已取消所有聚会安排  父母已取消所有聚会安排   \n",
       "382                   NaN  已取消所有聚会安排  父母已取消所有聚会安排   \n",
       "\n",
       "                channel_find_info control_feelings hospital_resource_shortage  \\\n",
       "56                微博，公众号，微信群，微信好友        较乐观，短期会好转               已有权威机构证实存在短缺   \n",
       "382  微博，抖音，电视新闻，微信朋友圈，微信群，微信好友，其他          中立，不做判断                 没有确凿信息，不断定   \n",
       "\n",
       "    family_medical_resources family_living_resources  \n",
       "56                        口罩             已储备7～30天的物资  \n",
       "382                    口罩，酒精               已储备7天内的物资  "
      ]
     },
     "execution_count": 15,
     "metadata": {},
     "output_type": "execute_result"
    }
   ],
   "source": [
    "df[df['correct_understanding'].isnull()]"
   ]
  },
  {
   "cell_type": "code",
   "execution_count": 16,
   "metadata": {},
   "outputs": [
    {
     "data": {
      "text/plain": [
       "病毒对老年人有严重的威胁，75%浓度酒精可以杀死病毒，病毒会进化，并且致死性越来越强            86\n",
       "病毒对老年人有严重的威胁，75%浓度酒精可以杀死病毒                            83\n",
       "病毒对老年人有严重的威胁，病毒会进化，并且致死性越来越强                          33\n",
       "病毒对老年人有严重的威胁                                          21\n",
       "病毒对老年人有严重的威胁，75%浓度酒精可以杀死病毒，病毒致死性很强，病毒会进化，并且致死性越来越强    19\n",
       "                                                      ..\n",
       "目前抗病毒药物已经成功研发                                          1\n",
       "没有生病的人，不会传染病毒，病毒会进化，并且致死性越来越强                          1\n",
       "感染病毒后会立即出现咳嗽、发烧的症状                                     1\n",
       "病毒对老年人有严重的威胁，病毒会进化，并且致死性越来越强，感染病毒后会立即出现咳嗽、发烧的症状        1\n",
       "病毒对老年人有严重的威胁，家里放白醋可以预防病毒                               1\n",
       "Name: correct_understanding, Length: 123, dtype: int64"
      ]
     },
     "execution_count": 16,
     "metadata": {},
     "output_type": "execute_result"
    }
   ],
   "source": [
    "df['correct_understanding'].value_counts(ascending=False)\n",
    "# 用值出现最多的string来替换空值"
   ]
  },
  {
   "cell_type": "code",
   "execution_count": 17,
   "metadata": {},
   "outputs": [],
   "source": [
    "df['correct_understanding'] = df['correct_understanding'].replace(np.nan,'病毒对老年人有严重的威胁，75%浓度酒精可以杀死病毒，病毒会进化，并且致死性越来越强')"
   ]
  },
  {
   "cell_type": "code",
   "execution_count": 18,
   "metadata": {},
   "outputs": [
    {
     "data": {
      "text/plain": [
       "56    病毒对老年人有严重的威胁，75%浓度酒精可以杀死病毒，病毒会进化，并且致死性越来越强\n",
       "Name: correct_understanding, dtype: object"
      ]
     },
     "execution_count": 18,
     "metadata": {},
     "output_type": "execute_result"
    }
   ],
   "source": [
    "df.correct_understanding[56:57, ]"
   ]
  },
  {
   "cell_type": "code",
   "execution_count": 19,
   "metadata": {},
   "outputs": [
    {
     "data": {
      "text/plain": [
       "382    病毒对老年人有严重的威胁，75%浓度酒精可以杀死病毒，病毒会进化，并且致死性越来越强\n",
       "Name: correct_understanding, dtype: object"
      ]
     },
     "execution_count": 19,
     "metadata": {},
     "output_type": "execute_result"
    }
   ],
   "source": [
    "df.correct_understanding[382:383, ]"
   ]
  },
  {
   "cell_type": "code",
   "execution_count": 20,
   "metadata": {},
   "outputs": [
    {
     "name": "stdout",
     "output_type": "stream",
     "text": [
      "<class 'pandas.core.frame.DataFrame'>\n",
      "RangeIndex: 498 entries, 0 to 497\n",
      "Data columns (total 15 columns):\n",
      "time                          498 non-null object\n",
      "id                            498 non-null int64\n",
      "age                           498 non-null object\n",
      "sex                           498 non-null object\n",
      "education                     498 non-null object\n",
      "job                           498 non-null object\n",
      "location                      498 non-null object\n",
      "correct_understanding         498 non-null object\n",
      "my_party                      498 non-null object\n",
      "parent_party                  498 non-null object\n",
      "channel_find_info             498 non-null object\n",
      "control_feelings              475 non-null object\n",
      "hospital_resource_shortage    498 non-null object\n",
      "family_medical_resources      496 non-null object\n",
      "family_living_resources       498 non-null object\n",
      "dtypes: int64(1), object(14)\n",
      "memory usage: 58.5+ KB\n"
     ]
    }
   ],
   "source": [
    "df.info()"
   ]
  },
  {
   "cell_type": "code",
   "execution_count": 21,
   "metadata": {},
   "outputs": [
    {
     "data": {
      "text/plain": [
       "中立，不做判断              193\n",
       "较悲观，短期可能会更严重         144\n",
       "较乐观，短期会好转             80\n",
       "非常悲观，会更严重，甚至进一步爆发     42\n",
       "非常乐观，很快会好转            16\n",
       "Name: control_feelings, dtype: int64"
      ]
     },
     "execution_count": 21,
     "metadata": {},
     "output_type": "execute_result"
    }
   ],
   "source": [
    "df.control_feelings.value_counts()"
   ]
  },
  {
   "cell_type": "code",
   "execution_count": null,
   "metadata": {},
   "outputs": [],
   "source": [
    "df[df.control_feelings.isnull()]\n",
    "# Nan为空值，用中立不作判断最好，且为最多的值\n",
    "# time\tid\tage\tsex\teducation\tjob\tlocation\tcorrect_understanding\tmy_party\tparent_party\tchannel_find_info\tcontrol_feelings\thospital_resource_shortage\tfamily_medical_resources\tfamily_living_resources\n",
    "# 1\t2020-01-26 03:48:37\t203\t26~30\t女\t高中/中专/技校\t个体经营户\t福建省莆田市\t病毒会进化，并且致死性越来越强，病毒对老年人有严重的威胁，感染病毒后会立即出现咳嗽、发烧的症...\t有中型聚会安排（5～10人）\t父母已取消所有聚会安排\t微信好友，公众号，微信群，微博，微信朋友圈，抖音，电视新闻\tNaN\t没有确凿信息，不断定\t口罩，体温计，酒精\t未储备\n",
    "# 314\t2020-01-25 23:36:22\t60\t26~30\t女\t大学本科\t上班族/创业者\t安徽省宣城市\t病毒对老年人有严重的威胁，75%浓度酒精可以杀死病毒，病毒致死性很强，病毒会进化，并且致死性...\t有中型聚会安排（5～10人）\t父母已取消所有聚会安排\t微信好友，公众号，微信群，微信朋友圈，微博，抖音，电视新闻\tNaN\t没有确凿信息，不断定\t保健品\t未储备"
   ]
  },
  {
   "cell_type": "code",
   "execution_count": 23,
   "metadata": {},
   "outputs": [],
   "source": [
    "df['control_feelings'] = df['control_feelings'].replace(np.nan,'中立，不做判断')"
   ]
  },
  {
   "cell_type": "code",
   "execution_count": 24,
   "metadata": {},
   "outputs": [
    {
     "name": "stdout",
     "output_type": "stream",
     "text": [
      "<class 'pandas.core.frame.DataFrame'>\n",
      "RangeIndex: 498 entries, 0 to 497\n",
      "Data columns (total 15 columns):\n",
      "time                          498 non-null object\n",
      "id                            498 non-null int64\n",
      "age                           498 non-null object\n",
      "sex                           498 non-null object\n",
      "education                     498 non-null object\n",
      "job                           498 non-null object\n",
      "location                      498 non-null object\n",
      "correct_understanding         498 non-null object\n",
      "my_party                      498 non-null object\n",
      "parent_party                  498 non-null object\n",
      "channel_find_info             498 non-null object\n",
      "control_feelings              498 non-null object\n",
      "hospital_resource_shortage    498 non-null object\n",
      "family_medical_resources      496 non-null object\n",
      "family_living_resources       498 non-null object\n",
      "dtypes: int64(1), object(14)\n",
      "memory usage: 58.5+ KB\n"
     ]
    }
   ],
   "source": [
    "df.info()"
   ]
  },
  {
   "cell_type": "code",
   "execution_count": 25,
   "metadata": {},
   "outputs": [
    {
     "data": {
      "text/html": [
       "<div>\n",
       "<style scoped>\n",
       "    .dataframe tbody tr th:only-of-type {\n",
       "        vertical-align: middle;\n",
       "    }\n",
       "\n",
       "    .dataframe tbody tr th {\n",
       "        vertical-align: top;\n",
       "    }\n",
       "\n",
       "    .dataframe thead th {\n",
       "        text-align: right;\n",
       "    }\n",
       "</style>\n",
       "<table border=\"1\" class=\"dataframe\">\n",
       "  <thead>\n",
       "    <tr style=\"text-align: right;\">\n",
       "      <th></th>\n",
       "      <th>time</th>\n",
       "      <th>id</th>\n",
       "      <th>age</th>\n",
       "      <th>sex</th>\n",
       "      <th>education</th>\n",
       "      <th>job</th>\n",
       "      <th>location</th>\n",
       "      <th>correct_understanding</th>\n",
       "      <th>my_party</th>\n",
       "      <th>parent_party</th>\n",
       "      <th>channel_find_info</th>\n",
       "      <th>control_feelings</th>\n",
       "      <th>hospital_resource_shortage</th>\n",
       "      <th>family_medical_resources</th>\n",
       "      <th>family_living_resources</th>\n",
       "    </tr>\n",
       "  </thead>\n",
       "  <tbody>\n",
       "    <tr>\n",
       "      <td>343</td>\n",
       "      <td>2020-01-25 23:14:07</td>\n",
       "      <td>5</td>\n",
       "      <td>18~25</td>\n",
       "      <td>男</td>\n",
       "      <td>大学本科</td>\n",
       "      <td>大学生</td>\n",
       "      <td>安徽省宿州市</td>\n",
       "      <td>病毒对老年人有严重的威胁，75%浓度酒精可以杀死病毒</td>\n",
       "      <td>有中型聚会安排（5～10人）</td>\n",
       "      <td>有聚会安排，父母会参与</td>\n",
       "      <td>电视新闻，其他，微博，微信朋友圈</td>\n",
       "      <td>中立，不做判断</td>\n",
       "      <td>没有确凿信息，不断定</td>\n",
       "      <td>NaN</td>\n",
       "      <td>已储备30天以上的物资</td>\n",
       "    </tr>\n",
       "    <tr>\n",
       "      <td>471</td>\n",
       "      <td>2020-01-25 23:22:11</td>\n",
       "      <td>30</td>\n",
       "      <td>18~25</td>\n",
       "      <td>女</td>\n",
       "      <td>大学本科</td>\n",
       "      <td>大学生</td>\n",
       "      <td>山西省大同市</td>\n",
       "      <td>病毒对老年人有严重的威胁，病毒会进化，并且致死性越来越强，没有生病的人，不会传染病毒</td>\n",
       "      <td>有中型聚会安排（5～10人）</td>\n",
       "      <td>父母已取消所有聚会安排</td>\n",
       "      <td>微博，抖音，电视新闻，微信朋友圈，微信群，微信好友</td>\n",
       "      <td>中立，不做判断</td>\n",
       "      <td>没有确凿信息，不断定</td>\n",
       "      <td>NaN</td>\n",
       "      <td>已储备7天内的物资</td>\n",
       "    </tr>\n",
       "  </tbody>\n",
       "</table>\n",
       "</div>"
      ],
      "text/plain": [
       "                    time  id    age sex education  job location  \\\n",
       "343  2020-01-25 23:14:07   5  18~25   男      大学本科  大学生   安徽省宿州市   \n",
       "471  2020-01-25 23:22:11  30  18~25   女      大学本科  大学生   山西省大同市   \n",
       "\n",
       "                          correct_understanding        my_party parent_party  \\\n",
       "343                  病毒对老年人有严重的威胁，75%浓度酒精可以杀死病毒  有中型聚会安排（5～10人）  有聚会安排，父母会参与   \n",
       "471  病毒对老年人有严重的威胁，病毒会进化，并且致死性越来越强，没有生病的人，不会传染病毒  有中型聚会安排（5～10人）  父母已取消所有聚会安排   \n",
       "\n",
       "             channel_find_info control_feelings hospital_resource_shortage  \\\n",
       "343           电视新闻，其他，微博，微信朋友圈          中立，不做判断                 没有确凿信息，不断定   \n",
       "471  微博，抖音，电视新闻，微信朋友圈，微信群，微信好友          中立，不做判断                 没有确凿信息，不断定   \n",
       "\n",
       "    family_medical_resources family_living_resources  \n",
       "343                      NaN             已储备30天以上的物资  \n",
       "471                      NaN               已储备7天内的物资  "
      ]
     },
     "execution_count": 25,
     "metadata": {},
     "output_type": "execute_result"
    }
   ],
   "source": [
    "df[df.family_medical_resources.isnull()]"
   ]
  },
  {
   "cell_type": "code",
   "execution_count": 26,
   "metadata": {},
   "outputs": [
    {
     "data": {
      "text/plain": [
       "口罩                         138\n",
       "口罩，体温计                      78\n",
       "口罩，酒精，体温计                   49\n",
       "口罩，酒精                       34\n",
       "体温计                         24\n",
       "                          ... \n",
       "口罩，酒精，体温计，抗生素，抗病毒药物，保健品      1\n",
       "体温计，口罩，酒精，抗病毒药物              1\n",
       "口罩，血氧仪                       1\n",
       "口罩，护目镜                       1\n",
       "体温计，酒精，抗生素                   1\n",
       "Name: family_medical_resources, Length: 80, dtype: int64"
      ]
     },
     "execution_count": 26,
     "metadata": {},
     "output_type": "execute_result"
    }
   ],
   "source": [
    "df.family_medical_resources.value_counts()"
   ]
  },
  {
   "cell_type": "code",
   "execution_count": 27,
   "metadata": {},
   "outputs": [],
   "source": [
    "df['family_medical_resources'] = df['family_medical_resources'].replace(np.nan,'口罩')"
   ]
  },
  {
   "cell_type": "code",
   "execution_count": 28,
   "metadata": {},
   "outputs": [
    {
     "name": "stdout",
     "output_type": "stream",
     "text": [
      "<class 'pandas.core.frame.DataFrame'>\n",
      "RangeIndex: 498 entries, 0 to 497\n",
      "Data columns (total 15 columns):\n",
      "time                          498 non-null object\n",
      "id                            498 non-null int64\n",
      "age                           498 non-null object\n",
      "sex                           498 non-null object\n",
      "education                     498 non-null object\n",
      "job                           498 non-null object\n",
      "location                      498 non-null object\n",
      "correct_understanding         498 non-null object\n",
      "my_party                      498 non-null object\n",
      "parent_party                  498 non-null object\n",
      "channel_find_info             498 non-null object\n",
      "control_feelings              498 non-null object\n",
      "hospital_resource_shortage    498 non-null object\n",
      "family_medical_resources      498 non-null object\n",
      "family_living_resources       498 non-null object\n",
      "dtypes: int64(1), object(14)\n",
      "memory usage: 58.5+ KB\n"
     ]
    }
   ],
   "source": [
    "df.info()"
   ]
  },
  {
   "cell_type": "code",
   "execution_count": 29,
   "metadata": {},
   "outputs": [
    {
     "data": {
      "text/html": [
       "<div>\n",
       "<style scoped>\n",
       "    .dataframe tbody tr th:only-of-type {\n",
       "        vertical-align: middle;\n",
       "    }\n",
       "\n",
       "    .dataframe tbody tr th {\n",
       "        vertical-align: top;\n",
       "    }\n",
       "\n",
       "    .dataframe thead th {\n",
       "        text-align: right;\n",
       "    }\n",
       "</style>\n",
       "<table border=\"1\" class=\"dataframe\">\n",
       "  <thead>\n",
       "    <tr style=\"text-align: right;\">\n",
       "      <th></th>\n",
       "      <th>id</th>\n",
       "    </tr>\n",
       "  </thead>\n",
       "  <tbody>\n",
       "    <tr>\n",
       "      <td>count</td>\n",
       "      <td>498.000000</td>\n",
       "    </tr>\n",
       "    <tr>\n",
       "      <td>mean</td>\n",
       "      <td>248.295181</td>\n",
       "    </tr>\n",
       "    <tr>\n",
       "      <td>std</td>\n",
       "      <td>143.074896</td>\n",
       "    </tr>\n",
       "    <tr>\n",
       "      <td>min</td>\n",
       "      <td>1.000000</td>\n",
       "    </tr>\n",
       "    <tr>\n",
       "      <td>25%</td>\n",
       "      <td>125.250000</td>\n",
       "    </tr>\n",
       "    <tr>\n",
       "      <td>50%</td>\n",
       "      <td>247.500000</td>\n",
       "    </tr>\n",
       "    <tr>\n",
       "      <td>75%</td>\n",
       "      <td>371.750000</td>\n",
       "    </tr>\n",
       "    <tr>\n",
       "      <td>max</td>\n",
       "      <td>496.000000</td>\n",
       "    </tr>\n",
       "  </tbody>\n",
       "</table>\n",
       "</div>"
      ],
      "text/plain": [
       "               id\n",
       "count  498.000000\n",
       "mean   248.295181\n",
       "std    143.074896\n",
       "min      1.000000\n",
       "25%    125.250000\n",
       "50%    247.500000\n",
       "75%    371.750000\n",
       "max    496.000000"
      ]
     },
     "execution_count": 29,
     "metadata": {},
     "output_type": "execute_result"
    }
   ],
   "source": [
    "df.describe()"
   ]
  },
  {
   "cell_type": "code",
   "execution_count": 30,
   "metadata": {},
   "outputs": [
    {
     "data": {
      "text/html": [
       "<div>\n",
       "<style scoped>\n",
       "    .dataframe tbody tr th:only-of-type {\n",
       "        vertical-align: middle;\n",
       "    }\n",
       "\n",
       "    .dataframe tbody tr th {\n",
       "        vertical-align: top;\n",
       "    }\n",
       "\n",
       "    .dataframe thead th {\n",
       "        text-align: right;\n",
       "    }\n",
       "</style>\n",
       "<table border=\"1\" class=\"dataframe\">\n",
       "  <thead>\n",
       "    <tr style=\"text-align: right;\">\n",
       "      <th></th>\n",
       "      <th>time</th>\n",
       "      <th>id</th>\n",
       "      <th>age</th>\n",
       "      <th>sex</th>\n",
       "      <th>education</th>\n",
       "      <th>job</th>\n",
       "      <th>location</th>\n",
       "      <th>correct_understanding</th>\n",
       "      <th>my_party</th>\n",
       "      <th>parent_party</th>\n",
       "      <th>channel_find_info</th>\n",
       "      <th>control_feelings</th>\n",
       "      <th>hospital_resource_shortage</th>\n",
       "      <th>family_medical_resources</th>\n",
       "      <th>family_living_resources</th>\n",
       "    </tr>\n",
       "  </thead>\n",
       "  <tbody>\n",
       "    <tr>\n",
       "      <td>0</td>\n",
       "      <td>2020-01-26 11:59:57</td>\n",
       "      <td>480</td>\n",
       "      <td>18~25</td>\n",
       "      <td>男</td>\n",
       "      <td>大学本科</td>\n",
       "      <td>大学生</td>\n",
       "      <td>湖北省宜昌市</td>\n",
       "      <td>病毒对老年人有严重的威胁，病毒会进化，并且致死性越来越强</td>\n",
       "      <td>已取消所有聚会安排</td>\n",
       "      <td>父母已取消所有聚会安排</td>\n",
       "      <td>微信好友，公众号，微信群，微信朋友圈，微博，电视新闻</td>\n",
       "      <td>中立，不做判断</td>\n",
       "      <td>已有权威机构证实存在短缺</td>\n",
       "      <td>口罩，酒精，体温计</td>\n",
       "      <td>已储备30天以上的物资</td>\n",
       "    </tr>\n",
       "    <tr>\n",
       "      <td>1</td>\n",
       "      <td>2020-01-26 03:48:37</td>\n",
       "      <td>203</td>\n",
       "      <td>26~30</td>\n",
       "      <td>女</td>\n",
       "      <td>高中/中专/技校</td>\n",
       "      <td>个体经营户</td>\n",
       "      <td>福建省莆田市</td>\n",
       "      <td>病毒会进化，并且致死性越来越强，病毒对老年人有严重的威胁，感染病毒后会立即出现咳嗽、发烧的症...</td>\n",
       "      <td>有中型聚会安排（5～10人）</td>\n",
       "      <td>父母已取消所有聚会安排</td>\n",
       "      <td>微信好友，公众号，微信群，微博，微信朋友圈，抖音，电视新闻</td>\n",
       "      <td>中立，不做判断</td>\n",
       "      <td>没有确凿信息，不断定</td>\n",
       "      <td>口罩，体温计，酒精</td>\n",
       "      <td>未储备</td>\n",
       "    </tr>\n",
       "  </tbody>\n",
       "</table>\n",
       "</div>"
      ],
      "text/plain": [
       "                  time   id    age sex education    job location  \\\n",
       "0  2020-01-26 11:59:57  480  18~25   男      大学本科    大学生   湖北省宜昌市   \n",
       "1  2020-01-26 03:48:37  203  26~30   女  高中/中专/技校  个体经营户   福建省莆田市   \n",
       "\n",
       "                               correct_understanding        my_party  \\\n",
       "0                       病毒对老年人有严重的威胁，病毒会进化，并且致死性越来越强       已取消所有聚会安排   \n",
       "1  病毒会进化，并且致死性越来越强，病毒对老年人有严重的威胁，感染病毒后会立即出现咳嗽、发烧的症...  有中型聚会安排（5～10人）   \n",
       "\n",
       "  parent_party              channel_find_info control_feelings  \\\n",
       "0  父母已取消所有聚会安排     微信好友，公众号，微信群，微信朋友圈，微博，电视新闻          中立，不做判断   \n",
       "1  父母已取消所有聚会安排  微信好友，公众号，微信群，微博，微信朋友圈，抖音，电视新闻          中立，不做判断   \n",
       "\n",
       "  hospital_resource_shortage family_medical_resources family_living_resources  \n",
       "0               已有权威机构证实存在短缺                口罩，酒精，体温计             已储备30天以上的物资  \n",
       "1                 没有确凿信息，不断定                口罩，体温计，酒精                     未储备  "
      ]
     },
     "execution_count": 30,
     "metadata": {},
     "output_type": "execute_result"
    }
   ],
   "source": [
    "df.head(2)"
   ]
  },
  {
   "cell_type": "code",
   "execution_count": 31,
   "metadata": {},
   "outputs": [
    {
     "data": {
      "text/plain": [
       "18~25    283\n",
       "26~30    125\n",
       "31~40     55\n",
       "41~50     16\n",
       "18岁以下     11\n",
       "51~60      7\n",
       "60以上       1\n",
       "Name: age, dtype: int64"
      ]
     },
     "execution_count": 31,
     "metadata": {},
     "output_type": "execute_result"
    }
   ],
   "source": [
    "df.age.value_counts()"
   ]
  },
  {
   "cell_type": "code",
   "execution_count": 32,
   "metadata": {},
   "outputs": [
    {
     "data": {
      "text/plain": [
       "18~25    179\n",
       "26~30     65\n",
       "31~40     34\n",
       "41~50     10\n",
       "18岁以下      8\n",
       "51~60      3\n",
       "60以上       1\n",
       "Name: age, dtype: int64"
      ]
     },
     "execution_count": 32,
     "metadata": {},
     "output_type": "execute_result"
    }
   ],
   "source": [
    "df[df.sex == '女']['age'].value_counts()"
   ]
  },
  {
   "cell_type": "code",
   "execution_count": 33,
   "metadata": {},
   "outputs": [
    {
     "data": {
      "text/plain": [
       "18~25    93\n",
       "26~30    54\n",
       "31~40    20\n",
       "41~50     5\n",
       "51~60     4\n",
       "18岁以下     2\n",
       "Name: age, dtype: int64"
      ]
     },
     "execution_count": 33,
     "metadata": {},
     "output_type": "execute_result"
    }
   ],
   "source": [
    "df[df.sex == '男']['age'].value_counts()"
   ]
  },
  {
   "cell_type": "code",
   "execution_count": 34,
   "metadata": {},
   "outputs": [
    {
     "data": {
      "text/plain": [
       "60以上       1\n",
       "51~60      3\n",
       "18岁以下      8\n",
       "41~50     10\n",
       "31~40     34\n",
       "26~30     65\n",
       "18~25    179\n",
       "Name: age, dtype: int64"
      ]
     },
     "execution_count": 34,
     "metadata": {},
     "output_type": "execute_result"
    }
   ],
   "source": [
    "df[df.sex == '女']['age'].value_counts().sort_values()"
   ]
  },
  {
   "cell_type": "code",
   "execution_count": 35,
   "metadata": {},
   "outputs": [
    {
     "data": {
      "text/plain": [
       "18岁以下     2\n",
       "51~60     4\n",
       "41~50     5\n",
       "31~40    20\n",
       "26~30    54\n",
       "18~25    93\n",
       "Name: age, dtype: int64"
      ]
     },
     "execution_count": 35,
     "metadata": {},
     "output_type": "execute_result"
    }
   ],
   "source": [
    "df[df.sex == '男']['age'].value_counts().sort_values()"
   ]
  },
  {
   "cell_type": "code",
   "execution_count": 36,
   "metadata": {},
   "outputs": [
    {
     "data": {
      "text/plain": [
       "女       300\n",
       "男       178\n",
       "不想透露     20\n",
       "Name: sex, dtype: int64"
      ]
     },
     "execution_count": 36,
     "metadata": {},
     "output_type": "execute_result"
    }
   ],
   "source": [
    "df.sex.value_counts()"
   ]
  },
  {
   "cell_type": "code",
   "execution_count": 37,
   "metadata": {},
   "outputs": [
    {
     "data": {
      "text/plain": [
       "Index(['18~25', '26~30', '31~40', '41~50', '18岁以下', '51~60', '60以上'], dtype='object')"
      ]
     },
     "execution_count": 37,
     "metadata": {},
     "output_type": "execute_result"
    }
   ],
   "source": [
    "df[df.sex == '女']['age'].value_counts().index"
   ]
  },
  {
   "cell_type": "code",
   "execution_count": 38,
   "metadata": {},
   "outputs": [
    {
     "data": {
      "text/plain": [
       "array([179,  65,  34,  10,   8,   3,   1])"
      ]
     },
     "execution_count": 38,
     "metadata": {},
     "output_type": "execute_result"
    }
   ],
   "source": [
    "df[df.sex == '女']['age'].value_counts().values"
   ]
  },
  {
   "cell_type": "code",
   "execution_count": 39,
   "metadata": {},
   "outputs": [
    {
     "data": {
      "text/plain": [
       "array([179,  65,  34,  10,   8,   3,   1])"
      ]
     },
     "execution_count": 39,
     "metadata": {},
     "output_type": "execute_result"
    }
   ],
   "source": [
    "age_woman = df[df.sex == '女']['age'].value_counts().values\n",
    "age_woman"
   ]
  },
  {
   "cell_type": "code",
   "execution_count": 40,
   "metadata": {},
   "outputs": [
    {
     "data": {
      "text/plain": [
       "array([93, 54, 20,  5,  4,  2])"
      ]
     },
     "execution_count": 40,
     "metadata": {},
     "output_type": "execute_result"
    }
   ],
   "source": [
    "age_man = df[df.sex == '男']['age'].value_counts().values\n",
    "age_man"
   ]
  },
  {
   "cell_type": "code",
   "execution_count": 41,
   "metadata": {},
   "outputs": [
    {
     "data": {
      "text/plain": [
       "Index(['18~25', '26~30', '31~40', '41~50', '18岁以下', '51~60', '60以上'], dtype='object')"
      ]
     },
     "execution_count": 41,
     "metadata": {},
     "output_type": "execute_result"
    }
   ],
   "source": [
    "labels_woman = df[df.sex == '女']['age'].value_counts().index\n",
    "labels_woman"
   ]
  },
  {
   "cell_type": "code",
   "execution_count": 42,
   "metadata": {},
   "outputs": [
    {
     "data": {
      "text/plain": [
       "pandas.core.indexes.base.Index"
      ]
     },
     "execution_count": 42,
     "metadata": {},
     "output_type": "execute_result"
    }
   ],
   "source": [
    "type(labels_woman)"
   ]
  },
  {
   "cell_type": "code",
   "execution_count": 43,
   "metadata": {},
   "outputs": [],
   "source": [
    "labels_woman = list(labels_woman)"
   ]
  },
  {
   "cell_type": "code",
   "execution_count": 44,
   "metadata": {},
   "outputs": [
    {
     "data": {
      "text/plain": [
       "'18~25'"
      ]
     },
     "execution_count": 44,
     "metadata": {},
     "output_type": "execute_result"
    }
   ],
   "source": [
    "labels_woman[0]"
   ]
  },
  {
   "cell_type": "code",
   "execution_count": 45,
   "metadata": {},
   "outputs": [
    {
     "data": {
      "text/plain": [
       "['18~25', '26~30', '31~40', '41~50', '<18', '51~60', '60以上']"
      ]
     },
     "execution_count": 45,
     "metadata": {},
     "output_type": "execute_result"
    }
   ],
   "source": [
    "labels_woman[4] = '<18'\n",
    "labels_woman"
   ]
  },
  {
   "cell_type": "code",
   "execution_count": 46,
   "metadata": {},
   "outputs": [
    {
     "data": {
      "text/plain": [
       "['18~25', '26~30', '31~40', '41~50', '<18', '51~60', '>60']"
      ]
     },
     "execution_count": 46,
     "metadata": {},
     "output_type": "execute_result"
    }
   ],
   "source": [
    "labels_woman[6] = '>60'\n",
    "labels_woman"
   ]
  },
  {
   "cell_type": "code",
   "execution_count": 47,
   "metadata": {},
   "outputs": [
    {
     "data": {
      "text/plain": [
       "['18~25', '26~30', '31~40', '41~50', '51~60', '18岁以下']"
      ]
     },
     "execution_count": 47,
     "metadata": {},
     "output_type": "execute_result"
    }
   ],
   "source": [
    "labels_man = list(df[df.sex == '男']['age'].value_counts().index)\n",
    "labels_man"
   ]
  },
  {
   "cell_type": "code",
   "execution_count": 48,
   "metadata": {},
   "outputs": [
    {
     "data": {
      "text/plain": [
       "['18~25', '26~30', '31~40', '41~50', '51~60', '<18']"
      ]
     },
     "execution_count": 48,
     "metadata": {},
     "output_type": "execute_result"
    }
   ],
   "source": [
    "labels_man[5] = '<18'\n",
    "labels_man"
   ]
  },
  {
   "cell_type": "code",
   "execution_count": 49,
   "metadata": {},
   "outputs": [],
   "source": [
    "import seaborn as sns\n",
    "import warnings\n",
    "warnings.filterwarnings(\"ignore\")\n",
    "import matplotlib.pyplot as plt\n",
    "plt.rcParams['font.sans-serif'] = ['SimHei-windows.ttf'] \n",
    "# 步骤一（替换sans-serif字体）\n",
    "plt.rcParams['axes.unicode_minus'] = False\n",
    "# 步骤二（解决坐标轴负数的负号显示问题）"
   ]
  },
  {
   "cell_type": "code",
   "execution_count": 50,
   "metadata": {},
   "outputs": [
    {
     "name": "stderr",
     "output_type": "stream",
     "text": [
      "findfont: Font family ['serif'] not found. Falling back to DejaVu Sans.\n",
      "findfont: Font family ['serif'] not found. Falling back to DejaVu Sans.\n"
     ]
    },
    {
     "data": {
      "image/png": "[encoded data removed]",
      "text/plain": [
       "<Figure size 720x432 with 1 Axes>"
      ]
     },
     "metadata": {},
     "output_type": "display_data"
    }
   ],
   "source": [
    "plt.figure(figsize=(10,6))\n",
    "plt.pie(age_woman,labels=labels_woman,autopct='%1.1f%%')\n",
    "plt.title(\"woman-age\")\n",
    "plt.show()"
   ]
  },
  {
   "cell_type": "markdown",
   "metadata": {},
   "source": [
    "- 1 调研问卷传播渠道原因，存在男女性别用户在不同渠道看到导致调研男女不一样\n",
    "- 2 从调研结果来看，女性年轻人0-30岁占据80%，男性30岁以内占据80%\n",
    "- 3.1 20来岁非典40来岁肺炎，苍天放过谁追杀的微信截图段子\n",
    "- 3.2 从调研数据来看，这部分人群男性总共占据5%,女性总共占据4.3%"
   ]
  },
  {
   "cell_type": "code",
   "execution_count": 55,
   "metadata": {},
   "outputs": [
    {
     "data": {
      "image/png": "[encoded data removed]",
      "text/plain": [
       "<Figure size 576x432 with 1 Axes>"
      ]
     },
     "metadata": {},
     "output_type": "display_data"
    }
   ],
   "source": [
    "plt.rcParams['font.sans-serif'] = ['SimHei-windows.ttf']\n",
    "plt.rcParams['axes.unicode_minus'] = False\n",
    "plt.figure(figsize=(8,6))\n",
    "plt.pie(age_man,labels=labels_man,autopct='%1.1f%%')\n",
    "plt.title(\"男性年龄调研情况\",fontproperties=myfont)\n",
    "plt.show()"
   ]
  },
  {
   "cell_type": "code",
   "execution_count": 56,
   "metadata": {},
   "outputs": [
    {
     "data": {
      "text/plain": [
       "'/home/apple/anaconda3/lib/python3.7/site-packages/matplotlib/mpl-data/matplotlibrc'"
      ]
     },
     "execution_count": 56,
     "metadata": {},
     "output_type": "execute_result"
    }
   ],
   "source": [
    "# import matplotlib.pyplot as plt\n",
    "import matplotlib\n",
    "matplotlib.matplotlib_fname()"
   ]
  },
  {
   "cell_type": "code",
   "execution_count": 57,
   "metadata": {},
   "outputs": [
    {
     "data": {
      "text/plain": [
       "'/usr/local/lib/python2.7/dist-packages/matplotlib/mpl-data/fonts/ttf/SimHei-windows.ttf'"
      ]
     },
     "execution_count": 57,
     "metadata": {},
     "output_type": "execute_result"
    }
   ],
   "source": [
    "ttfroad = '/usr/local/lib/python2.7/dist-packages/matplotlib/mpl-data/fonts/ttf/SimHei-windows.ttf'\n",
    "ttfroad"
   ]
  },
  {
   "cell_type": "code",
   "execution_count": 58,
   "metadata": {},
   "outputs": [
    {
     "data": {
      "image/png": "[encoded data removed]",
      "text/plain": [
       "<Figure size 432x288 with 1 Axes>"
      ]
     },
     "metadata": {
      "needs_background": "light"
     },
     "output_type": "display_data"
    }
   ],
   "source": [
    "# https://www.linuxidc.com/Linux/2019-03/157632.htm\n",
    "ttfroad = '/usr/local/lib/python2.7/dist-packages/matplotlib/mpl-data/fonts/ttf/SimHei-windows.ttf'\n",
    "import matplotlib \n",
    "# matplotlib.use('qt4agg') \n",
    "from matplotlib.font_manager import * \n",
    "import matplotlib.pyplot as plt \n",
    "#定义自定义字体，文件名从1.b查看系统中文字体中来 \n",
    "myfont = FontProperties(fname=ttfroad) \n",
    "#解决负号'-'显示为方块的问题 \n",
    "matplotlib.rcParams['axes.unicode_minus']=False \n",
    "#notebook模式下绘图内嵌\n",
    "%matplotlib inline  \n",
    "plt.plot([-1,2,-5,3]) \n",
    "plt.title(u'test',fontproperties=myfont) \n",
    "plt.show()"
   ]
  },
  {
   "cell_type": "code",
   "execution_count": 59,
   "metadata": {},
   "outputs": [
    {
     "data": {
      "text/html": [
       "<div>\n",
       "<style scoped>\n",
       "    .dataframe tbody tr th:only-of-type {\n",
       "        vertical-align: middle;\n",
       "    }\n",
       "\n",
       "    .dataframe tbody tr th {\n",
       "        vertical-align: top;\n",
       "    }\n",
       "\n",
       "    .dataframe thead th {\n",
       "        text-align: right;\n",
       "    }\n",
       "</style>\n",
       "<table border=\"1\" class=\"dataframe\">\n",
       "  <thead>\n",
       "    <tr style=\"text-align: right;\">\n",
       "      <th></th>\n",
       "      <th>time</th>\n",
       "      <th>id</th>\n",
       "      <th>age</th>\n",
       "      <th>sex</th>\n",
       "      <th>education</th>\n",
       "      <th>job</th>\n",
       "      <th>location</th>\n",
       "      <th>correct_understanding</th>\n",
       "      <th>my_party</th>\n",
       "      <th>parent_party</th>\n",
       "      <th>channel_find_info</th>\n",
       "      <th>control_feelings</th>\n",
       "      <th>hospital_resource_shortage</th>\n",
       "      <th>family_medical_resources</th>\n",
       "      <th>family_living_resources</th>\n",
       "    </tr>\n",
       "  </thead>\n",
       "  <tbody>\n",
       "    <tr>\n",
       "      <td>0</td>\n",
       "      <td>2020-01-26 11:59:57</td>\n",
       "      <td>480</td>\n",
       "      <td>18~25</td>\n",
       "      <td>男</td>\n",
       "      <td>大学本科</td>\n",
       "      <td>大学生</td>\n",
       "      <td>湖北省宜昌市</td>\n",
       "      <td>病毒对老年人有严重的威胁，病毒会进化，并且致死性越来越强</td>\n",
       "      <td>已取消所有聚会安排</td>\n",
       "      <td>父母已取消所有聚会安排</td>\n",
       "      <td>微信好友，公众号，微信群，微信朋友圈，微博，电视新闻</td>\n",
       "      <td>中立，不做判断</td>\n",
       "      <td>已有权威机构证实存在短缺</td>\n",
       "      <td>口罩，酒精，体温计</td>\n",
       "      <td>已储备30天以上的物资</td>\n",
       "    </tr>\n",
       "    <tr>\n",
       "      <td>1</td>\n",
       "      <td>2020-01-26 03:48:37</td>\n",
       "      <td>203</td>\n",
       "      <td>26~30</td>\n",
       "      <td>女</td>\n",
       "      <td>高中/中专/技校</td>\n",
       "      <td>个体经营户</td>\n",
       "      <td>福建省莆田市</td>\n",
       "      <td>病毒会进化，并且致死性越来越强，病毒对老年人有严重的威胁，感染病毒后会立即出现咳嗽、发烧的症...</td>\n",
       "      <td>有中型聚会安排（5～10人）</td>\n",
       "      <td>父母已取消所有聚会安排</td>\n",
       "      <td>微信好友，公众号，微信群，微博，微信朋友圈，抖音，电视新闻</td>\n",
       "      <td>中立，不做判断</td>\n",
       "      <td>没有确凿信息，不断定</td>\n",
       "      <td>口罩，体温计，酒精</td>\n",
       "      <td>未储备</td>\n",
       "    </tr>\n",
       "  </tbody>\n",
       "</table>\n",
       "</div>"
      ],
      "text/plain": [
       "                  time   id    age sex education    job location  \\\n",
       "0  2020-01-26 11:59:57  480  18~25   男      大学本科    大学生   湖北省宜昌市   \n",
       "1  2020-01-26 03:48:37  203  26~30   女  高中/中专/技校  个体经营户   福建省莆田市   \n",
       "\n",
       "                               correct_understanding        my_party  \\\n",
       "0                       病毒对老年人有严重的威胁，病毒会进化，并且致死性越来越强       已取消所有聚会安排   \n",
       "1  病毒会进化，并且致死性越来越强，病毒对老年人有严重的威胁，感染病毒后会立即出现咳嗽、发烧的症...  有中型聚会安排（5～10人）   \n",
       "\n",
       "  parent_party              channel_find_info control_feelings  \\\n",
       "0  父母已取消所有聚会安排     微信好友，公众号，微信群，微信朋友圈，微博，电视新闻          中立，不做判断   \n",
       "1  父母已取消所有聚会安排  微信好友，公众号，微信群，微博，微信朋友圈，抖音，电视新闻          中立，不做判断   \n",
       "\n",
       "  hospital_resource_shortage family_medical_resources family_living_resources  \n",
       "0               已有权威机构证实存在短缺                口罩，酒精，体温计             已储备30天以上的物资  \n",
       "1                 没有确凿信息，不断定                口罩，体温计，酒精                     未储备  "
      ]
     },
     "execution_count": 59,
     "metadata": {},
     "output_type": "execute_result"
    }
   ],
   "source": [
    "df.head(2)"
   ]
  },
  {
   "cell_type": "code",
   "execution_count": 60,
   "metadata": {},
   "outputs": [
    {
     "data": {
      "text/plain": [
       "微信好友，公众号，微信群，微信朋友圈，微博，电视新闻       19\n",
       "微信好友，公众号，微信群，微信朋友圈，微博            13\n",
       "微信好友，公众号，微信群，微信朋友圈，微博，抖音，电视新闻    12\n",
       "微博，电视新闻                          11\n",
       "微博                                9\n",
       "                                 ..\n",
       "微博，微信朋友圈，微信好友，公众号，电视新闻            1\n",
       "微信群，微信朋友圈，微信好友，公众号，电视新闻           1\n",
       "微信群，微信朋友圈，微博，抖音，电视新闻，其他，微信好友      1\n",
       "微信朋友圈，微博，电视新闻，微信好友，公众号，微信群        1\n",
       "微信好友，微信群，微博，电视新闻，抖音               1\n",
       "Name: channel_find_info, Length: 315, dtype: int64"
      ]
     },
     "execution_count": 60,
     "metadata": {},
     "output_type": "execute_result"
    }
   ],
   "source": [
    "channel1 = df.channel_find_info.value_counts()\n",
    "channel1"
   ]
  },
  {
   "cell_type": "code",
   "execution_count": null,
   "metadata": {},
   "outputs": [],
   "source": [
    "channel2 = df.channel_find_info.values\n",
    "channel2\n",
    "# array(['微信好友，公众号，微信群，微信朋友圈，微博，电视新闻', '微信好友，公众号，微信群，微博，微信朋友圈，抖音，电视新闻',\n",
    "#       '微信群，公众号，微信好友，微信朋友圈，微博', '公众号，微信群，微信朋友圈，微博，抖音，电视新闻，微信好友',\n",
    "#       '微信好友，公众号，微信群，微信朋友圈，微博，抖音，电视新闻，其他', '微信群，公众号，微信朋友圈，电视新闻',"
   ]
  },
  {
   "cell_type": "code",
   "execution_count": null,
   "metadata": {},
   "outputs": [],
   "source": [
    "channel3 = list(df.channel_find_info.values)\n",
    "channel3\n",
    "# ['微信好友，公众号，微信群，微信朋友圈，微博，电视新闻',\n",
    "# '微信好友，公众号，微信群，微博，微信朋友圈，抖音，电视新闻',\n",
    "# '微信群，公众号，微信好友，微信朋友圈，微博',\n",
    "# '公众号，微信群，微信朋友圈，微博，抖音，电视新闻，微信好友',\n",
    "# '微信好友，公众号，微信群，微信朋友圈，微博，抖音，电视新闻，其他',\n",
    "# '微信群，公众号，微信朋友圈，电视新闻',"
   ]
  },
  {
   "cell_type": "code",
   "execution_count": null,
   "metadata": {},
   "outputs": [],
   "source": [
    "from collections import Counter\n",
    "result = Counter(channel3)\n",
    "result\n",
    "# channel3是列表内多个字符串组合，字符串内的数据没单独抽离\n",
    "# Counter({'微信好友，公众号，微信群，微信朋友圈，微博，电视新闻': 19,\n",
    "#         '微信好友，公众号，微信群，微博，微信朋友圈，抖音，电视新闻': 2,\n",
    "#         '微信群，公众号，微信好友，微信朋友圈，微博': 1,"
   ]
  },
  {
   "cell_type": "code",
   "execution_count": 64,
   "metadata": {},
   "outputs": [
    {
     "data": {
      "text/plain": [
       "'微信好友，公众号，微信群，微信朋友圈，微博，电视新闻'"
      ]
     },
     "execution_count": 64,
     "metadata": {},
     "output_type": "execute_result"
    }
   ],
   "source": [
    "channel3[0]"
   ]
  },
  {
   "cell_type": "code",
   "execution_count": 65,
   "metadata": {},
   "outputs": [
    {
     "data": {
      "text/plain": [
       "['微信好友，公众号，微信群，微信朋友圈，微博，电视新闻']"
      ]
     },
     "execution_count": 65,
     "metadata": {},
     "output_type": "execute_result"
    }
   ],
   "source": [
    "channel3[0].split(',')"
   ]
  },
  {
   "cell_type": "code",
   "execution_count": 66,
   "metadata": {},
   "outputs": [
    {
     "data": {
      "text/plain": [
       "['微信好友，公众号，微信群，微博，微信朋友圈，抖音，电视新闻']"
      ]
     },
     "execution_count": 66,
     "metadata": {},
     "output_type": "execute_result"
    }
   ],
   "source": [
    "channel3[1].split(',')"
   ]
  },
  {
   "cell_type": "code",
   "execution_count": 67,
   "metadata": {},
   "outputs": [
    {
     "data": {
      "text/plain": [
       "'微信好友'"
      ]
     },
     "execution_count": 67,
     "metadata": {},
     "output_type": "execute_result"
    }
   ],
   "source": [
    "channel3[1].split('，')[0]\n",
    "# 单个字符内是中文，区分，split时得用中文的，逗号"
   ]
  },
  {
   "cell_type": "code",
   "execution_count": 68,
   "metadata": {},
   "outputs": [
    {
     "data": {
      "text/plain": [
       "'公众号'"
      ]
     },
     "execution_count": 68,
     "metadata": {},
     "output_type": "execute_result"
    }
   ],
   "source": [
    "channel3[1].split('，')[1]"
   ]
  },
  {
   "cell_type": "code",
   "execution_count": 69,
   "metadata": {},
   "outputs": [
    {
     "data": {
      "text/plain": [
       "7"
      ]
     },
     "execution_count": 69,
     "metadata": {},
     "output_type": "execute_result"
    }
   ],
   "source": [
    "len(channel3[1].split('，'))"
   ]
  },
  {
   "cell_type": "code",
   "execution_count": 70,
   "metadata": {},
   "outputs": [
    {
     "name": "stdout",
     "output_type": "stream",
     "text": [
      "0\n",
      "微信好友\n",
      "1\n",
      "公众号\n",
      "2\n",
      "微信群\n",
      "3\n",
      "微博\n",
      "4\n",
      "微信朋友圈\n",
      "5\n",
      "抖音\n",
      "6\n",
      "电视新闻\n"
     ]
    }
   ],
   "source": [
    "for itest in range(len(channel3[1].split('，'))):\n",
    "    print(itest)\n",
    "    print(channel3[1].split('，')[itest])"
   ]
  },
  {
   "cell_type": "code",
   "execution_count": 71,
   "metadata": {},
   "outputs": [
    {
     "data": {
      "text/plain": [
       "498"
      ]
     },
     "execution_count": 71,
     "metadata": {},
     "output_type": "execute_result"
    }
   ],
   "source": [
    "len(channel3)"
   ]
  },
  {
   "cell_type": "code",
   "execution_count": 72,
   "metadata": {},
   "outputs": [
    {
     "name": "stdout",
     "output_type": "stream",
     "text": [
      "range(0, 498)\n"
     ]
    }
   ],
   "source": [
    "print(range(len(channel3)))"
   ]
  },
  {
   "cell_type": "code",
   "execution_count": null,
   "metadata": {},
   "outputs": [],
   "source": [
    "list_all_channel = []\n",
    "for i in range(len(channel3)):\n",
    "    for j in range(len(channel3[i].split('，'))):\n",
    "    # print(i)\n",
    "        list_all_channel.append(channel3[i].split('，')[j])\n",
    "list_all_channel\n",
    "# ['微信好友',\n",
    "# '公众号',\n",
    "# '微信群',\n",
    "# '微信朋友圈',\n",
    "# '微博',\n",
    "# '电视新闻',\n",
    "# '微信好友',"
   ]
  },
  {
   "cell_type": "code",
   "execution_count": 74,
   "metadata": {},
   "outputs": [
    {
     "data": {
      "text/plain": [
       "2178"
      ]
     },
     "execution_count": 74,
     "metadata": {},
     "output_type": "execute_result"
    }
   ],
   "source": [
    "len(list_all_channel)"
   ]
  },
  {
   "cell_type": "code",
   "execution_count": 75,
   "metadata": {},
   "outputs": [
    {
     "data": {
      "text/plain": [
       "list"
      ]
     },
     "execution_count": 75,
     "metadata": {},
     "output_type": "execute_result"
    }
   ],
   "source": [
    "type(list_all_channel)"
   ]
  },
  {
   "cell_type": "code",
   "execution_count": 76,
   "metadata": {
    "scrolled": true
   },
   "outputs": [
    {
     "data": {
      "text/plain": [
       "Counter({'微信好友': 324,\n",
       "         '公众号': 291,\n",
       "         '微信群': 285,\n",
       "         '微信朋友圈': 356,\n",
       "         '微博': 366,\n",
       "         '电视新闻': 312,\n",
       "         '抖音': 122,\n",
       "         '其他': 122})"
      ]
     },
     "execution_count": 76,
     "metadata": {},
     "output_type": "execute_result"
    }
   ],
   "source": [
    "from collections import Counter\n",
    "result = Counter(list_all_channel)\n",
    "result\n",
    "# list_all_channel为列表数据，已经抽离出字符串成为单个字符\n",
    "# 从调研获取信息传播渠道来看，大部分人群是通过微信来获取信息\n"
   ]
  },
  {
   "cell_type": "code",
   "execution_count": 77,
   "metadata": {},
   "outputs": [
    {
     "data": {
      "text/plain": [
       "{'微信好友': 324,\n",
       " '公众号': 291,\n",
       " '微信群': 285,\n",
       " '微信朋友圈': 356,\n",
       " '微博': 366,\n",
       " '电视新闻': 312,\n",
       " '抖音': 122,\n",
       " '其他': 122}"
      ]
     },
     "execution_count": 77,
     "metadata": {},
     "output_type": "execute_result"
    }
   ],
   "source": [
    "dict(result)"
   ]
  },
  {
   "cell_type": "code",
   "execution_count": 78,
   "metadata": {},
   "outputs": [
    {
     "data": {
      "text/plain": [
       "dict_keys(['微信好友', '公众号', '微信群', '微信朋友圈', '微博', '电视新闻', '抖音', '其他'])"
      ]
     },
     "execution_count": 78,
     "metadata": {},
     "output_type": "execute_result"
    }
   ],
   "source": [
    "channel_keys = dict(result).keys()\n",
    "channel_keys"
   ]
  },
  {
   "cell_type": "code",
   "execution_count": 79,
   "metadata": {},
   "outputs": [
    {
     "data": {
      "text/plain": [
       "dict_values([324, 291, 285, 356, 366, 312, 122, 122])"
      ]
     },
     "execution_count": 79,
     "metadata": {},
     "output_type": "execute_result"
    }
   ],
   "source": [
    "channel_values = dict(result).values()\n",
    "channel_values"
   ]
  },
  {
   "cell_type": "code",
   "execution_count": 80,
   "metadata": {},
   "outputs": [
    {
     "data": {
      "text/plain": [
       "'微信好友'"
      ]
     },
     "execution_count": 80,
     "metadata": {},
     "output_type": "execute_result"
    }
   ],
   "source": [
    "list(result.items())[0][0]"
   ]
  },
  {
   "cell_type": "code",
   "execution_count": 81,
   "metadata": {},
   "outputs": [
    {
     "data": {
      "text/plain": [
       "324"
      ]
     },
     "execution_count": 81,
     "metadata": {},
     "output_type": "execute_result"
    }
   ],
   "source": [
    "list(result.items())[0][1]"
   ]
  },
  {
   "cell_type": "code",
   "execution_count": 82,
   "metadata": {},
   "outputs": [
    {
     "data": {
      "text/plain": [
       "('微信好友', 324)"
      ]
     },
     "execution_count": 82,
     "metadata": {},
     "output_type": "execute_result"
    }
   ],
   "source": [
    "list(result.items())[0]"
   ]
  },
  {
   "cell_type": "code",
   "execution_count": 83,
   "metadata": {},
   "outputs": [
    {
     "data": {
      "image/png": "[encoded data removed]",
      "text/plain": [
       "<Figure size 576x432 with 1 Axes>"
      ]
     },
     "metadata": {},
     "output_type": "display_data"
    }
   ],
   "source": [
    "plt.rcParams['font.sans-serif'] = ['SimHei-windows.ttf']\n",
    "plt.rcParams['axes.unicode_minus'] = False\n",
    "plt.figure(figsize=(8,6))\n",
    "plt.pie(channel_values,labels=channel_keys,autopct='%1.1f%%')\n",
    "plt.title(\"传播渠道占比情况\",fontproperties=myfont)\n",
    "plt.show()"
   ]
  },
  {
   "cell_type": "code",
   "execution_count": 84,
   "metadata": {},
   "outputs": [
    {
     "data": {
      "image/png": "[encoded data removed]",
      "text/plain": [
       "<Figure size 576x432 with 1 Axes>"
      ]
     },
     "metadata": {},
     "output_type": "display_data"
    }
   ],
   "source": [
    "# https://www.linuxidc.com/Linux/2019-03/157632.htm\n",
    "ttfroad = '/usr/local/lib/python2.7/dist-packages/matplotlib/mpl-data/fonts/ttf/SimHei-windows.ttf'\n",
    "import matplotlib \n",
    "# matplotlib.use('qt4agg') \n",
    "from matplotlib.font_manager import * \n",
    "import matplotlib.pyplot as plt \n",
    "#定义自定义字体，文件名从1.b查看系统中文字体中来 \n",
    "myfont = FontProperties(fname=ttfroad) \n",
    "#解决负号'-'显示为方块的问题 \n",
    "matplotlib.rcParams['axes.unicode_minus']=False \n",
    "#notebook模式下绘图内嵌\n",
    "%matplotlib inline\n",
    "plt.rcParams['font.sans-serif'] = ['SimHei-windows.ttf']\n",
    "plt.rcParams['axes.unicode_minus'] = False\n",
    "plt.figure(figsize=(8,6))\n",
    "plt.pie(channel_values,labels=channel_keys,autopct='%1.1f%%')\n",
    "plt.title(\"传播渠道占比情况\",fontproperties=myfont)\n",
    "plt.show()"
   ]
  },
  {
   "cell_type": "code",
   "execution_count": 87,
   "metadata": {},
   "outputs": [
    {
     "name": "stdout",
     "output_type": "stream",
     "text": [
      "dict_keys(['微信好友', '公众号', '微信群', '微信朋友圈', '微博', '电视新闻', '抖音', '其他'])\n",
      "dict_values([324, 291, 285, 356, 366, 312, 122, 122])\n"
     ]
    }
   ],
   "source": [
    "print(channel_keys)\n",
    "print(channel_values)"
   ]
  },
  {
   "cell_type": "code",
   "execution_count": 91,
   "metadata": {},
   "outputs": [
    {
     "data": {
      "image/png": "[encoded data removed]",
      "text/plain": [
       "<Figure size 720x432 with 1 Axes>"
      ]
     },
     "metadata": {},
     "output_type": "display_data"
    }
   ],
   "source": [
    "channel_keys2 = ['wechat_friends',\n",
    "                 'wechat_official_account',\n",
    "                 'weixin_group',\n",
    "                 'wechat_circle_of_friends',\n",
    "                 'weibo',\n",
    "                 'tv_news',\n",
    "                 'tik_tok',\n",
    "                 'others']\n",
    "plt.figure(figsize=(10,6))\n",
    "plt.pie(channel_values,labels=channel_keys2,autopct='%1.1f%%')\n",
    "plt.title(\"传播渠道占比情况\",fontproperties=myfont)\n",
    "plt.show()"
   ]
  },
  {
   "cell_type": "markdown",
   "metadata": {},
   "source": [
    "- 1 微信好友－公众号－微信群－微信朋友圈，腾讯的微信渠道占据了49%份额，抽样人群一半比例看微信\n",
    "- 2 微博份额、朋友圈，传播渠道份额一致，占据16％份额\n",
    "- 3 电视新闻渠道份额约等于朋友圈，占据14%，朋友圈可信度　vs 电视新闻可信度　应该没有相关性\n",
    "- 4.1 抖音用来刷肺炎新闻只占据6%份额，传播新闻力度上偏小\n",
    "- 4.2 抖音从娱乐本身角度来说，报喜不报忧，信息传播复杂度较差，继而推荐算法视频谣言及评论置顶也无传播谣言的可能"
   ]
  },
  {
   "cell_type": "code",
   "execution_count": 92,
   "metadata": {},
   "outputs": [
    {
     "data": {
      "text/html": [
       "<div>\n",
       "<style scoped>\n",
       "    .dataframe tbody tr th:only-of-type {\n",
       "        vertical-align: middle;\n",
       "    }\n",
       "\n",
       "    .dataframe tbody tr th {\n",
       "        vertical-align: top;\n",
       "    }\n",
       "\n",
       "    .dataframe thead th {\n",
       "        text-align: right;\n",
       "    }\n",
       "</style>\n",
       "<table border=\"1\" class=\"dataframe\">\n",
       "  <thead>\n",
       "    <tr style=\"text-align: right;\">\n",
       "      <th></th>\n",
       "      <th>time</th>\n",
       "      <th>id</th>\n",
       "      <th>age</th>\n",
       "      <th>sex</th>\n",
       "      <th>education</th>\n",
       "      <th>job</th>\n",
       "      <th>location</th>\n",
       "      <th>correct_understanding</th>\n",
       "      <th>my_party</th>\n",
       "      <th>parent_party</th>\n",
       "      <th>channel_find_info</th>\n",
       "      <th>control_feelings</th>\n",
       "      <th>hospital_resource_shortage</th>\n",
       "      <th>family_medical_resources</th>\n",
       "      <th>family_living_resources</th>\n",
       "    </tr>\n",
       "  </thead>\n",
       "  <tbody>\n",
       "    <tr>\n",
       "      <td>0</td>\n",
       "      <td>2020-01-26 11:59:57</td>\n",
       "      <td>480</td>\n",
       "      <td>18~25</td>\n",
       "      <td>男</td>\n",
       "      <td>大学本科</td>\n",
       "      <td>大学生</td>\n",
       "      <td>湖北省宜昌市</td>\n",
       "      <td>病毒对老年人有严重的威胁，病毒会进化，并且致死性越来越强</td>\n",
       "      <td>已取消所有聚会安排</td>\n",
       "      <td>父母已取消所有聚会安排</td>\n",
       "      <td>微信好友，公众号，微信群，微信朋友圈，微博，电视新闻</td>\n",
       "      <td>中立，不做判断</td>\n",
       "      <td>已有权威机构证实存在短缺</td>\n",
       "      <td>口罩，酒精，体温计</td>\n",
       "      <td>已储备30天以上的物资</td>\n",
       "    </tr>\n",
       "    <tr>\n",
       "      <td>1</td>\n",
       "      <td>2020-01-26 03:48:37</td>\n",
       "      <td>203</td>\n",
       "      <td>26~30</td>\n",
       "      <td>女</td>\n",
       "      <td>高中/中专/技校</td>\n",
       "      <td>个体经营户</td>\n",
       "      <td>福建省莆田市</td>\n",
       "      <td>病毒会进化，并且致死性越来越强，病毒对老年人有严重的威胁，感染病毒后会立即出现咳嗽、发烧的症...</td>\n",
       "      <td>有中型聚会安排（5～10人）</td>\n",
       "      <td>父母已取消所有聚会安排</td>\n",
       "      <td>微信好友，公众号，微信群，微博，微信朋友圈，抖音，电视新闻</td>\n",
       "      <td>中立，不做判断</td>\n",
       "      <td>没有确凿信息，不断定</td>\n",
       "      <td>口罩，体温计，酒精</td>\n",
       "      <td>未储备</td>\n",
       "    </tr>\n",
       "  </tbody>\n",
       "</table>\n",
       "</div>"
      ],
      "text/plain": [
       "                  time   id    age sex education    job location  \\\n",
       "0  2020-01-26 11:59:57  480  18~25   男      大学本科    大学生   湖北省宜昌市   \n",
       "1  2020-01-26 03:48:37  203  26~30   女  高中/中专/技校  个体经营户   福建省莆田市   \n",
       "\n",
       "                               correct_understanding        my_party  \\\n",
       "0                       病毒对老年人有严重的威胁，病毒会进化，并且致死性越来越强       已取消所有聚会安排   \n",
       "1  病毒会进化，并且致死性越来越强，病毒对老年人有严重的威胁，感染病毒后会立即出现咳嗽、发烧的症...  有中型聚会安排（5～10人）   \n",
       "\n",
       "  parent_party              channel_find_info control_feelings  \\\n",
       "0  父母已取消所有聚会安排     微信好友，公众号，微信群，微信朋友圈，微博，电视新闻          中立，不做判断   \n",
       "1  父母已取消所有聚会安排  微信好友，公众号，微信群，微博，微信朋友圈，抖音，电视新闻          中立，不做判断   \n",
       "\n",
       "  hospital_resource_shortage family_medical_resources family_living_resources  \n",
       "0               已有权威机构证实存在短缺                口罩，酒精，体温计             已储备30天以上的物资  \n",
       "1                 没有确凿信息，不断定                口罩，体温计，酒精                     未储备  "
      ]
     },
     "execution_count": 92,
     "metadata": {},
     "output_type": "execute_result"
    }
   ],
   "source": [
    "df.head(2)"
   ]
  },
  {
   "cell_type": "code",
   "execution_count": 94,
   "metadata": {},
   "outputs": [
    {
     "data": {
      "text/plain": [
       "已取消所有聚会安排         350\n",
       "有中型聚会安排（5～10人）     73\n",
       "有小型聚会安排（5人以下）      44\n",
       "有大型聚会安排（11及以上）     31\n",
       "Name: my_party, dtype: int64"
      ]
     },
     "execution_count": 94,
     "metadata": {},
     "output_type": "execute_result"
    }
   ],
   "source": [
    "df.my_party.value_counts()"
   ]
  },
  {
   "cell_type": "code",
   "execution_count": 95,
   "metadata": {},
   "outputs": [
    {
     "data": {
      "text/plain": [
       "18~25    283\n",
       "26~30    125\n",
       "31~40     55\n",
       "41~50     16\n",
       "18岁以下     11\n",
       "51~60      7\n",
       "60以上       1\n",
       "Name: age, dtype: int64"
      ]
     },
     "execution_count": 95,
     "metadata": {},
     "output_type": "execute_result"
    }
   ],
   "source": [
    "df.age.value_counts()"
   ]
  },
  {
   "cell_type": "code",
   "execution_count": 96,
   "metadata": {},
   "outputs": [
    {
     "data": {
      "text/plain": [
       "女       300\n",
       "男       178\n",
       "不想透露     20\n",
       "Name: sex, dtype: int64"
      ]
     },
     "execution_count": 96,
     "metadata": {},
     "output_type": "execute_result"
    }
   ],
   "source": [
    "df.sex.value_counts()"
   ]
  },
  {
   "cell_type": "code",
   "execution_count": 102,
   "metadata": {
    "scrolled": true
   },
   "outputs": [
    {
     "data": {
      "text/html": [
       "<div>\n",
       "<style scoped>\n",
       "    .dataframe tbody tr th:only-of-type {\n",
       "        vertical-align: middle;\n",
       "    }\n",
       "\n",
       "    .dataframe tbody tr th {\n",
       "        vertical-align: top;\n",
       "    }\n",
       "\n",
       "    .dataframe thead th {\n",
       "        text-align: right;\n",
       "    }\n",
       "</style>\n",
       "<table border=\"1\" class=\"dataframe\">\n",
       "  <thead>\n",
       "    <tr style=\"text-align: right;\">\n",
       "      <th></th>\n",
       "      <th>time</th>\n",
       "      <th>id</th>\n",
       "      <th>age</th>\n",
       "      <th>sex</th>\n",
       "      <th>education</th>\n",
       "      <th>job</th>\n",
       "      <th>location</th>\n",
       "      <th>correct_understanding</th>\n",
       "      <th>my_party</th>\n",
       "      <th>parent_party</th>\n",
       "      <th>channel_find_info</th>\n",
       "      <th>control_feelings</th>\n",
       "      <th>hospital_resource_shortage</th>\n",
       "      <th>family_medical_resources</th>\n",
       "      <th>family_living_resources</th>\n",
       "    </tr>\n",
       "  </thead>\n",
       "  <tbody>\n",
       "    <tr>\n",
       "      <td>1</td>\n",
       "      <td>2020-01-26 03:48:37</td>\n",
       "      <td>203</td>\n",
       "      <td>26~30</td>\n",
       "      <td>女</td>\n",
       "      <td>高中/中专/技校</td>\n",
       "      <td>个体经营户</td>\n",
       "      <td>福建省莆田市</td>\n",
       "      <td>病毒会进化，并且致死性越来越强，病毒对老年人有严重的威胁，感染病毒后会立即出现咳嗽、发烧的症...</td>\n",
       "      <td>有中型聚会安排（5～10人）</td>\n",
       "      <td>父母已取消所有聚会安排</td>\n",
       "      <td>微信好友，公众号，微信群，微博，微信朋友圈，抖音，电视新闻</td>\n",
       "      <td>中立，不做判断</td>\n",
       "      <td>没有确凿信息，不断定</td>\n",
       "      <td>口罩，体温计，酒精</td>\n",
       "      <td>未储备</td>\n",
       "    </tr>\n",
       "    <tr>\n",
       "      <td>2</td>\n",
       "      <td>2020-01-26 12:47:10</td>\n",
       "      <td>495</td>\n",
       "      <td>26~30</td>\n",
       "      <td>女</td>\n",
       "      <td>硕士及以上</td>\n",
       "      <td>媒体工作者</td>\n",
       "      <td>浙江省温州市</td>\n",
       "      <td>病毒对老年人有严重的威胁，75%浓度酒精可以杀死病毒，病毒会进化，并且致死性越来越强</td>\n",
       "      <td>已取消所有聚会安排</td>\n",
       "      <td>父母已取消所有聚会安排</td>\n",
       "      <td>微信群，公众号，微信好友，微信朋友圈，微博</td>\n",
       "      <td>较悲观，短期可能会更严重</td>\n",
       "      <td>没有确凿信息，不断定</td>\n",
       "      <td>口罩，酒精</td>\n",
       "      <td>已储备7～30天的物资</td>\n",
       "    </tr>\n",
       "    <tr>\n",
       "      <td>3</td>\n",
       "      <td>2020-01-26 05:16:23</td>\n",
       "      <td>216</td>\n",
       "      <td>31~40</td>\n",
       "      <td>女</td>\n",
       "      <td>大学本科</td>\n",
       "      <td>上班族/创业者</td>\n",
       "      <td>湖南省长沙市</td>\n",
       "      <td>没有生病的人，不会传染病毒，病毒对老年人有严重的威胁，75%浓度酒精可以杀死病毒</td>\n",
       "      <td>有中型聚会安排（5～10人）</td>\n",
       "      <td>有聚会安排，父母会参与</td>\n",
       "      <td>公众号，微信群，微信朋友圈，微博，抖音，电视新闻，微信好友</td>\n",
       "      <td>中立，不做判断</td>\n",
       "      <td>没有确凿信息，不断定</td>\n",
       "      <td>口罩</td>\n",
       "      <td>已储备7～30天的物资</td>\n",
       "    </tr>\n",
       "    <tr>\n",
       "      <td>4</td>\n",
       "      <td>2020-01-26 10:29:37</td>\n",
       "      <td>411</td>\n",
       "      <td>18~25</td>\n",
       "      <td>女</td>\n",
       "      <td>大学本科</td>\n",
       "      <td>大学生</td>\n",
       "      <td>湖北省黄冈市</td>\n",
       "      <td>病毒对老年人有严重的威胁，75%浓度酒精可以杀死病毒，病毒致死性很强，病毒会进化，并且致死性...</td>\n",
       "      <td>已取消所有聚会安排</td>\n",
       "      <td>父母已取消所有聚会安排</td>\n",
       "      <td>微信好友，公众号，微信群，微信朋友圈，微博，抖音，电视新闻，其他</td>\n",
       "      <td>较悲观，短期可能会更严重</td>\n",
       "      <td>已有权威机构证实存在短缺</td>\n",
       "      <td>口罩，酒精</td>\n",
       "      <td>未储备</td>\n",
       "    </tr>\n",
       "    <tr>\n",
       "      <td>7</td>\n",
       "      <td>2020-01-26 08:14:38</td>\n",
       "      <td>262</td>\n",
       "      <td>26~30</td>\n",
       "      <td>女</td>\n",
       "      <td>硕士及以上</td>\n",
       "      <td>上班族/创业者</td>\n",
       "      <td>湖北省襄阳市</td>\n",
       "      <td>75%浓度酒精可以杀死病毒，病毒会进化，并且致死性越来越强</td>\n",
       "      <td>已取消所有聚会安排</td>\n",
       "      <td>父母已取消所有聚会安排</td>\n",
       "      <td>公众号，微信朋友圈，微博</td>\n",
       "      <td>较悲观，短期可能会更严重</td>\n",
       "      <td>没有确凿信息，不断定</td>\n",
       "      <td>口罩，酒精，体温计</td>\n",
       "      <td>已储备7～30天的物资</td>\n",
       "    </tr>\n",
       "    <tr>\n",
       "      <td>...</td>\n",
       "      <td>...</td>\n",
       "      <td>...</td>\n",
       "      <td>...</td>\n",
       "      <td>...</td>\n",
       "      <td>...</td>\n",
       "      <td>...</td>\n",
       "      <td>...</td>\n",
       "      <td>...</td>\n",
       "      <td>...</td>\n",
       "      <td>...</td>\n",
       "      <td>...</td>\n",
       "      <td>...</td>\n",
       "      <td>...</td>\n",
       "      <td>...</td>\n",
       "      <td>...</td>\n",
       "    </tr>\n",
       "    <tr>\n",
       "      <td>489</td>\n",
       "      <td>2020-01-26 00:12:43</td>\n",
       "      <td>135</td>\n",
       "      <td>18~25</td>\n",
       "      <td>女</td>\n",
       "      <td>大学本科</td>\n",
       "      <td>大学生</td>\n",
       "      <td>重庆市重庆市</td>\n",
       "      <td>病毒对老年人有严重的威胁，75%浓度酒精可以杀死病毒</td>\n",
       "      <td>有中型聚会安排（5～10人）</td>\n",
       "      <td>父母已取消所有聚会安排</td>\n",
       "      <td>微博，电视新闻，微信好友，微信朋友圈</td>\n",
       "      <td>中立，不做判断</td>\n",
       "      <td>没有确凿信息，不断定</td>\n",
       "      <td>酒精，口罩</td>\n",
       "      <td>未储备</td>\n",
       "    </tr>\n",
       "    <tr>\n",
       "      <td>490</td>\n",
       "      <td>2020-01-26 00:19:38</td>\n",
       "      <td>141</td>\n",
       "      <td>18~25</td>\n",
       "      <td>女</td>\n",
       "      <td>大学本科</td>\n",
       "      <td>上班族/创业者</td>\n",
       "      <td>四川省绵阳市</td>\n",
       "      <td>感染病毒后会立即出现咳嗽、发烧的症状，病毒对老年人有严重的威胁，病毒会进化，并且致死性越来越...</td>\n",
       "      <td>已取消所有聚会安排</td>\n",
       "      <td>父母已取消所有聚会安排</td>\n",
       "      <td>微博，电视新闻，微信好友，公众号</td>\n",
       "      <td>较悲观，短期可能会更严重</td>\n",
       "      <td>没有确凿信息，不断定</td>\n",
       "      <td>口罩</td>\n",
       "      <td>未储备</td>\n",
       "    </tr>\n",
       "    <tr>\n",
       "      <td>492</td>\n",
       "      <td>2020-01-25 23:21:57</td>\n",
       "      <td>29</td>\n",
       "      <td>26~30</td>\n",
       "      <td>女</td>\n",
       "      <td>大学本科</td>\n",
       "      <td>上班族/创业者</td>\n",
       "      <td>广东省珠海市</td>\n",
       "      <td>75%浓度酒精可以杀死病毒</td>\n",
       "      <td>已取消所有聚会安排</td>\n",
       "      <td>父母已取消所有聚会安排</td>\n",
       "      <td>微信群，微信朋友圈，微博</td>\n",
       "      <td>较乐观，短期会好转</td>\n",
       "      <td>没有任何物资短缺信息</td>\n",
       "      <td>口罩</td>\n",
       "      <td>已储备7天内的物资</td>\n",
       "    </tr>\n",
       "    <tr>\n",
       "      <td>493</td>\n",
       "      <td>2020-01-26 01:21:13</td>\n",
       "      <td>173</td>\n",
       "      <td>18~25</td>\n",
       "      <td>女</td>\n",
       "      <td>大学本科</td>\n",
       "      <td>大学生</td>\n",
       "      <td>江西省赣州市</td>\n",
       "      <td>病毒对老年人有严重的威胁，75%浓度酒精可以杀死病毒，病毒会进化，并且致死性越来越强</td>\n",
       "      <td>已取消所有聚会安排</td>\n",
       "      <td>有聚会安排，父母会参与</td>\n",
       "      <td>公众号，微信朋友圈，微博，电视新闻，微信好友</td>\n",
       "      <td>较悲观，短期可能会更严重</td>\n",
       "      <td>没有确凿信息，不断定</td>\n",
       "      <td>口罩</td>\n",
       "      <td>已储备7天内的物资</td>\n",
       "    </tr>\n",
       "    <tr>\n",
       "      <td>495</td>\n",
       "      <td>2020-01-26 00:42:50</td>\n",
       "      <td>155</td>\n",
       "      <td>18~25</td>\n",
       "      <td>女</td>\n",
       "      <td>硕士及以上</td>\n",
       "      <td>大学生</td>\n",
       "      <td>山东省青岛市</td>\n",
       "      <td>75%浓度酒精可以杀死病毒，病毒会进化，并且致死性越来越强，病毒对老年人有严重的威胁</td>\n",
       "      <td>有中型聚会安排（5～10人）</td>\n",
       "      <td>有聚会安排，父母会参与</td>\n",
       "      <td>公众号，微信朋友圈，微博</td>\n",
       "      <td>较悲观，短期可能会更严重</td>\n",
       "      <td>没有确凿信息，不断定</td>\n",
       "      <td>口罩</td>\n",
       "      <td>已储备7天内的物资</td>\n",
       "    </tr>\n",
       "  </tbody>\n",
       "</table>\n",
       "<p>300 rows × 15 columns</p>\n",
       "</div>"
      ],
      "text/plain": [
       "                    time   id    age sex education      job location  \\\n",
       "1    2020-01-26 03:48:37  203  26~30   女  高中/中专/技校    个体经营户   福建省莆田市   \n",
       "2    2020-01-26 12:47:10  495  26~30   女     硕士及以上    媒体工作者   浙江省温州市   \n",
       "3    2020-01-26 05:16:23  216  31~40   女      大学本科  上班族/创业者   湖南省长沙市   \n",
       "4    2020-01-26 10:29:37  411  18~25   女      大学本科      大学生   湖北省黄冈市   \n",
       "7    2020-01-26 08:14:38  262  26~30   女     硕士及以上  上班族/创业者   湖北省襄阳市   \n",
       "..                   ...  ...    ...  ..       ...      ...      ...   \n",
       "489  2020-01-26 00:12:43  135  18~25   女      大学本科      大学生   重庆市重庆市   \n",
       "490  2020-01-26 00:19:38  141  18~25   女      大学本科  上班族/创业者   四川省绵阳市   \n",
       "492  2020-01-25 23:21:57   29  26~30   女      大学本科  上班族/创业者   广东省珠海市   \n",
       "493  2020-01-26 01:21:13  173  18~25   女      大学本科      大学生   江西省赣州市   \n",
       "495  2020-01-26 00:42:50  155  18~25   女     硕士及以上      大学生   山东省青岛市   \n",
       "\n",
       "                                 correct_understanding        my_party  \\\n",
       "1    病毒会进化，并且致死性越来越强，病毒对老年人有严重的威胁，感染病毒后会立即出现咳嗽、发烧的症...  有中型聚会安排（5～10人）   \n",
       "2           病毒对老年人有严重的威胁，75%浓度酒精可以杀死病毒，病毒会进化，并且致死性越来越强       已取消所有聚会安排   \n",
       "3             没有生病的人，不会传染病毒，病毒对老年人有严重的威胁，75%浓度酒精可以杀死病毒  有中型聚会安排（5～10人）   \n",
       "4    病毒对老年人有严重的威胁，75%浓度酒精可以杀死病毒，病毒致死性很强，病毒会进化，并且致死性...       已取消所有聚会安排   \n",
       "7                        75%浓度酒精可以杀死病毒，病毒会进化，并且致死性越来越强       已取消所有聚会安排   \n",
       "..                                                 ...             ...   \n",
       "489                         病毒对老年人有严重的威胁，75%浓度酒精可以杀死病毒  有中型聚会安排（5～10人）   \n",
       "490  感染病毒后会立即出现咳嗽、发烧的症状，病毒对老年人有严重的威胁，病毒会进化，并且致死性越来越...       已取消所有聚会安排   \n",
       "492                                      75%浓度酒精可以杀死病毒       已取消所有聚会安排   \n",
       "493         病毒对老年人有严重的威胁，75%浓度酒精可以杀死病毒，病毒会进化，并且致死性越来越强       已取消所有聚会安排   \n",
       "495         75%浓度酒精可以杀死病毒，病毒会进化，并且致死性越来越强，病毒对老年人有严重的威胁  有中型聚会安排（5～10人）   \n",
       "\n",
       "    parent_party                 channel_find_info control_feelings  \\\n",
       "1    父母已取消所有聚会安排     微信好友，公众号，微信群，微博，微信朋友圈，抖音，电视新闻          中立，不做判断   \n",
       "2    父母已取消所有聚会安排             微信群，公众号，微信好友，微信朋友圈，微博     较悲观，短期可能会更严重   \n",
       "3    有聚会安排，父母会参与     公众号，微信群，微信朋友圈，微博，抖音，电视新闻，微信好友          中立，不做判断   \n",
       "4    父母已取消所有聚会安排  微信好友，公众号，微信群，微信朋友圈，微博，抖音，电视新闻，其他     较悲观，短期可能会更严重   \n",
       "7    父母已取消所有聚会安排                      公众号，微信朋友圈，微博     较悲观，短期可能会更严重   \n",
       "..           ...                               ...              ...   \n",
       "489  父母已取消所有聚会安排                微博，电视新闻，微信好友，微信朋友圈          中立，不做判断   \n",
       "490  父母已取消所有聚会安排                  微博，电视新闻，微信好友，公众号     较悲观，短期可能会更严重   \n",
       "492  父母已取消所有聚会安排                      微信群，微信朋友圈，微博        较乐观，短期会好转   \n",
       "493  有聚会安排，父母会参与            公众号，微信朋友圈，微博，电视新闻，微信好友     较悲观，短期可能会更严重   \n",
       "495  有聚会安排，父母会参与                      公众号，微信朋友圈，微博     较悲观，短期可能会更严重   \n",
       "\n",
       "    hospital_resource_shortage family_medical_resources  \\\n",
       "1                   没有确凿信息，不断定                口罩，体温计，酒精   \n",
       "2                   没有确凿信息，不断定                    口罩，酒精   \n",
       "3                   没有确凿信息，不断定                       口罩   \n",
       "4                 已有权威机构证实存在短缺                    口罩，酒精   \n",
       "7                   没有确凿信息，不断定                口罩，酒精，体温计   \n",
       "..                         ...                      ...   \n",
       "489                 没有确凿信息，不断定                    酒精，口罩   \n",
       "490                 没有确凿信息，不断定                       口罩   \n",
       "492                 没有任何物资短缺信息                       口罩   \n",
       "493                 没有确凿信息，不断定                       口罩   \n",
       "495                 没有确凿信息，不断定                       口罩   \n",
       "\n",
       "    family_living_resources  \n",
       "1                       未储备  \n",
       "2               已储备7～30天的物资  \n",
       "3               已储备7～30天的物资  \n",
       "4                       未储备  \n",
       "7               已储备7～30天的物资  \n",
       "..                      ...  \n",
       "489                     未储备  \n",
       "490                     未储备  \n",
       "492               已储备7天内的物资  \n",
       "493               已储备7天内的物资  \n",
       "495               已储备7天内的物资  \n",
       "\n",
       "[300 rows x 15 columns]"
      ]
     },
     "execution_count": 102,
     "metadata": {},
     "output_type": "execute_result"
    }
   ],
   "source": [
    "df_girl = df[df.sex == '女']\n",
    "df_girl"
   ]
  },
  {
   "cell_type": "code",
   "execution_count": 103,
   "metadata": {},
   "outputs": [
    {
     "data": {
      "text/plain": [
       "18~25    179\n",
       "26~30     65\n",
       "31~40     34\n",
       "41~50     10\n",
       "18岁以下      8\n",
       "51~60      3\n",
       "60以上       1\n",
       "Name: age, dtype: int64"
      ]
     },
     "execution_count": 103,
     "metadata": {},
     "output_type": "execute_result"
    }
   ],
   "source": [
    "df_girl.age.value_counts()"
   ]
  },
  {
   "cell_type": "code",
   "execution_count": 118,
   "metadata": {
    "scrolled": true
   },
   "outputs": [
    {
     "data": {
      "text/html": [
       "<div>\n",
       "<style scoped>\n",
       "    .dataframe tbody tr th:only-of-type {\n",
       "        vertical-align: middle;\n",
       "    }\n",
       "\n",
       "    .dataframe tbody tr th {\n",
       "        vertical-align: top;\n",
       "    }\n",
       "\n",
       "    .dataframe thead th {\n",
       "        text-align: right;\n",
       "    }\n",
       "</style>\n",
       "<table border=\"1\" class=\"dataframe\">\n",
       "  <thead>\n",
       "    <tr style=\"text-align: right;\">\n",
       "      <th></th>\n",
       "      <th>time</th>\n",
       "      <th>id</th>\n",
       "      <th>age</th>\n",
       "      <th>sex</th>\n",
       "      <th>education</th>\n",
       "      <th>job</th>\n",
       "      <th>location</th>\n",
       "      <th>correct_understanding</th>\n",
       "      <th>my_party</th>\n",
       "      <th>parent_party</th>\n",
       "      <th>channel_find_info</th>\n",
       "      <th>control_feelings</th>\n",
       "      <th>hospital_resource_shortage</th>\n",
       "      <th>family_medical_resources</th>\n",
       "      <th>family_living_resources</th>\n",
       "    </tr>\n",
       "  </thead>\n",
       "  <tbody>\n",
       "    <tr>\n",
       "      <td>4</td>\n",
       "      <td>2020-01-26 10:29:37</td>\n",
       "      <td>411</td>\n",
       "      <td>18~25</td>\n",
       "      <td>女</td>\n",
       "      <td>大学本科</td>\n",
       "      <td>大学生</td>\n",
       "      <td>湖北省黄冈市</td>\n",
       "      <td>病毒对老年人有严重的威胁，75%浓度酒精可以杀死病毒，病毒致死性很强，病毒会进化，并且致死性...</td>\n",
       "      <td>已取消所有聚会安排</td>\n",
       "      <td>父母已取消所有聚会安排</td>\n",
       "      <td>微信好友，公众号，微信群，微信朋友圈，微博，抖音，电视新闻，其他</td>\n",
       "      <td>较悲观，短期可能会更严重</td>\n",
       "      <td>已有权威机构证实存在短缺</td>\n",
       "      <td>口罩，酒精</td>\n",
       "      <td>未储备</td>\n",
       "    </tr>\n",
       "    <tr>\n",
       "      <td>8</td>\n",
       "      <td>2020-01-26 08:27:00</td>\n",
       "      <td>270</td>\n",
       "      <td>18~25</td>\n",
       "      <td>女</td>\n",
       "      <td>大学本科</td>\n",
       "      <td>上班族/创业者</td>\n",
       "      <td>四川省绵阳市</td>\n",
       "      <td>75%浓度酒精可以杀死病毒，病毒对老年人有严重的威胁，病毒会进化，并且致死性越来越强</td>\n",
       "      <td>已取消所有聚会安排</td>\n",
       "      <td>父母已取消所有聚会安排</td>\n",
       "      <td>微信好友，微信群，微信朋友圈，微博</td>\n",
       "      <td>较悲观，短期可能会更严重</td>\n",
       "      <td>没有确凿信息，不断定</td>\n",
       "      <td>口罩，酒精</td>\n",
       "      <td>已储备7天内的物资</td>\n",
       "    </tr>\n",
       "    <tr>\n",
       "      <td>23</td>\n",
       "      <td>2020-01-26 10:24:30</td>\n",
       "      <td>405</td>\n",
       "      <td>18~25</td>\n",
       "      <td>女</td>\n",
       "      <td>大学专科</td>\n",
       "      <td>上班族/创业者</td>\n",
       "      <td>湖北省黄冈市</td>\n",
       "      <td>感染病毒后会立即出现咳嗽、发烧的症状，病毒对老年人有严重的威胁，75%浓度酒精可以杀死病毒，...</td>\n",
       "      <td>已取消所有聚会安排</td>\n",
       "      <td>父母已取消所有聚会安排</td>\n",
       "      <td>微博，微信好友，微信朋友圈，电视新闻</td>\n",
       "      <td>较悲观，短期可能会更严重</td>\n",
       "      <td>已有权威机构证实存在短缺</td>\n",
       "      <td>口罩，酒精</td>\n",
       "      <td>已储备7～30天的物资</td>\n",
       "    </tr>\n",
       "    <tr>\n",
       "      <td>24</td>\n",
       "      <td>2020-01-26 09:31:50</td>\n",
       "      <td>344</td>\n",
       "      <td>18~25</td>\n",
       "      <td>女</td>\n",
       "      <td>硕士及以上</td>\n",
       "      <td>大学生</td>\n",
       "      <td>辽宁省沈阳市</td>\n",
       "      <td>没有生病的人，不会传染病毒，病毒对老年人有严重的威胁，75%浓度酒精可以杀死病毒，病毒会进化...</td>\n",
       "      <td>有小型聚会安排（5人以下）</td>\n",
       "      <td>有聚会安排，父母会参与</td>\n",
       "      <td>公众号，微信群，微信朋友圈，微博</td>\n",
       "      <td>较悲观，短期可能会更严重</td>\n",
       "      <td>没有确凿信息，不断定</td>\n",
       "      <td>口罩，护目镜，体温计，抗生素，抗病毒药物</td>\n",
       "      <td>已储备7天内的物资</td>\n",
       "    </tr>\n",
       "    <tr>\n",
       "      <td>30</td>\n",
       "      <td>2020-01-26 08:31:59</td>\n",
       "      <td>276</td>\n",
       "      <td>18~25</td>\n",
       "      <td>女</td>\n",
       "      <td>硕士及以上</td>\n",
       "      <td>大学生</td>\n",
       "      <td>湖北省荆州市</td>\n",
       "      <td>感染病毒后会立即出现咳嗽、发烧的症状，病毒对老年人有严重的威胁，病毒会进化，并且致死性越来越...</td>\n",
       "      <td>已取消所有聚会安排</td>\n",
       "      <td>父母已取消所有聚会安排</td>\n",
       "      <td>微信朋友圈，微信群，其他</td>\n",
       "      <td>中立，不做判断</td>\n",
       "      <td>没有确凿信息，不断定</td>\n",
       "      <td>口罩</td>\n",
       "      <td>未储备</td>\n",
       "    </tr>\n",
       "    <tr>\n",
       "      <td>...</td>\n",
       "      <td>...</td>\n",
       "      <td>...</td>\n",
       "      <td>...</td>\n",
       "      <td>...</td>\n",
       "      <td>...</td>\n",
       "      <td>...</td>\n",
       "      <td>...</td>\n",
       "      <td>...</td>\n",
       "      <td>...</td>\n",
       "      <td>...</td>\n",
       "      <td>...</td>\n",
       "      <td>...</td>\n",
       "      <td>...</td>\n",
       "      <td>...</td>\n",
       "      <td>...</td>\n",
       "    </tr>\n",
       "    <tr>\n",
       "      <td>485</td>\n",
       "      <td>2020-01-25 23:18:30</td>\n",
       "      <td>17</td>\n",
       "      <td>18~25</td>\n",
       "      <td>女</td>\n",
       "      <td>大学专科</td>\n",
       "      <td>上班族/创业者</td>\n",
       "      <td>湖北省襄阳市</td>\n",
       "      <td>没有生病的人，不会传染病毒，感染病毒后会立即出现咳嗽、发烧的症状，75%浓度酒精可以杀死病毒...</td>\n",
       "      <td>已取消所有聚会安排</td>\n",
       "      <td>父母已取消所有聚会安排</td>\n",
       "      <td>微博</td>\n",
       "      <td>较悲观，短期可能会更严重</td>\n",
       "      <td>已有权威机构证实存在短缺</td>\n",
       "      <td>口罩，酒精，体温计</td>\n",
       "      <td>已储备7～30天的物资</td>\n",
       "    </tr>\n",
       "    <tr>\n",
       "      <td>489</td>\n",
       "      <td>2020-01-26 00:12:43</td>\n",
       "      <td>135</td>\n",
       "      <td>18~25</td>\n",
       "      <td>女</td>\n",
       "      <td>大学本科</td>\n",
       "      <td>大学生</td>\n",
       "      <td>重庆市重庆市</td>\n",
       "      <td>病毒对老年人有严重的威胁，75%浓度酒精可以杀死病毒</td>\n",
       "      <td>有中型聚会安排（5～10人）</td>\n",
       "      <td>父母已取消所有聚会安排</td>\n",
       "      <td>微博，电视新闻，微信好友，微信朋友圈</td>\n",
       "      <td>中立，不做判断</td>\n",
       "      <td>没有确凿信息，不断定</td>\n",
       "      <td>酒精，口罩</td>\n",
       "      <td>未储备</td>\n",
       "    </tr>\n",
       "    <tr>\n",
       "      <td>490</td>\n",
       "      <td>2020-01-26 00:19:38</td>\n",
       "      <td>141</td>\n",
       "      <td>18~25</td>\n",
       "      <td>女</td>\n",
       "      <td>大学本科</td>\n",
       "      <td>上班族/创业者</td>\n",
       "      <td>四川省绵阳市</td>\n",
       "      <td>感染病毒后会立即出现咳嗽、发烧的症状，病毒对老年人有严重的威胁，病毒会进化，并且致死性越来越...</td>\n",
       "      <td>已取消所有聚会安排</td>\n",
       "      <td>父母已取消所有聚会安排</td>\n",
       "      <td>微博，电视新闻，微信好友，公众号</td>\n",
       "      <td>较悲观，短期可能会更严重</td>\n",
       "      <td>没有确凿信息，不断定</td>\n",
       "      <td>口罩</td>\n",
       "      <td>未储备</td>\n",
       "    </tr>\n",
       "    <tr>\n",
       "      <td>493</td>\n",
       "      <td>2020-01-26 01:21:13</td>\n",
       "      <td>173</td>\n",
       "      <td>18~25</td>\n",
       "      <td>女</td>\n",
       "      <td>大学本科</td>\n",
       "      <td>大学生</td>\n",
       "      <td>江西省赣州市</td>\n",
       "      <td>病毒对老年人有严重的威胁，75%浓度酒精可以杀死病毒，病毒会进化，并且致死性越来越强</td>\n",
       "      <td>已取消所有聚会安排</td>\n",
       "      <td>有聚会安排，父母会参与</td>\n",
       "      <td>公众号，微信朋友圈，微博，电视新闻，微信好友</td>\n",
       "      <td>较悲观，短期可能会更严重</td>\n",
       "      <td>没有确凿信息，不断定</td>\n",
       "      <td>口罩</td>\n",
       "      <td>已储备7天内的物资</td>\n",
       "    </tr>\n",
       "    <tr>\n",
       "      <td>495</td>\n",
       "      <td>2020-01-26 00:42:50</td>\n",
       "      <td>155</td>\n",
       "      <td>18~25</td>\n",
       "      <td>女</td>\n",
       "      <td>硕士及以上</td>\n",
       "      <td>大学生</td>\n",
       "      <td>山东省青岛市</td>\n",
       "      <td>75%浓度酒精可以杀死病毒，病毒会进化，并且致死性越来越强，病毒对老年人有严重的威胁</td>\n",
       "      <td>有中型聚会安排（5～10人）</td>\n",
       "      <td>有聚会安排，父母会参与</td>\n",
       "      <td>公众号，微信朋友圈，微博</td>\n",
       "      <td>较悲观，短期可能会更严重</td>\n",
       "      <td>没有确凿信息，不断定</td>\n",
       "      <td>口罩</td>\n",
       "      <td>已储备7天内的物资</td>\n",
       "    </tr>\n",
       "  </tbody>\n",
       "</table>\n",
       "<p>179 rows × 15 columns</p>\n",
       "</div>"
      ],
      "text/plain": [
       "                    time   id    age sex education      job location  \\\n",
       "4    2020-01-26 10:29:37  411  18~25   女      大学本科      大学生   湖北省黄冈市   \n",
       "8    2020-01-26 08:27:00  270  18~25   女      大学本科  上班族/创业者   四川省绵阳市   \n",
       "23   2020-01-26 10:24:30  405  18~25   女      大学专科  上班族/创业者   湖北省黄冈市   \n",
       "24   2020-01-26 09:31:50  344  18~25   女     硕士及以上      大学生   辽宁省沈阳市   \n",
       "30   2020-01-26 08:31:59  276  18~25   女     硕士及以上      大学生   湖北省荆州市   \n",
       "..                   ...  ...    ...  ..       ...      ...      ...   \n",
       "485  2020-01-25 23:18:30   17  18~25   女      大学专科  上班族/创业者   湖北省襄阳市   \n",
       "489  2020-01-26 00:12:43  135  18~25   女      大学本科      大学生   重庆市重庆市   \n",
       "490  2020-01-26 00:19:38  141  18~25   女      大学本科  上班族/创业者   四川省绵阳市   \n",
       "493  2020-01-26 01:21:13  173  18~25   女      大学本科      大学生   江西省赣州市   \n",
       "495  2020-01-26 00:42:50  155  18~25   女     硕士及以上      大学生   山东省青岛市   \n",
       "\n",
       "                                 correct_understanding        my_party  \\\n",
       "4    病毒对老年人有严重的威胁，75%浓度酒精可以杀死病毒，病毒致死性很强，病毒会进化，并且致死性...       已取消所有聚会安排   \n",
       "8           75%浓度酒精可以杀死病毒，病毒对老年人有严重的威胁，病毒会进化，并且致死性越来越强       已取消所有聚会安排   \n",
       "23   感染病毒后会立即出现咳嗽、发烧的症状，病毒对老年人有严重的威胁，75%浓度酒精可以杀死病毒，...       已取消所有聚会安排   \n",
       "24   没有生病的人，不会传染病毒，病毒对老年人有严重的威胁，75%浓度酒精可以杀死病毒，病毒会进化...   有小型聚会安排（5人以下）   \n",
       "30   感染病毒后会立即出现咳嗽、发烧的症状，病毒对老年人有严重的威胁，病毒会进化，并且致死性越来越...       已取消所有聚会安排   \n",
       "..                                                 ...             ...   \n",
       "485  没有生病的人，不会传染病毒，感染病毒后会立即出现咳嗽、发烧的症状，75%浓度酒精可以杀死病毒...       已取消所有聚会安排   \n",
       "489                         病毒对老年人有严重的威胁，75%浓度酒精可以杀死病毒  有中型聚会安排（5～10人）   \n",
       "490  感染病毒后会立即出现咳嗽、发烧的症状，病毒对老年人有严重的威胁，病毒会进化，并且致死性越来越...       已取消所有聚会安排   \n",
       "493         病毒对老年人有严重的威胁，75%浓度酒精可以杀死病毒，病毒会进化，并且致死性越来越强       已取消所有聚会安排   \n",
       "495         75%浓度酒精可以杀死病毒，病毒会进化，并且致死性越来越强，病毒对老年人有严重的威胁  有中型聚会安排（5～10人）   \n",
       "\n",
       "    parent_party                 channel_find_info control_feelings  \\\n",
       "4    父母已取消所有聚会安排  微信好友，公众号，微信群，微信朋友圈，微博，抖音，电视新闻，其他     较悲观，短期可能会更严重   \n",
       "8    父母已取消所有聚会安排                 微信好友，微信群，微信朋友圈，微博     较悲观，短期可能会更严重   \n",
       "23   父母已取消所有聚会安排                微博，微信好友，微信朋友圈，电视新闻     较悲观，短期可能会更严重   \n",
       "24   有聚会安排，父母会参与                  公众号，微信群，微信朋友圈，微博     较悲观，短期可能会更严重   \n",
       "30   父母已取消所有聚会安排                      微信朋友圈，微信群，其他          中立，不做判断   \n",
       "..           ...                               ...              ...   \n",
       "485  父母已取消所有聚会安排                                微博     较悲观，短期可能会更严重   \n",
       "489  父母已取消所有聚会安排                微博，电视新闻，微信好友，微信朋友圈          中立，不做判断   \n",
       "490  父母已取消所有聚会安排                  微博，电视新闻，微信好友，公众号     较悲观，短期可能会更严重   \n",
       "493  有聚会安排，父母会参与            公众号，微信朋友圈，微博，电视新闻，微信好友     较悲观，短期可能会更严重   \n",
       "495  有聚会安排，父母会参与                      公众号，微信朋友圈，微博     较悲观，短期可能会更严重   \n",
       "\n",
       "    hospital_resource_shortage family_medical_resources  \\\n",
       "4                 已有权威机构证实存在短缺                    口罩，酒精   \n",
       "8                   没有确凿信息，不断定                    口罩，酒精   \n",
       "23                已有权威机构证实存在短缺                    口罩，酒精   \n",
       "24                  没有确凿信息，不断定     口罩，护目镜，体温计，抗生素，抗病毒药物   \n",
       "30                  没有确凿信息，不断定                       口罩   \n",
       "..                         ...                      ...   \n",
       "485               已有权威机构证实存在短缺                口罩，酒精，体温计   \n",
       "489                 没有确凿信息，不断定                    酒精，口罩   \n",
       "490                 没有确凿信息，不断定                       口罩   \n",
       "493                 没有确凿信息，不断定                       口罩   \n",
       "495                 没有确凿信息，不断定                       口罩   \n",
       "\n",
       "    family_living_resources  \n",
       "4                       未储备  \n",
       "8                 已储备7天内的物资  \n",
       "23              已储备7～30天的物资  \n",
       "24                已储备7天内的物资  \n",
       "30                      未储备  \n",
       "..                      ...  \n",
       "485             已储备7～30天的物资  \n",
       "489                     未储备  \n",
       "490                     未储备  \n",
       "493               已储备7天内的物资  \n",
       "495               已储备7天内的物资  \n",
       "\n",
       "[179 rows x 15 columns]"
      ]
     },
     "execution_count": 118,
     "metadata": {},
     "output_type": "execute_result"
    }
   ],
   "source": [
    "df_girl_age_1825 = df_girl[df_girl.age == '18~25']\n",
    "df_girl_age_1825"
   ]
  },
  {
   "cell_type": "code",
   "execution_count": 119,
   "metadata": {
    "scrolled": true
   },
   "outputs": [
    {
     "data": {
      "text/html": [
       "<div>\n",
       "<style scoped>\n",
       "    .dataframe tbody tr th:only-of-type {\n",
       "        vertical-align: middle;\n",
       "    }\n",
       "\n",
       "    .dataframe tbody tr th {\n",
       "        vertical-align: top;\n",
       "    }\n",
       "\n",
       "    .dataframe thead th {\n",
       "        text-align: right;\n",
       "    }\n",
       "</style>\n",
       "<table border=\"1\" class=\"dataframe\">\n",
       "  <thead>\n",
       "    <tr style=\"text-align: right;\">\n",
       "      <th></th>\n",
       "      <th>time</th>\n",
       "      <th>id</th>\n",
       "      <th>age</th>\n",
       "      <th>sex</th>\n",
       "      <th>education</th>\n",
       "      <th>job</th>\n",
       "      <th>location</th>\n",
       "      <th>correct_understanding</th>\n",
       "      <th>my_party</th>\n",
       "      <th>parent_party</th>\n",
       "      <th>channel_find_info</th>\n",
       "      <th>control_feelings</th>\n",
       "      <th>hospital_resource_shortage</th>\n",
       "      <th>family_medical_resources</th>\n",
       "      <th>family_living_resources</th>\n",
       "    </tr>\n",
       "  </thead>\n",
       "  <tbody>\n",
       "    <tr>\n",
       "      <td>1</td>\n",
       "      <td>2020-01-26 03:48:37</td>\n",
       "      <td>203</td>\n",
       "      <td>26~30</td>\n",
       "      <td>女</td>\n",
       "      <td>高中/中专/技校</td>\n",
       "      <td>个体经营户</td>\n",
       "      <td>福建省莆田市</td>\n",
       "      <td>病毒会进化，并且致死性越来越强，病毒对老年人有严重的威胁，感染病毒后会立即出现咳嗽、发烧的症...</td>\n",
       "      <td>有中型聚会安排（5～10人）</td>\n",
       "      <td>父母已取消所有聚会安排</td>\n",
       "      <td>微信好友，公众号，微信群，微博，微信朋友圈，抖音，电视新闻</td>\n",
       "      <td>中立，不做判断</td>\n",
       "      <td>没有确凿信息，不断定</td>\n",
       "      <td>口罩，体温计，酒精</td>\n",
       "      <td>未储备</td>\n",
       "    </tr>\n",
       "    <tr>\n",
       "      <td>2</td>\n",
       "      <td>2020-01-26 12:47:10</td>\n",
       "      <td>495</td>\n",
       "      <td>26~30</td>\n",
       "      <td>女</td>\n",
       "      <td>硕士及以上</td>\n",
       "      <td>媒体工作者</td>\n",
       "      <td>浙江省温州市</td>\n",
       "      <td>病毒对老年人有严重的威胁，75%浓度酒精可以杀死病毒，病毒会进化，并且致死性越来越强</td>\n",
       "      <td>已取消所有聚会安排</td>\n",
       "      <td>父母已取消所有聚会安排</td>\n",
       "      <td>微信群，公众号，微信好友，微信朋友圈，微博</td>\n",
       "      <td>较悲观，短期可能会更严重</td>\n",
       "      <td>没有确凿信息，不断定</td>\n",
       "      <td>口罩，酒精</td>\n",
       "      <td>已储备7～30天的物资</td>\n",
       "    </tr>\n",
       "    <tr>\n",
       "      <td>7</td>\n",
       "      <td>2020-01-26 08:14:38</td>\n",
       "      <td>262</td>\n",
       "      <td>26~30</td>\n",
       "      <td>女</td>\n",
       "      <td>硕士及以上</td>\n",
       "      <td>上班族/创业者</td>\n",
       "      <td>湖北省襄阳市</td>\n",
       "      <td>75%浓度酒精可以杀死病毒，病毒会进化，并且致死性越来越强</td>\n",
       "      <td>已取消所有聚会安排</td>\n",
       "      <td>父母已取消所有聚会安排</td>\n",
       "      <td>公众号，微信朋友圈，微博</td>\n",
       "      <td>较悲观，短期可能会更严重</td>\n",
       "      <td>没有确凿信息，不断定</td>\n",
       "      <td>口罩，酒精，体温计</td>\n",
       "      <td>已储备7～30天的物资</td>\n",
       "    </tr>\n",
       "    <tr>\n",
       "      <td>10</td>\n",
       "      <td>2020-01-26 09:06:12</td>\n",
       "      <td>300</td>\n",
       "      <td>26~30</td>\n",
       "      <td>女</td>\n",
       "      <td>高中/中专/技校</td>\n",
       "      <td>上班族/创业者</td>\n",
       "      <td>山西省临汾市</td>\n",
       "      <td>病毒对老年人有严重的威胁，75%浓度酒精可以杀死病毒，病毒会进化，并且致死性越来越强</td>\n",
       "      <td>已取消所有聚会安排</td>\n",
       "      <td>父母已取消所有聚会安排</td>\n",
       "      <td>微信好友，公众号，微信群，微博，微信朋友圈，抖音，电视新闻</td>\n",
       "      <td>中立，不做判断</td>\n",
       "      <td>没有确凿信息，不断定</td>\n",
       "      <td>口罩，酒精，体温计</td>\n",
       "      <td>已储备7～30天的物资</td>\n",
       "    </tr>\n",
       "    <tr>\n",
       "      <td>12</td>\n",
       "      <td>2020-01-26 12:34:08</td>\n",
       "      <td>493</td>\n",
       "      <td>26~30</td>\n",
       "      <td>女</td>\n",
       "      <td>硕士及以上</td>\n",
       "      <td>上班族/创业者</td>\n",
       "      <td>浙江省温州市</td>\n",
       "      <td>没有生病的人，不会传染病毒，病毒对老年人有严重的威胁，75%浓度酒精可以杀死病毒，病毒会进化...</td>\n",
       "      <td>有中型聚会安排（5～10人）</td>\n",
       "      <td>父母已取消所有聚会安排</td>\n",
       "      <td>公众号，微信朋友圈</td>\n",
       "      <td>较乐观，短期会好转</td>\n",
       "      <td>没有确凿信息，不断定</td>\n",
       "      <td>口罩，体温计，抗生素，抗病毒药物，酒精</td>\n",
       "      <td>已储备7天内的物资</td>\n",
       "    </tr>\n",
       "    <tr>\n",
       "      <td>...</td>\n",
       "      <td>...</td>\n",
       "      <td>...</td>\n",
       "      <td>...</td>\n",
       "      <td>...</td>\n",
       "      <td>...</td>\n",
       "      <td>...</td>\n",
       "      <td>...</td>\n",
       "      <td>...</td>\n",
       "      <td>...</td>\n",
       "      <td>...</td>\n",
       "      <td>...</td>\n",
       "      <td>...</td>\n",
       "      <td>...</td>\n",
       "      <td>...</td>\n",
       "      <td>...</td>\n",
       "    </tr>\n",
       "    <tr>\n",
       "      <td>472</td>\n",
       "      <td>2020-01-26 00:41:50</td>\n",
       "      <td>152</td>\n",
       "      <td>26~30</td>\n",
       "      <td>女</td>\n",
       "      <td>大学本科</td>\n",
       "      <td>上班族/创业者</td>\n",
       "      <td>湖南省长沙市</td>\n",
       "      <td>病毒对老年人有严重的威胁，75%浓度酒精可以杀死病毒，病毒会进化，并且致死性越来越强</td>\n",
       "      <td>已取消所有聚会安排</td>\n",
       "      <td>父母已取消所有聚会安排</td>\n",
       "      <td>微博，电视新闻，微信群</td>\n",
       "      <td>中立，不做判断</td>\n",
       "      <td>没有确凿信息，不断定</td>\n",
       "      <td>口罩，抗病毒药物</td>\n",
       "      <td>已储备7～30天的物资</td>\n",
       "    </tr>\n",
       "    <tr>\n",
       "      <td>476</td>\n",
       "      <td>2020-01-26 03:11:12</td>\n",
       "      <td>196</td>\n",
       "      <td>26~30</td>\n",
       "      <td>女</td>\n",
       "      <td>大学本科</td>\n",
       "      <td>上班族/创业者</td>\n",
       "      <td>湖南省长沙市</td>\n",
       "      <td>感染病毒后会立即出现咳嗽、发烧的症状，病毒对老年人有严重的威胁，75%浓度酒精可以杀死病毒，...</td>\n",
       "      <td>有小型聚会安排（5人以下）</td>\n",
       "      <td>父母已取消所有聚会安排</td>\n",
       "      <td>微博，微信朋友圈</td>\n",
       "      <td>中立，不做判断</td>\n",
       "      <td>没有确凿信息，不断定</td>\n",
       "      <td>口罩，酒精，抗生素，保健品，体温计</td>\n",
       "      <td>未储备</td>\n",
       "    </tr>\n",
       "    <tr>\n",
       "      <td>483</td>\n",
       "      <td>2020-01-25 23:55:18</td>\n",
       "      <td>113</td>\n",
       "      <td>26~30</td>\n",
       "      <td>女</td>\n",
       "      <td>大学本科</td>\n",
       "      <td>上班族/创业者</td>\n",
       "      <td>广东省广州市</td>\n",
       "      <td>感染病毒后会立即出现咳嗽、发烧的症状，病毒对老年人有严重的威胁，75%浓度酒精可以杀死病毒，...</td>\n",
       "      <td>有大型聚会安排（11及以上）</td>\n",
       "      <td>有聚会安排，父母会参与</td>\n",
       "      <td>公众号，电视新闻，微信朋友圈</td>\n",
       "      <td>中立，不做判断</td>\n",
       "      <td>没有确凿信息，不断定</td>\n",
       "      <td>口罩，酒精，体温计</td>\n",
       "      <td>已储备7天内的物资</td>\n",
       "    </tr>\n",
       "    <tr>\n",
       "      <td>487</td>\n",
       "      <td>2020-01-26 00:40:13</td>\n",
       "      <td>150</td>\n",
       "      <td>26~30</td>\n",
       "      <td>女</td>\n",
       "      <td>大学本科</td>\n",
       "      <td>上班族/创业者</td>\n",
       "      <td>广西壮族自治区北海市</td>\n",
       "      <td>病毒会进化，并且致死性越来越强，75%浓度酒精可以杀死病毒</td>\n",
       "      <td>已取消所有聚会安排</td>\n",
       "      <td>不清楚</td>\n",
       "      <td>微信好友，公众号，微博，抖音，电视新闻，微信朋友圈</td>\n",
       "      <td>中立，不做判断</td>\n",
       "      <td>没有确凿信息，不断定</td>\n",
       "      <td>口罩</td>\n",
       "      <td>未储备</td>\n",
       "    </tr>\n",
       "    <tr>\n",
       "      <td>492</td>\n",
       "      <td>2020-01-25 23:21:57</td>\n",
       "      <td>29</td>\n",
       "      <td>26~30</td>\n",
       "      <td>女</td>\n",
       "      <td>大学本科</td>\n",
       "      <td>上班族/创业者</td>\n",
       "      <td>广东省珠海市</td>\n",
       "      <td>75%浓度酒精可以杀死病毒</td>\n",
       "      <td>已取消所有聚会安排</td>\n",
       "      <td>父母已取消所有聚会安排</td>\n",
       "      <td>微信群，微信朋友圈，微博</td>\n",
       "      <td>较乐观，短期会好转</td>\n",
       "      <td>没有任何物资短缺信息</td>\n",
       "      <td>口罩</td>\n",
       "      <td>已储备7天内的物资</td>\n",
       "    </tr>\n",
       "  </tbody>\n",
       "</table>\n",
       "<p>65 rows × 15 columns</p>\n",
       "</div>"
      ],
      "text/plain": [
       "                    time   id    age sex education      job    location  \\\n",
       "1    2020-01-26 03:48:37  203  26~30   女  高中/中专/技校    个体经营户      福建省莆田市   \n",
       "2    2020-01-26 12:47:10  495  26~30   女     硕士及以上    媒体工作者      浙江省温州市   \n",
       "7    2020-01-26 08:14:38  262  26~30   女     硕士及以上  上班族/创业者      湖北省襄阳市   \n",
       "10   2020-01-26 09:06:12  300  26~30   女  高中/中专/技校  上班族/创业者      山西省临汾市   \n",
       "12   2020-01-26 12:34:08  493  26~30   女     硕士及以上  上班族/创业者      浙江省温州市   \n",
       "..                   ...  ...    ...  ..       ...      ...         ...   \n",
       "472  2020-01-26 00:41:50  152  26~30   女      大学本科  上班族/创业者      湖南省长沙市   \n",
       "476  2020-01-26 03:11:12  196  26~30   女      大学本科  上班族/创业者      湖南省长沙市   \n",
       "483  2020-01-25 23:55:18  113  26~30   女      大学本科  上班族/创业者      广东省广州市   \n",
       "487  2020-01-26 00:40:13  150  26~30   女      大学本科  上班族/创业者  广西壮族自治区北海市   \n",
       "492  2020-01-25 23:21:57   29  26~30   女      大学本科  上班族/创业者      广东省珠海市   \n",
       "\n",
       "                                 correct_understanding        my_party  \\\n",
       "1    病毒会进化，并且致死性越来越强，病毒对老年人有严重的威胁，感染病毒后会立即出现咳嗽、发烧的症...  有中型聚会安排（5～10人）   \n",
       "2           病毒对老年人有严重的威胁，75%浓度酒精可以杀死病毒，病毒会进化，并且致死性越来越强       已取消所有聚会安排   \n",
       "7                        75%浓度酒精可以杀死病毒，病毒会进化，并且致死性越来越强       已取消所有聚会安排   \n",
       "10          病毒对老年人有严重的威胁，75%浓度酒精可以杀死病毒，病毒会进化，并且致死性越来越强       已取消所有聚会安排   \n",
       "12   没有生病的人，不会传染病毒，病毒对老年人有严重的威胁，75%浓度酒精可以杀死病毒，病毒会进化...  有中型聚会安排（5～10人）   \n",
       "..                                                 ...             ...   \n",
       "472         病毒对老年人有严重的威胁，75%浓度酒精可以杀死病毒，病毒会进化，并且致死性越来越强       已取消所有聚会安排   \n",
       "476  感染病毒后会立即出现咳嗽、发烧的症状，病毒对老年人有严重的威胁，75%浓度酒精可以杀死病毒，...   有小型聚会安排（5人以下）   \n",
       "483  感染病毒后会立即出现咳嗽、发烧的症状，病毒对老年人有严重的威胁，75%浓度酒精可以杀死病毒，...  有大型聚会安排（11及以上）   \n",
       "487                      病毒会进化，并且致死性越来越强，75%浓度酒精可以杀死病毒       已取消所有聚会安排   \n",
       "492                                      75%浓度酒精可以杀死病毒       已取消所有聚会安排   \n",
       "\n",
       "    parent_party              channel_find_info control_feelings  \\\n",
       "1    父母已取消所有聚会安排  微信好友，公众号，微信群，微博，微信朋友圈，抖音，电视新闻          中立，不做判断   \n",
       "2    父母已取消所有聚会安排          微信群，公众号，微信好友，微信朋友圈，微博     较悲观，短期可能会更严重   \n",
       "7    父母已取消所有聚会安排                   公众号，微信朋友圈，微博     较悲观，短期可能会更严重   \n",
       "10   父母已取消所有聚会安排  微信好友，公众号，微信群，微博，微信朋友圈，抖音，电视新闻          中立，不做判断   \n",
       "12   父母已取消所有聚会安排                      公众号，微信朋友圈        较乐观，短期会好转   \n",
       "..           ...                            ...              ...   \n",
       "472  父母已取消所有聚会安排                    微博，电视新闻，微信群          中立，不做判断   \n",
       "476  父母已取消所有聚会安排                       微博，微信朋友圈          中立，不做判断   \n",
       "483  有聚会安排，父母会参与                 公众号，电视新闻，微信朋友圈          中立，不做判断   \n",
       "487          不清楚      微信好友，公众号，微博，抖音，电视新闻，微信朋友圈          中立，不做判断   \n",
       "492  父母已取消所有聚会安排                   微信群，微信朋友圈，微博        较乐观，短期会好转   \n",
       "\n",
       "    hospital_resource_shortage family_medical_resources  \\\n",
       "1                   没有确凿信息，不断定                口罩，体温计，酒精   \n",
       "2                   没有确凿信息，不断定                    口罩，酒精   \n",
       "7                   没有确凿信息，不断定                口罩，酒精，体温计   \n",
       "10                  没有确凿信息，不断定                口罩，酒精，体温计   \n",
       "12                  没有确凿信息，不断定      口罩，体温计，抗生素，抗病毒药物，酒精   \n",
       "..                         ...                      ...   \n",
       "472                 没有确凿信息，不断定                 口罩，抗病毒药物   \n",
       "476                 没有确凿信息，不断定        口罩，酒精，抗生素，保健品，体温计   \n",
       "483                 没有确凿信息，不断定                口罩，酒精，体温计   \n",
       "487                 没有确凿信息，不断定                       口罩   \n",
       "492                 没有任何物资短缺信息                       口罩   \n",
       "\n",
       "    family_living_resources  \n",
       "1                       未储备  \n",
       "2               已储备7～30天的物资  \n",
       "7               已储备7～30天的物资  \n",
       "10              已储备7～30天的物资  \n",
       "12                已储备7天内的物资  \n",
       "..                      ...  \n",
       "472             已储备7～30天的物资  \n",
       "476                     未储备  \n",
       "483               已储备7天内的物资  \n",
       "487                     未储备  \n",
       "492               已储备7天内的物资  \n",
       "\n",
       "[65 rows x 15 columns]"
      ]
     },
     "execution_count": 119,
     "metadata": {},
     "output_type": "execute_result"
    }
   ],
   "source": [
    "df_girl_age_2630 = df_girl[df_girl.age == '26~30']\n",
    "df_girl_age_2630"
   ]
  },
  {
   "cell_type": "code",
   "execution_count": 121,
   "metadata": {
    "scrolled": true
   },
   "outputs": [
    {
     "data": {
      "text/html": [
       "<div>\n",
       "<style scoped>\n",
       "    .dataframe tbody tr th:only-of-type {\n",
       "        vertical-align: middle;\n",
       "    }\n",
       "\n",
       "    .dataframe tbody tr th {\n",
       "        vertical-align: top;\n",
       "    }\n",
       "\n",
       "    .dataframe thead th {\n",
       "        text-align: right;\n",
       "    }\n",
       "</style>\n",
       "<table border=\"1\" class=\"dataframe\">\n",
       "  <thead>\n",
       "    <tr style=\"text-align: right;\">\n",
       "      <th></th>\n",
       "      <th>time</th>\n",
       "      <th>id</th>\n",
       "      <th>age</th>\n",
       "      <th>sex</th>\n",
       "      <th>education</th>\n",
       "      <th>job</th>\n",
       "      <th>location</th>\n",
       "      <th>correct_understanding</th>\n",
       "      <th>my_party</th>\n",
       "      <th>parent_party</th>\n",
       "      <th>channel_find_info</th>\n",
       "      <th>control_feelings</th>\n",
       "      <th>hospital_resource_shortage</th>\n",
       "      <th>family_medical_resources</th>\n",
       "      <th>family_living_resources</th>\n",
       "    </tr>\n",
       "  </thead>\n",
       "  <tbody>\n",
       "    <tr>\n",
       "      <td>4</td>\n",
       "      <td>2020-01-26 10:29:37</td>\n",
       "      <td>411</td>\n",
       "      <td>18~25</td>\n",
       "      <td>女</td>\n",
       "      <td>大学本科</td>\n",
       "      <td>大学生</td>\n",
       "      <td>湖北省黄冈市</td>\n",
       "      <td>病毒对老年人有严重的威胁，75%浓度酒精可以杀死病毒，病毒致死性很强，病毒会进化，并且致死性...</td>\n",
       "      <td>已取消所有聚会安排</td>\n",
       "      <td>父母已取消所有聚会安排</td>\n",
       "      <td>微信好友，公众号，微信群，微信朋友圈，微博，抖音，电视新闻，其他</td>\n",
       "      <td>较悲观，短期可能会更严重</td>\n",
       "      <td>已有权威机构证实存在短缺</td>\n",
       "      <td>口罩，酒精</td>\n",
       "      <td>未储备</td>\n",
       "    </tr>\n",
       "    <tr>\n",
       "      <td>8</td>\n",
       "      <td>2020-01-26 08:27:00</td>\n",
       "      <td>270</td>\n",
       "      <td>18~25</td>\n",
       "      <td>女</td>\n",
       "      <td>大学本科</td>\n",
       "      <td>上班族/创业者</td>\n",
       "      <td>四川省绵阳市</td>\n",
       "      <td>75%浓度酒精可以杀死病毒，病毒对老年人有严重的威胁，病毒会进化，并且致死性越来越强</td>\n",
       "      <td>已取消所有聚会安排</td>\n",
       "      <td>父母已取消所有聚会安排</td>\n",
       "      <td>微信好友，微信群，微信朋友圈，微博</td>\n",
       "      <td>较悲观，短期可能会更严重</td>\n",
       "      <td>没有确凿信息，不断定</td>\n",
       "      <td>口罩，酒精</td>\n",
       "      <td>已储备7天内的物资</td>\n",
       "    </tr>\n",
       "    <tr>\n",
       "      <td>23</td>\n",
       "      <td>2020-01-26 10:24:30</td>\n",
       "      <td>405</td>\n",
       "      <td>18~25</td>\n",
       "      <td>女</td>\n",
       "      <td>大学专科</td>\n",
       "      <td>上班族/创业者</td>\n",
       "      <td>湖北省黄冈市</td>\n",
       "      <td>感染病毒后会立即出现咳嗽、发烧的症状，病毒对老年人有严重的威胁，75%浓度酒精可以杀死病毒，...</td>\n",
       "      <td>已取消所有聚会安排</td>\n",
       "      <td>父母已取消所有聚会安排</td>\n",
       "      <td>微博，微信好友，微信朋友圈，电视新闻</td>\n",
       "      <td>较悲观，短期可能会更严重</td>\n",
       "      <td>已有权威机构证实存在短缺</td>\n",
       "      <td>口罩，酒精</td>\n",
       "      <td>已储备7～30天的物资</td>\n",
       "    </tr>\n",
       "    <tr>\n",
       "      <td>24</td>\n",
       "      <td>2020-01-26 09:31:50</td>\n",
       "      <td>344</td>\n",
       "      <td>18~25</td>\n",
       "      <td>女</td>\n",
       "      <td>硕士及以上</td>\n",
       "      <td>大学生</td>\n",
       "      <td>辽宁省沈阳市</td>\n",
       "      <td>没有生病的人，不会传染病毒，病毒对老年人有严重的威胁，75%浓度酒精可以杀死病毒，病毒会进化...</td>\n",
       "      <td>有小型聚会安排（5人以下）</td>\n",
       "      <td>有聚会安排，父母会参与</td>\n",
       "      <td>公众号，微信群，微信朋友圈，微博</td>\n",
       "      <td>较悲观，短期可能会更严重</td>\n",
       "      <td>没有确凿信息，不断定</td>\n",
       "      <td>口罩，护目镜，体温计，抗生素，抗病毒药物</td>\n",
       "      <td>已储备7天内的物资</td>\n",
       "    </tr>\n",
       "    <tr>\n",
       "      <td>30</td>\n",
       "      <td>2020-01-26 08:31:59</td>\n",
       "      <td>276</td>\n",
       "      <td>18~25</td>\n",
       "      <td>女</td>\n",
       "      <td>硕士及以上</td>\n",
       "      <td>大学生</td>\n",
       "      <td>湖北省荆州市</td>\n",
       "      <td>感染病毒后会立即出现咳嗽、发烧的症状，病毒对老年人有严重的威胁，病毒会进化，并且致死性越来越...</td>\n",
       "      <td>已取消所有聚会安排</td>\n",
       "      <td>父母已取消所有聚会安排</td>\n",
       "      <td>微信朋友圈，微信群，其他</td>\n",
       "      <td>中立，不做判断</td>\n",
       "      <td>没有确凿信息，不断定</td>\n",
       "      <td>口罩</td>\n",
       "      <td>未储备</td>\n",
       "    </tr>\n",
       "    <tr>\n",
       "      <td>...</td>\n",
       "      <td>...</td>\n",
       "      <td>...</td>\n",
       "      <td>...</td>\n",
       "      <td>...</td>\n",
       "      <td>...</td>\n",
       "      <td>...</td>\n",
       "      <td>...</td>\n",
       "      <td>...</td>\n",
       "      <td>...</td>\n",
       "      <td>...</td>\n",
       "      <td>...</td>\n",
       "      <td>...</td>\n",
       "      <td>...</td>\n",
       "      <td>...</td>\n",
       "      <td>...</td>\n",
       "    </tr>\n",
       "    <tr>\n",
       "      <td>472</td>\n",
       "      <td>2020-01-26 00:41:50</td>\n",
       "      <td>152</td>\n",
       "      <td>26~30</td>\n",
       "      <td>女</td>\n",
       "      <td>大学本科</td>\n",
       "      <td>上班族/创业者</td>\n",
       "      <td>湖南省长沙市</td>\n",
       "      <td>病毒对老年人有严重的威胁，75%浓度酒精可以杀死病毒，病毒会进化，并且致死性越来越强</td>\n",
       "      <td>已取消所有聚会安排</td>\n",
       "      <td>父母已取消所有聚会安排</td>\n",
       "      <td>微博，电视新闻，微信群</td>\n",
       "      <td>中立，不做判断</td>\n",
       "      <td>没有确凿信息，不断定</td>\n",
       "      <td>口罩，抗病毒药物</td>\n",
       "      <td>已储备7～30天的物资</td>\n",
       "    </tr>\n",
       "    <tr>\n",
       "      <td>476</td>\n",
       "      <td>2020-01-26 03:11:12</td>\n",
       "      <td>196</td>\n",
       "      <td>26~30</td>\n",
       "      <td>女</td>\n",
       "      <td>大学本科</td>\n",
       "      <td>上班族/创业者</td>\n",
       "      <td>湖南省长沙市</td>\n",
       "      <td>感染病毒后会立即出现咳嗽、发烧的症状，病毒对老年人有严重的威胁，75%浓度酒精可以杀死病毒，...</td>\n",
       "      <td>有小型聚会安排（5人以下）</td>\n",
       "      <td>父母已取消所有聚会安排</td>\n",
       "      <td>微博，微信朋友圈</td>\n",
       "      <td>中立，不做判断</td>\n",
       "      <td>没有确凿信息，不断定</td>\n",
       "      <td>口罩，酒精，抗生素，保健品，体温计</td>\n",
       "      <td>未储备</td>\n",
       "    </tr>\n",
       "    <tr>\n",
       "      <td>483</td>\n",
       "      <td>2020-01-25 23:55:18</td>\n",
       "      <td>113</td>\n",
       "      <td>26~30</td>\n",
       "      <td>女</td>\n",
       "      <td>大学本科</td>\n",
       "      <td>上班族/创业者</td>\n",
       "      <td>广东省广州市</td>\n",
       "      <td>感染病毒后会立即出现咳嗽、发烧的症状，病毒对老年人有严重的威胁，75%浓度酒精可以杀死病毒，...</td>\n",
       "      <td>有大型聚会安排（11及以上）</td>\n",
       "      <td>有聚会安排，父母会参与</td>\n",
       "      <td>公众号，电视新闻，微信朋友圈</td>\n",
       "      <td>中立，不做判断</td>\n",
       "      <td>没有确凿信息，不断定</td>\n",
       "      <td>口罩，酒精，体温计</td>\n",
       "      <td>已储备7天内的物资</td>\n",
       "    </tr>\n",
       "    <tr>\n",
       "      <td>487</td>\n",
       "      <td>2020-01-26 00:40:13</td>\n",
       "      <td>150</td>\n",
       "      <td>26~30</td>\n",
       "      <td>女</td>\n",
       "      <td>大学本科</td>\n",
       "      <td>上班族/创业者</td>\n",
       "      <td>广西壮族自治区北海市</td>\n",
       "      <td>病毒会进化，并且致死性越来越强，75%浓度酒精可以杀死病毒</td>\n",
       "      <td>已取消所有聚会安排</td>\n",
       "      <td>不清楚</td>\n",
       "      <td>微信好友，公众号，微博，抖音，电视新闻，微信朋友圈</td>\n",
       "      <td>中立，不做判断</td>\n",
       "      <td>没有确凿信息，不断定</td>\n",
       "      <td>口罩</td>\n",
       "      <td>未储备</td>\n",
       "    </tr>\n",
       "    <tr>\n",
       "      <td>492</td>\n",
       "      <td>2020-01-25 23:21:57</td>\n",
       "      <td>29</td>\n",
       "      <td>26~30</td>\n",
       "      <td>女</td>\n",
       "      <td>大学本科</td>\n",
       "      <td>上班族/创业者</td>\n",
       "      <td>广东省珠海市</td>\n",
       "      <td>75%浓度酒精可以杀死病毒</td>\n",
       "      <td>已取消所有聚会安排</td>\n",
       "      <td>父母已取消所有聚会安排</td>\n",
       "      <td>微信群，微信朋友圈，微博</td>\n",
       "      <td>较乐观，短期会好转</td>\n",
       "      <td>没有任何物资短缺信息</td>\n",
       "      <td>口罩</td>\n",
       "      <td>已储备7天内的物资</td>\n",
       "    </tr>\n",
       "  </tbody>\n",
       "</table>\n",
       "<p>244 rows × 15 columns</p>\n",
       "</div>"
      ],
      "text/plain": [
       "                    time   id    age sex education      job    location  \\\n",
       "4    2020-01-26 10:29:37  411  18~25   女      大学本科      大学生      湖北省黄冈市   \n",
       "8    2020-01-26 08:27:00  270  18~25   女      大学本科  上班族/创业者      四川省绵阳市   \n",
       "23   2020-01-26 10:24:30  405  18~25   女      大学专科  上班族/创业者      湖北省黄冈市   \n",
       "24   2020-01-26 09:31:50  344  18~25   女     硕士及以上      大学生      辽宁省沈阳市   \n",
       "30   2020-01-26 08:31:59  276  18~25   女     硕士及以上      大学生      湖北省荆州市   \n",
       "..                   ...  ...    ...  ..       ...      ...         ...   \n",
       "472  2020-01-26 00:41:50  152  26~30   女      大学本科  上班族/创业者      湖南省长沙市   \n",
       "476  2020-01-26 03:11:12  196  26~30   女      大学本科  上班族/创业者      湖南省长沙市   \n",
       "483  2020-01-25 23:55:18  113  26~30   女      大学本科  上班族/创业者      广东省广州市   \n",
       "487  2020-01-26 00:40:13  150  26~30   女      大学本科  上班族/创业者  广西壮族自治区北海市   \n",
       "492  2020-01-25 23:21:57   29  26~30   女      大学本科  上班族/创业者      广东省珠海市   \n",
       "\n",
       "                                 correct_understanding        my_party  \\\n",
       "4    病毒对老年人有严重的威胁，75%浓度酒精可以杀死病毒，病毒致死性很强，病毒会进化，并且致死性...       已取消所有聚会安排   \n",
       "8           75%浓度酒精可以杀死病毒，病毒对老年人有严重的威胁，病毒会进化，并且致死性越来越强       已取消所有聚会安排   \n",
       "23   感染病毒后会立即出现咳嗽、发烧的症状，病毒对老年人有严重的威胁，75%浓度酒精可以杀死病毒，...       已取消所有聚会安排   \n",
       "24   没有生病的人，不会传染病毒，病毒对老年人有严重的威胁，75%浓度酒精可以杀死病毒，病毒会进化...   有小型聚会安排（5人以下）   \n",
       "30   感染病毒后会立即出现咳嗽、发烧的症状，病毒对老年人有严重的威胁，病毒会进化，并且致死性越来越...       已取消所有聚会安排   \n",
       "..                                                 ...             ...   \n",
       "472         病毒对老年人有严重的威胁，75%浓度酒精可以杀死病毒，病毒会进化，并且致死性越来越强       已取消所有聚会安排   \n",
       "476  感染病毒后会立即出现咳嗽、发烧的症状，病毒对老年人有严重的威胁，75%浓度酒精可以杀死病毒，...   有小型聚会安排（5人以下）   \n",
       "483  感染病毒后会立即出现咳嗽、发烧的症状，病毒对老年人有严重的威胁，75%浓度酒精可以杀死病毒，...  有大型聚会安排（11及以上）   \n",
       "487                      病毒会进化，并且致死性越来越强，75%浓度酒精可以杀死病毒       已取消所有聚会安排   \n",
       "492                                      75%浓度酒精可以杀死病毒       已取消所有聚会安排   \n",
       "\n",
       "    parent_party                 channel_find_info control_feelings  \\\n",
       "4    父母已取消所有聚会安排  微信好友，公众号，微信群，微信朋友圈，微博，抖音，电视新闻，其他     较悲观，短期可能会更严重   \n",
       "8    父母已取消所有聚会安排                 微信好友，微信群，微信朋友圈，微博     较悲观，短期可能会更严重   \n",
       "23   父母已取消所有聚会安排                微博，微信好友，微信朋友圈，电视新闻     较悲观，短期可能会更严重   \n",
       "24   有聚会安排，父母会参与                  公众号，微信群，微信朋友圈，微博     较悲观，短期可能会更严重   \n",
       "30   父母已取消所有聚会安排                      微信朋友圈，微信群，其他          中立，不做判断   \n",
       "..           ...                               ...              ...   \n",
       "472  父母已取消所有聚会安排                       微博，电视新闻，微信群          中立，不做判断   \n",
       "476  父母已取消所有聚会安排                          微博，微信朋友圈          中立，不做判断   \n",
       "483  有聚会安排，父母会参与                    公众号，电视新闻，微信朋友圈          中立，不做判断   \n",
       "487          不清楚         微信好友，公众号，微博，抖音，电视新闻，微信朋友圈          中立，不做判断   \n",
       "492  父母已取消所有聚会安排                      微信群，微信朋友圈，微博        较乐观，短期会好转   \n",
       "\n",
       "    hospital_resource_shortage family_medical_resources  \\\n",
       "4                 已有权威机构证实存在短缺                    口罩，酒精   \n",
       "8                   没有确凿信息，不断定                    口罩，酒精   \n",
       "23                已有权威机构证实存在短缺                    口罩，酒精   \n",
       "24                  没有确凿信息，不断定     口罩，护目镜，体温计，抗生素，抗病毒药物   \n",
       "30                  没有确凿信息，不断定                       口罩   \n",
       "..                         ...                      ...   \n",
       "472                 没有确凿信息，不断定                 口罩，抗病毒药物   \n",
       "476                 没有确凿信息，不断定        口罩，酒精，抗生素，保健品，体温计   \n",
       "483                 没有确凿信息，不断定                口罩，酒精，体温计   \n",
       "487                 没有确凿信息，不断定                       口罩   \n",
       "492                 没有任何物资短缺信息                       口罩   \n",
       "\n",
       "    family_living_resources  \n",
       "4                       未储备  \n",
       "8                 已储备7天内的物资  \n",
       "23              已储备7～30天的物资  \n",
       "24                已储备7天内的物资  \n",
       "30                      未储备  \n",
       "..                      ...  \n",
       "472             已储备7～30天的物资  \n",
       "476                     未储备  \n",
       "483               已储备7天内的物资  \n",
       "487                     未储备  \n",
       "492               已储备7天内的物资  \n",
       "\n",
       "[244 rows x 15 columns]"
      ]
     },
     "execution_count": 121,
     "metadata": {},
     "output_type": "execute_result"
    }
   ],
   "source": [
    "df_girl_younpeople = df_girl_age_1825.append(df_girl_age_2630)\n",
    "df_girl_younpeople"
   ]
  },
  {
   "cell_type": "code",
   "execution_count": 123,
   "metadata": {
    "scrolled": true
   },
   "outputs": [
    {
     "data": {
      "text/html": [
       "<div>\n",
       "<style scoped>\n",
       "    .dataframe tbody tr th:only-of-type {\n",
       "        vertical-align: middle;\n",
       "    }\n",
       "\n",
       "    .dataframe tbody tr th {\n",
       "        vertical-align: top;\n",
       "    }\n",
       "\n",
       "    .dataframe thead th {\n",
       "        text-align: right;\n",
       "    }\n",
       "</style>\n",
       "<table border=\"1\" class=\"dataframe\">\n",
       "  <thead>\n",
       "    <tr style=\"text-align: right;\">\n",
       "      <th></th>\n",
       "      <th>time</th>\n",
       "      <th>id</th>\n",
       "      <th>age</th>\n",
       "      <th>sex</th>\n",
       "      <th>education</th>\n",
       "      <th>job</th>\n",
       "      <th>location</th>\n",
       "      <th>correct_understanding</th>\n",
       "      <th>my_party</th>\n",
       "      <th>parent_party</th>\n",
       "      <th>channel_find_info</th>\n",
       "      <th>control_feelings</th>\n",
       "      <th>hospital_resource_shortage</th>\n",
       "      <th>family_medical_resources</th>\n",
       "      <th>family_living_resources</th>\n",
       "    </tr>\n",
       "  </thead>\n",
       "  <tbody>\n",
       "    <tr>\n",
       "      <td>50</td>\n",
       "      <td>2020-01-26 10:56:44</td>\n",
       "      <td>446</td>\n",
       "      <td>18岁以下</td>\n",
       "      <td>女</td>\n",
       "      <td>高中/中专/技校</td>\n",
       "      <td>其他</td>\n",
       "      <td>北京市北京市</td>\n",
       "      <td>病毒对老年人有严重的威胁，75%浓度酒精可以杀死病毒，病毒会进化，并且致死性越来越强</td>\n",
       "      <td>有小型聚会安排（5人以下）</td>\n",
       "      <td>父母已取消所有聚会安排</td>\n",
       "      <td>微博，电视新闻</td>\n",
       "      <td>中立，不做判断</td>\n",
       "      <td>没有任何物资短缺信息</td>\n",
       "      <td>口罩，酒精，体温计</td>\n",
       "      <td>已储备30天以上的物资</td>\n",
       "    </tr>\n",
       "    <tr>\n",
       "      <td>116</td>\n",
       "      <td>2020-01-26 07:12:56</td>\n",
       "      <td>231</td>\n",
       "      <td>18岁以下</td>\n",
       "      <td>女</td>\n",
       "      <td>保密</td>\n",
       "      <td>其他</td>\n",
       "      <td>上海市上海市</td>\n",
       "      <td>病毒对老年人有严重的威胁，75%浓度酒精可以杀死病毒</td>\n",
       "      <td>有小型聚会安排（5人以下）</td>\n",
       "      <td>父母已取消所有聚会安排</td>\n",
       "      <td>微博</td>\n",
       "      <td>较乐观，短期会好转</td>\n",
       "      <td>没有确凿信息，不断定</td>\n",
       "      <td>口罩</td>\n",
       "      <td>已储备7天内的物资</td>\n",
       "    </tr>\n",
       "    <tr>\n",
       "      <td>156</td>\n",
       "      <td>2020-01-26 11:31:57</td>\n",
       "      <td>467</td>\n",
       "      <td>18岁以下</td>\n",
       "      <td>女</td>\n",
       "      <td>大学本科</td>\n",
       "      <td>大学生</td>\n",
       "      <td>湖南省娄底市</td>\n",
       "      <td>病毒对老年人有严重的威胁，75%浓度酒精可以杀死病毒，病毒会进化，并且致死性越来越强</td>\n",
       "      <td>有中型聚会安排（5～10人）</td>\n",
       "      <td>有聚会安排，父母会参与</td>\n",
       "      <td>微信好友，公众号，微信群，微信朋友圈，其他</td>\n",
       "      <td>较悲观，短期可能会更严重</td>\n",
       "      <td>没有确凿信息，不断定</td>\n",
       "      <td>口罩，酒精，体温计，抗生素，抗病毒药物</td>\n",
       "      <td>未储备</td>\n",
       "    </tr>\n",
       "    <tr>\n",
       "      <td>239</td>\n",
       "      <td>2020-01-26 12:31:14</td>\n",
       "      <td>492</td>\n",
       "      <td>18岁以下</td>\n",
       "      <td>女</td>\n",
       "      <td>初中及以下</td>\n",
       "      <td>大学生</td>\n",
       "      <td>广东省阳江市</td>\n",
       "      <td>病毒对老年人有严重的威胁，病毒对幼儿几乎无威胁，病毒致死性很强</td>\n",
       "      <td>已取消所有聚会安排</td>\n",
       "      <td>父母已取消所有聚会安排</td>\n",
       "      <td>电视新闻，微博，微信群，微信好友，其他</td>\n",
       "      <td>中立，不做判断</td>\n",
       "      <td>没有确凿信息，不断定</td>\n",
       "      <td>抗病毒药物</td>\n",
       "      <td>已储备7天内的物资</td>\n",
       "    </tr>\n",
       "    <tr>\n",
       "      <td>253</td>\n",
       "      <td>2020-01-26 11:27:48</td>\n",
       "      <td>466</td>\n",
       "      <td>18岁以下</td>\n",
       "      <td>女</td>\n",
       "      <td>高中/中专/技校</td>\n",
       "      <td>其他</td>\n",
       "      <td>重庆市重庆市</td>\n",
       "      <td>病毒对老年人有严重的威胁，病毒会进化，并且致死性越来越强</td>\n",
       "      <td>已取消所有聚会安排</td>\n",
       "      <td>父母已取消所有聚会安排</td>\n",
       "      <td>微信好友，公众号，微信群，微信朋友圈，微博，抖音，电视新闻，其他</td>\n",
       "      <td>较悲观，短期可能会更严重</td>\n",
       "      <td>没有确凿信息，不断定</td>\n",
       "      <td>酒精</td>\n",
       "      <td>已储备7天内的物资</td>\n",
       "    </tr>\n",
       "    <tr>\n",
       "      <td>379</td>\n",
       "      <td>2020-01-26 00:03:24</td>\n",
       "      <td>123</td>\n",
       "      <td>18岁以下</td>\n",
       "      <td>女</td>\n",
       "      <td>大学本科</td>\n",
       "      <td>媒体工作者</td>\n",
       "      <td>北京市北京市</td>\n",
       "      <td>病毒对老年人有严重的威胁，75%浓度酒精可以杀死病毒，病毒会进化，并且致死性越来越强</td>\n",
       "      <td>已取消所有聚会安排</td>\n",
       "      <td>父母已取消所有聚会安排</td>\n",
       "      <td>微信好友，微信朋友圈，微博</td>\n",
       "      <td>较悲观，短期可能会更严重</td>\n",
       "      <td>没有任何物资短缺信息</td>\n",
       "      <td>口罩</td>\n",
       "      <td>未储备</td>\n",
       "    </tr>\n",
       "    <tr>\n",
       "      <td>392</td>\n",
       "      <td>2020-01-25 23:56:25</td>\n",
       "      <td>114</td>\n",
       "      <td>18岁以下</td>\n",
       "      <td>女</td>\n",
       "      <td>保密</td>\n",
       "      <td>其他</td>\n",
       "      <td>广东省东莞市</td>\n",
       "      <td>病毒对幼儿几乎无威胁，病毒对老年人有严重的威胁，病毒会进化，并且致死性越来越强</td>\n",
       "      <td>有中型聚会安排（5～10人）</td>\n",
       "      <td>有聚会安排，父母会参与</td>\n",
       "      <td>微信好友，微信朋友圈，微博，电视新闻，其他</td>\n",
       "      <td>中立，不做判断</td>\n",
       "      <td>没有确凿信息，不断定</td>\n",
       "      <td>体温计</td>\n",
       "      <td>已储备7天内的物资</td>\n",
       "    </tr>\n",
       "    <tr>\n",
       "      <td>437</td>\n",
       "      <td>2020-01-26 01:23:37</td>\n",
       "      <td>175</td>\n",
       "      <td>18岁以下</td>\n",
       "      <td>女</td>\n",
       "      <td>高中/中专/技校</td>\n",
       "      <td>其他</td>\n",
       "      <td>广东省佛山市</td>\n",
       "      <td>病毒对老年人有严重的威胁，75%浓度酒精可以杀死病毒</td>\n",
       "      <td>已取消所有聚会安排</td>\n",
       "      <td>有聚会安排，父母会参与</td>\n",
       "      <td>微信好友，公众号，微博，电视新闻，其他</td>\n",
       "      <td>较乐观，短期会好转</td>\n",
       "      <td>没有确凿信息，不断定</td>\n",
       "      <td>口罩，体温计，抗生素</td>\n",
       "      <td>已储备7天内的物资</td>\n",
       "    </tr>\n",
       "  </tbody>\n",
       "</table>\n",
       "</div>"
      ],
      "text/plain": [
       "                    time   id    age sex education    job location  \\\n",
       "50   2020-01-26 10:56:44  446  18岁以下   女  高中/中专/技校     其他   北京市北京市   \n",
       "116  2020-01-26 07:12:56  231  18岁以下   女        保密     其他   上海市上海市   \n",
       "156  2020-01-26 11:31:57  467  18岁以下   女      大学本科    大学生   湖南省娄底市   \n",
       "239  2020-01-26 12:31:14  492  18岁以下   女     初中及以下    大学生   广东省阳江市   \n",
       "253  2020-01-26 11:27:48  466  18岁以下   女  高中/中专/技校     其他   重庆市重庆市   \n",
       "379  2020-01-26 00:03:24  123  18岁以下   女      大学本科  媒体工作者   北京市北京市   \n",
       "392  2020-01-25 23:56:25  114  18岁以下   女        保密     其他   广东省东莞市   \n",
       "437  2020-01-26 01:23:37  175  18岁以下   女  高中/中专/技校     其他   广东省佛山市   \n",
       "\n",
       "                          correct_understanding        my_party parent_party  \\\n",
       "50   病毒对老年人有严重的威胁，75%浓度酒精可以杀死病毒，病毒会进化，并且致死性越来越强   有小型聚会安排（5人以下）  父母已取消所有聚会安排   \n",
       "116                  病毒对老年人有严重的威胁，75%浓度酒精可以杀死病毒   有小型聚会安排（5人以下）  父母已取消所有聚会安排   \n",
       "156  病毒对老年人有严重的威胁，75%浓度酒精可以杀死病毒，病毒会进化，并且致死性越来越强  有中型聚会安排（5～10人）  有聚会安排，父母会参与   \n",
       "239             病毒对老年人有严重的威胁，病毒对幼儿几乎无威胁，病毒致死性很强       已取消所有聚会安排  父母已取消所有聚会安排   \n",
       "253                病毒对老年人有严重的威胁，病毒会进化，并且致死性越来越强       已取消所有聚会安排  父母已取消所有聚会安排   \n",
       "379  病毒对老年人有严重的威胁，75%浓度酒精可以杀死病毒，病毒会进化，并且致死性越来越强       已取消所有聚会安排  父母已取消所有聚会安排   \n",
       "392     病毒对幼儿几乎无威胁，病毒对老年人有严重的威胁，病毒会进化，并且致死性越来越强  有中型聚会安排（5～10人）  有聚会安排，父母会参与   \n",
       "437                  病毒对老年人有严重的威胁，75%浓度酒精可以杀死病毒       已取消所有聚会安排  有聚会安排，父母会参与   \n",
       "\n",
       "                    channel_find_info control_feelings  \\\n",
       "50                            微博，电视新闻          中立，不做判断   \n",
       "116                                微博        较乐观，短期会好转   \n",
       "156             微信好友，公众号，微信群，微信朋友圈，其他     较悲观，短期可能会更严重   \n",
       "239               电视新闻，微博，微信群，微信好友，其他          中立，不做判断   \n",
       "253  微信好友，公众号，微信群，微信朋友圈，微博，抖音，电视新闻，其他     较悲观，短期可能会更严重   \n",
       "379                     微信好友，微信朋友圈，微博     较悲观，短期可能会更严重   \n",
       "392             微信好友，微信朋友圈，微博，电视新闻，其他          中立，不做判断   \n",
       "437               微信好友，公众号，微博，电视新闻，其他        较乐观，短期会好转   \n",
       "\n",
       "    hospital_resource_shortage family_medical_resources  \\\n",
       "50                  没有任何物资短缺信息                口罩，酒精，体温计   \n",
       "116                 没有确凿信息，不断定                       口罩   \n",
       "156                 没有确凿信息，不断定      口罩，酒精，体温计，抗生素，抗病毒药物   \n",
       "239                 没有确凿信息，不断定                    抗病毒药物   \n",
       "253                 没有确凿信息，不断定                       酒精   \n",
       "379                 没有任何物资短缺信息                       口罩   \n",
       "392                 没有确凿信息，不断定                      体温计   \n",
       "437                 没有确凿信息，不断定               口罩，体温计，抗生素   \n",
       "\n",
       "    family_living_resources  \n",
       "50              已储备30天以上的物资  \n",
       "116               已储备7天内的物资  \n",
       "156                     未储备  \n",
       "239               已储备7天内的物资  \n",
       "253               已储备7天内的物资  \n",
       "379                     未储备  \n",
       "392               已储备7天内的物资  \n",
       "437               已储备7天内的物资  "
      ]
     },
     "execution_count": 123,
     "metadata": {},
     "output_type": "execute_result"
    }
   ],
   "source": [
    "df_girl_age_little_18 = df_girl[df_girl.age == '18岁以下']\n",
    "df_girl_age_little_18"
   ]
  },
  {
   "cell_type": "code",
   "execution_count": 124,
   "metadata": {
    "scrolled": true
   },
   "outputs": [
    {
     "data": {
      "text/html": [
       "<div>\n",
       "<style scoped>\n",
       "    .dataframe tbody tr th:only-of-type {\n",
       "        vertical-align: middle;\n",
       "    }\n",
       "\n",
       "    .dataframe tbody tr th {\n",
       "        vertical-align: top;\n",
       "    }\n",
       "\n",
       "    .dataframe thead th {\n",
       "        text-align: right;\n",
       "    }\n",
       "</style>\n",
       "<table border=\"1\" class=\"dataframe\">\n",
       "  <thead>\n",
       "    <tr style=\"text-align: right;\">\n",
       "      <th></th>\n",
       "      <th>time</th>\n",
       "      <th>id</th>\n",
       "      <th>age</th>\n",
       "      <th>sex</th>\n",
       "      <th>education</th>\n",
       "      <th>job</th>\n",
       "      <th>location</th>\n",
       "      <th>correct_understanding</th>\n",
       "      <th>my_party</th>\n",
       "      <th>parent_party</th>\n",
       "      <th>channel_find_info</th>\n",
       "      <th>control_feelings</th>\n",
       "      <th>hospital_resource_shortage</th>\n",
       "      <th>family_medical_resources</th>\n",
       "      <th>family_living_resources</th>\n",
       "    </tr>\n",
       "  </thead>\n",
       "  <tbody>\n",
       "    <tr>\n",
       "      <td>4</td>\n",
       "      <td>2020-01-26 10:29:37</td>\n",
       "      <td>411</td>\n",
       "      <td>18~25</td>\n",
       "      <td>女</td>\n",
       "      <td>大学本科</td>\n",
       "      <td>大学生</td>\n",
       "      <td>湖北省黄冈市</td>\n",
       "      <td>病毒对老年人有严重的威胁，75%浓度酒精可以杀死病毒，病毒致死性很强，病毒会进化，并且致死性...</td>\n",
       "      <td>已取消所有聚会安排</td>\n",
       "      <td>父母已取消所有聚会安排</td>\n",
       "      <td>微信好友，公众号，微信群，微信朋友圈，微博，抖音，电视新闻，其他</td>\n",
       "      <td>较悲观，短期可能会更严重</td>\n",
       "      <td>已有权威机构证实存在短缺</td>\n",
       "      <td>口罩，酒精</td>\n",
       "      <td>未储备</td>\n",
       "    </tr>\n",
       "    <tr>\n",
       "      <td>8</td>\n",
       "      <td>2020-01-26 08:27:00</td>\n",
       "      <td>270</td>\n",
       "      <td>18~25</td>\n",
       "      <td>女</td>\n",
       "      <td>大学本科</td>\n",
       "      <td>上班族/创业者</td>\n",
       "      <td>四川省绵阳市</td>\n",
       "      <td>75%浓度酒精可以杀死病毒，病毒对老年人有严重的威胁，病毒会进化，并且致死性越来越强</td>\n",
       "      <td>已取消所有聚会安排</td>\n",
       "      <td>父母已取消所有聚会安排</td>\n",
       "      <td>微信好友，微信群，微信朋友圈，微博</td>\n",
       "      <td>较悲观，短期可能会更严重</td>\n",
       "      <td>没有确凿信息，不断定</td>\n",
       "      <td>口罩，酒精</td>\n",
       "      <td>已储备7天内的物资</td>\n",
       "    </tr>\n",
       "    <tr>\n",
       "      <td>23</td>\n",
       "      <td>2020-01-26 10:24:30</td>\n",
       "      <td>405</td>\n",
       "      <td>18~25</td>\n",
       "      <td>女</td>\n",
       "      <td>大学专科</td>\n",
       "      <td>上班族/创业者</td>\n",
       "      <td>湖北省黄冈市</td>\n",
       "      <td>感染病毒后会立即出现咳嗽、发烧的症状，病毒对老年人有严重的威胁，75%浓度酒精可以杀死病毒，...</td>\n",
       "      <td>已取消所有聚会安排</td>\n",
       "      <td>父母已取消所有聚会安排</td>\n",
       "      <td>微博，微信好友，微信朋友圈，电视新闻</td>\n",
       "      <td>较悲观，短期可能会更严重</td>\n",
       "      <td>已有权威机构证实存在短缺</td>\n",
       "      <td>口罩，酒精</td>\n",
       "      <td>已储备7～30天的物资</td>\n",
       "    </tr>\n",
       "    <tr>\n",
       "      <td>24</td>\n",
       "      <td>2020-01-26 09:31:50</td>\n",
       "      <td>344</td>\n",
       "      <td>18~25</td>\n",
       "      <td>女</td>\n",
       "      <td>硕士及以上</td>\n",
       "      <td>大学生</td>\n",
       "      <td>辽宁省沈阳市</td>\n",
       "      <td>没有生病的人，不会传染病毒，病毒对老年人有严重的威胁，75%浓度酒精可以杀死病毒，病毒会进化...</td>\n",
       "      <td>有小型聚会安排（5人以下）</td>\n",
       "      <td>有聚会安排，父母会参与</td>\n",
       "      <td>公众号，微信群，微信朋友圈，微博</td>\n",
       "      <td>较悲观，短期可能会更严重</td>\n",
       "      <td>没有确凿信息，不断定</td>\n",
       "      <td>口罩，护目镜，体温计，抗生素，抗病毒药物</td>\n",
       "      <td>已储备7天内的物资</td>\n",
       "    </tr>\n",
       "    <tr>\n",
       "      <td>30</td>\n",
       "      <td>2020-01-26 08:31:59</td>\n",
       "      <td>276</td>\n",
       "      <td>18~25</td>\n",
       "      <td>女</td>\n",
       "      <td>硕士及以上</td>\n",
       "      <td>大学生</td>\n",
       "      <td>湖北省荆州市</td>\n",
       "      <td>感染病毒后会立即出现咳嗽、发烧的症状，病毒对老年人有严重的威胁，病毒会进化，并且致死性越来越...</td>\n",
       "      <td>已取消所有聚会安排</td>\n",
       "      <td>父母已取消所有聚会安排</td>\n",
       "      <td>微信朋友圈，微信群，其他</td>\n",
       "      <td>中立，不做判断</td>\n",
       "      <td>没有确凿信息，不断定</td>\n",
       "      <td>口罩</td>\n",
       "      <td>未储备</td>\n",
       "    </tr>\n",
       "    <tr>\n",
       "      <td>...</td>\n",
       "      <td>...</td>\n",
       "      <td>...</td>\n",
       "      <td>...</td>\n",
       "      <td>...</td>\n",
       "      <td>...</td>\n",
       "      <td>...</td>\n",
       "      <td>...</td>\n",
       "      <td>...</td>\n",
       "      <td>...</td>\n",
       "      <td>...</td>\n",
       "      <td>...</td>\n",
       "      <td>...</td>\n",
       "      <td>...</td>\n",
       "      <td>...</td>\n",
       "      <td>...</td>\n",
       "    </tr>\n",
       "    <tr>\n",
       "      <td>239</td>\n",
       "      <td>2020-01-26 12:31:14</td>\n",
       "      <td>492</td>\n",
       "      <td>18岁以下</td>\n",
       "      <td>女</td>\n",
       "      <td>初中及以下</td>\n",
       "      <td>大学生</td>\n",
       "      <td>广东省阳江市</td>\n",
       "      <td>病毒对老年人有严重的威胁，病毒对幼儿几乎无威胁，病毒致死性很强</td>\n",
       "      <td>已取消所有聚会安排</td>\n",
       "      <td>父母已取消所有聚会安排</td>\n",
       "      <td>电视新闻，微博，微信群，微信好友，其他</td>\n",
       "      <td>中立，不做判断</td>\n",
       "      <td>没有确凿信息，不断定</td>\n",
       "      <td>抗病毒药物</td>\n",
       "      <td>已储备7天内的物资</td>\n",
       "    </tr>\n",
       "    <tr>\n",
       "      <td>253</td>\n",
       "      <td>2020-01-26 11:27:48</td>\n",
       "      <td>466</td>\n",
       "      <td>18岁以下</td>\n",
       "      <td>女</td>\n",
       "      <td>高中/中专/技校</td>\n",
       "      <td>其他</td>\n",
       "      <td>重庆市重庆市</td>\n",
       "      <td>病毒对老年人有严重的威胁，病毒会进化，并且致死性越来越强</td>\n",
       "      <td>已取消所有聚会安排</td>\n",
       "      <td>父母已取消所有聚会安排</td>\n",
       "      <td>微信好友，公众号，微信群，微信朋友圈，微博，抖音，电视新闻，其他</td>\n",
       "      <td>较悲观，短期可能会更严重</td>\n",
       "      <td>没有确凿信息，不断定</td>\n",
       "      <td>酒精</td>\n",
       "      <td>已储备7天内的物资</td>\n",
       "    </tr>\n",
       "    <tr>\n",
       "      <td>379</td>\n",
       "      <td>2020-01-26 00:03:24</td>\n",
       "      <td>123</td>\n",
       "      <td>18岁以下</td>\n",
       "      <td>女</td>\n",
       "      <td>大学本科</td>\n",
       "      <td>媒体工作者</td>\n",
       "      <td>北京市北京市</td>\n",
       "      <td>病毒对老年人有严重的威胁，75%浓度酒精可以杀死病毒，病毒会进化，并且致死性越来越强</td>\n",
       "      <td>已取消所有聚会安排</td>\n",
       "      <td>父母已取消所有聚会安排</td>\n",
       "      <td>微信好友，微信朋友圈，微博</td>\n",
       "      <td>较悲观，短期可能会更严重</td>\n",
       "      <td>没有任何物资短缺信息</td>\n",
       "      <td>口罩</td>\n",
       "      <td>未储备</td>\n",
       "    </tr>\n",
       "    <tr>\n",
       "      <td>392</td>\n",
       "      <td>2020-01-25 23:56:25</td>\n",
       "      <td>114</td>\n",
       "      <td>18岁以下</td>\n",
       "      <td>女</td>\n",
       "      <td>保密</td>\n",
       "      <td>其他</td>\n",
       "      <td>广东省东莞市</td>\n",
       "      <td>病毒对幼儿几乎无威胁，病毒对老年人有严重的威胁，病毒会进化，并且致死性越来越强</td>\n",
       "      <td>有中型聚会安排（5～10人）</td>\n",
       "      <td>有聚会安排，父母会参与</td>\n",
       "      <td>微信好友，微信朋友圈，微博，电视新闻，其他</td>\n",
       "      <td>中立，不做判断</td>\n",
       "      <td>没有确凿信息，不断定</td>\n",
       "      <td>体温计</td>\n",
       "      <td>已储备7天内的物资</td>\n",
       "    </tr>\n",
       "    <tr>\n",
       "      <td>437</td>\n",
       "      <td>2020-01-26 01:23:37</td>\n",
       "      <td>175</td>\n",
       "      <td>18岁以下</td>\n",
       "      <td>女</td>\n",
       "      <td>高中/中专/技校</td>\n",
       "      <td>其他</td>\n",
       "      <td>广东省佛山市</td>\n",
       "      <td>病毒对老年人有严重的威胁，75%浓度酒精可以杀死病毒</td>\n",
       "      <td>已取消所有聚会安排</td>\n",
       "      <td>有聚会安排，父母会参与</td>\n",
       "      <td>微信好友，公众号，微博，电视新闻，其他</td>\n",
       "      <td>较乐观，短期会好转</td>\n",
       "      <td>没有确凿信息，不断定</td>\n",
       "      <td>口罩，体温计，抗生素</td>\n",
       "      <td>已储备7天内的物资</td>\n",
       "    </tr>\n",
       "  </tbody>\n",
       "</table>\n",
       "<p>252 rows × 15 columns</p>\n",
       "</div>"
      ],
      "text/plain": [
       "                    time   id    age sex education      job location  \\\n",
       "4    2020-01-26 10:29:37  411  18~25   女      大学本科      大学生   湖北省黄冈市   \n",
       "8    2020-01-26 08:27:00  270  18~25   女      大学本科  上班族/创业者   四川省绵阳市   \n",
       "23   2020-01-26 10:24:30  405  18~25   女      大学专科  上班族/创业者   湖北省黄冈市   \n",
       "24   2020-01-26 09:31:50  344  18~25   女     硕士及以上      大学生   辽宁省沈阳市   \n",
       "30   2020-01-26 08:31:59  276  18~25   女     硕士及以上      大学生   湖北省荆州市   \n",
       "..                   ...  ...    ...  ..       ...      ...      ...   \n",
       "239  2020-01-26 12:31:14  492  18岁以下   女     初中及以下      大学生   广东省阳江市   \n",
       "253  2020-01-26 11:27:48  466  18岁以下   女  高中/中专/技校       其他   重庆市重庆市   \n",
       "379  2020-01-26 00:03:24  123  18岁以下   女      大学本科    媒体工作者   北京市北京市   \n",
       "392  2020-01-25 23:56:25  114  18岁以下   女        保密       其他   广东省东莞市   \n",
       "437  2020-01-26 01:23:37  175  18岁以下   女  高中/中专/技校       其他   广东省佛山市   \n",
       "\n",
       "                                 correct_understanding        my_party  \\\n",
       "4    病毒对老年人有严重的威胁，75%浓度酒精可以杀死病毒，病毒致死性很强，病毒会进化，并且致死性...       已取消所有聚会安排   \n",
       "8           75%浓度酒精可以杀死病毒，病毒对老年人有严重的威胁，病毒会进化，并且致死性越来越强       已取消所有聚会安排   \n",
       "23   感染病毒后会立即出现咳嗽、发烧的症状，病毒对老年人有严重的威胁，75%浓度酒精可以杀死病毒，...       已取消所有聚会安排   \n",
       "24   没有生病的人，不会传染病毒，病毒对老年人有严重的威胁，75%浓度酒精可以杀死病毒，病毒会进化...   有小型聚会安排（5人以下）   \n",
       "30   感染病毒后会立即出现咳嗽、发烧的症状，病毒对老年人有严重的威胁，病毒会进化，并且致死性越来越...       已取消所有聚会安排   \n",
       "..                                                 ...             ...   \n",
       "239                    病毒对老年人有严重的威胁，病毒对幼儿几乎无威胁，病毒致死性很强       已取消所有聚会安排   \n",
       "253                       病毒对老年人有严重的威胁，病毒会进化，并且致死性越来越强       已取消所有聚会安排   \n",
       "379         病毒对老年人有严重的威胁，75%浓度酒精可以杀死病毒，病毒会进化，并且致死性越来越强       已取消所有聚会安排   \n",
       "392            病毒对幼儿几乎无威胁，病毒对老年人有严重的威胁，病毒会进化，并且致死性越来越强  有中型聚会安排（5～10人）   \n",
       "437                         病毒对老年人有严重的威胁，75%浓度酒精可以杀死病毒       已取消所有聚会安排   \n",
       "\n",
       "    parent_party                 channel_find_info control_feelings  \\\n",
       "4    父母已取消所有聚会安排  微信好友，公众号，微信群，微信朋友圈，微博，抖音，电视新闻，其他     较悲观，短期可能会更严重   \n",
       "8    父母已取消所有聚会安排                 微信好友，微信群，微信朋友圈，微博     较悲观，短期可能会更严重   \n",
       "23   父母已取消所有聚会安排                微博，微信好友，微信朋友圈，电视新闻     较悲观，短期可能会更严重   \n",
       "24   有聚会安排，父母会参与                  公众号，微信群，微信朋友圈，微博     较悲观，短期可能会更严重   \n",
       "30   父母已取消所有聚会安排                      微信朋友圈，微信群，其他          中立，不做判断   \n",
       "..           ...                               ...              ...   \n",
       "239  父母已取消所有聚会安排               电视新闻，微博，微信群，微信好友，其他          中立，不做判断   \n",
       "253  父母已取消所有聚会安排  微信好友，公众号，微信群，微信朋友圈，微博，抖音，电视新闻，其他     较悲观，短期可能会更严重   \n",
       "379  父母已取消所有聚会安排                     微信好友，微信朋友圈，微博     较悲观，短期可能会更严重   \n",
       "392  有聚会安排，父母会参与             微信好友，微信朋友圈，微博，电视新闻，其他          中立，不做判断   \n",
       "437  有聚会安排，父母会参与               微信好友，公众号，微博，电视新闻，其他        较乐观，短期会好转   \n",
       "\n",
       "    hospital_resource_shortage family_medical_resources  \\\n",
       "4                 已有权威机构证实存在短缺                    口罩，酒精   \n",
       "8                   没有确凿信息，不断定                    口罩，酒精   \n",
       "23                已有权威机构证实存在短缺                    口罩，酒精   \n",
       "24                  没有确凿信息，不断定     口罩，护目镜，体温计，抗生素，抗病毒药物   \n",
       "30                  没有确凿信息，不断定                       口罩   \n",
       "..                         ...                      ...   \n",
       "239                 没有确凿信息，不断定                    抗病毒药物   \n",
       "253                 没有确凿信息，不断定                       酒精   \n",
       "379                 没有任何物资短缺信息                       口罩   \n",
       "392                 没有确凿信息，不断定                      体温计   \n",
       "437                 没有确凿信息，不断定               口罩，体温计，抗生素   \n",
       "\n",
       "    family_living_resources  \n",
       "4                       未储备  \n",
       "8                 已储备7天内的物资  \n",
       "23              已储备7～30天的物资  \n",
       "24                已储备7天内的物资  \n",
       "30                      未储备  \n",
       "..                      ...  \n",
       "239               已储备7天内的物资  \n",
       "253               已储备7天内的物资  \n",
       "379                     未储备  \n",
       "392               已储备7天内的物资  \n",
       "437               已储备7天内的物资  \n",
       "\n",
       "[252 rows x 15 columns]"
      ]
     },
     "execution_count": 124,
     "metadata": {},
     "output_type": "execute_result"
    }
   ],
   "source": [
    "df_girl_younpeople = df_girl_younpeople.append(df_girl_age_little_18)\n",
    "df_girl_younpeople"
   ]
  },
  {
   "cell_type": "code",
   "execution_count": 126,
   "metadata": {},
   "outputs": [
    {
     "data": {
      "text/plain": [
       "大学本科        150\n",
       "硕士及以上        57\n",
       "大学专科         25\n",
       "高中/中专/技校     12\n",
       "初中及以下         4\n",
       "保密            4\n",
       "Name: education, dtype: int64"
      ]
     },
     "execution_count": 126,
     "metadata": {},
     "output_type": "execute_result"
    }
   ],
   "source": [
    "df_girl_younpeople.education.value_counts()"
   ]
  },
  {
   "cell_type": "code",
   "execution_count": 128,
   "metadata": {},
   "outputs": [
    {
     "data": {
      "text/plain": [
       "Index(['18~25', '26~30', '31~40', '41~50', '18岁以下', '51~60', '60以上'], dtype='object')"
      ]
     },
     "execution_count": 128,
     "metadata": {},
     "output_type": "execute_result"
    }
   ],
   "source": [
    "labels_woman2 = df[df.sex == '女']['age'].value_counts().index\n",
    "labels_woman2"
   ]
  },
  {
   "cell_type": "code",
   "execution_count": 132,
   "metadata": {},
   "outputs": [
    {
     "data": {
      "text/plain": [
       "array([179,  65,  34,  10,   8,   3,   1])"
      ]
     },
     "execution_count": 132,
     "metadata": {},
     "output_type": "execute_result"
    }
   ],
   "source": [
    "age_woman2 = df[df.sex == '女']['age'].value_counts().values\n",
    "age_woman2"
   ]
  },
  {
   "cell_type": "code",
   "execution_count": 130,
   "metadata": {},
   "outputs": [
    {
     "data": {
      "text/plain": [
       "Index(['18~25', '26~30', '31~40', '41~50', '51~60', '18岁以下'], dtype='object')"
      ]
     },
     "execution_count": 130,
     "metadata": {},
     "output_type": "execute_result"
    }
   ],
   "source": [
    "labels_man2 = df[df.sex == '男']['age'].value_counts().index\n",
    "labels_man2"
   ]
  },
  {
   "cell_type": "code",
   "execution_count": 131,
   "metadata": {},
   "outputs": [
    {
     "data": {
      "text/plain": [
       "array([93, 54, 20,  5,  4,  2])"
      ]
     },
     "execution_count": 131,
     "metadata": {},
     "output_type": "execute_result"
    }
   ],
   "source": [
    "age_man2 = df[df.sex == '男']['age'].value_counts().values\n",
    "age_man2"
   ]
  },
  {
   "cell_type": "code",
   "execution_count": 133,
   "metadata": {},
   "outputs": [
    {
     "data": {
      "text/plain": [
       "大学本科        81\n",
       "硕士及以上       39\n",
       "大学专科        18\n",
       "高中/中专/技校     6\n",
       "保密           5\n",
       "Name: education, dtype: int64"
      ]
     },
     "execution_count": 133,
     "metadata": {},
     "output_type": "execute_result"
    }
   ],
   "source": [
    "df_boy = df[df.sex == '男']\n",
    "df_boy_age_1825 = df_boy[df_boy.age == '18~25']\n",
    "df_boy_age_2630 = df_boy[df_boy.age == '26~30']\n",
    "df_boy_age_little18 = df_boy[df_boy.age == '18岁以下']\n",
    "df_boy_younpeople = df_boy_age_1825.append(df_boy_age_2630)\n",
    "df_boy_younpeople = df_boy_younpeople.append(df_boy_age_little18)\n",
    "df_boy_younpeople.education.value_counts()"
   ]
  },
  {
   "cell_type": "code",
   "execution_count": 134,
   "metadata": {},
   "outputs": [
    {
     "data": {
      "text/plain": [
       "大学本科        150\n",
       "硕士及以上        57\n",
       "大学专科         25\n",
       "高中/中专/技校     12\n",
       "初中及以下         4\n",
       "保密            4\n",
       "Name: education, dtype: int64"
      ]
     },
     "execution_count": 134,
     "metadata": {},
     "output_type": "execute_result"
    }
   ],
   "source": [
    "df_girl_younpeople.education.value_counts()"
   ]
  },
  {
   "cell_type": "code",
   "execution_count": 140,
   "metadata": {},
   "outputs": [
    {
     "name": "stdout",
     "output_type": "stream",
     "text": [
      "(252, 15)\n",
      "(149, 15)\n"
     ]
    }
   ],
   "source": [
    "print(df_girl_younpeople.shape)\n",
    "print(df_boy_younpeople.shape)"
   ]
  },
  {
   "cell_type": "code",
   "execution_count": 141,
   "metadata": {},
   "outputs": [
    {
     "data": {
      "text/html": [
       "<div>\n",
       "<style scoped>\n",
       "    .dataframe tbody tr th:only-of-type {\n",
       "        vertical-align: middle;\n",
       "    }\n",
       "\n",
       "    .dataframe tbody tr th {\n",
       "        vertical-align: top;\n",
       "    }\n",
       "\n",
       "    .dataframe thead th {\n",
       "        text-align: right;\n",
       "    }\n",
       "</style>\n",
       "<table border=\"1\" class=\"dataframe\">\n",
       "  <thead>\n",
       "    <tr style=\"text-align: right;\">\n",
       "      <th></th>\n",
       "      <th>time</th>\n",
       "      <th>id</th>\n",
       "      <th>age</th>\n",
       "      <th>sex</th>\n",
       "      <th>education</th>\n",
       "      <th>job</th>\n",
       "      <th>location</th>\n",
       "      <th>correct_understanding</th>\n",
       "      <th>my_party</th>\n",
       "      <th>parent_party</th>\n",
       "      <th>channel_find_info</th>\n",
       "      <th>control_feelings</th>\n",
       "      <th>hospital_resource_shortage</th>\n",
       "      <th>family_medical_resources</th>\n",
       "      <th>family_living_resources</th>\n",
       "    </tr>\n",
       "  </thead>\n",
       "  <tbody>\n",
       "    <tr>\n",
       "      <td>4</td>\n",
       "      <td>2020-01-26 10:29:37</td>\n",
       "      <td>411</td>\n",
       "      <td>18~25</td>\n",
       "      <td>女</td>\n",
       "      <td>大学本科</td>\n",
       "      <td>大学生</td>\n",
       "      <td>湖北省黄冈市</td>\n",
       "      <td>病毒对老年人有严重的威胁，75%浓度酒精可以杀死病毒，病毒致死性很强，病毒会进化，并且致死性...</td>\n",
       "      <td>已取消所有聚会安排</td>\n",
       "      <td>父母已取消所有聚会安排</td>\n",
       "      <td>微信好友，公众号，微信群，微信朋友圈，微博，抖音，电视新闻，其他</td>\n",
       "      <td>较悲观，短期可能会更严重</td>\n",
       "      <td>已有权威机构证实存在短缺</td>\n",
       "      <td>口罩，酒精</td>\n",
       "      <td>未储备</td>\n",
       "    </tr>\n",
       "    <tr>\n",
       "      <td>8</td>\n",
       "      <td>2020-01-26 08:27:00</td>\n",
       "      <td>270</td>\n",
       "      <td>18~25</td>\n",
       "      <td>女</td>\n",
       "      <td>大学本科</td>\n",
       "      <td>上班族/创业者</td>\n",
       "      <td>四川省绵阳市</td>\n",
       "      <td>75%浓度酒精可以杀死病毒，病毒对老年人有严重的威胁，病毒会进化，并且致死性越来越强</td>\n",
       "      <td>已取消所有聚会安排</td>\n",
       "      <td>父母已取消所有聚会安排</td>\n",
       "      <td>微信好友，微信群，微信朋友圈，微博</td>\n",
       "      <td>较悲观，短期可能会更严重</td>\n",
       "      <td>没有确凿信息，不断定</td>\n",
       "      <td>口罩，酒精</td>\n",
       "      <td>已储备7天内的物资</td>\n",
       "    </tr>\n",
       "  </tbody>\n",
       "</table>\n",
       "</div>"
      ],
      "text/plain": [
       "                  time   id    age sex education      job location  \\\n",
       "4  2020-01-26 10:29:37  411  18~25   女      大学本科      大学生   湖北省黄冈市   \n",
       "8  2020-01-26 08:27:00  270  18~25   女      大学本科  上班族/创业者   四川省绵阳市   \n",
       "\n",
       "                               correct_understanding   my_party parent_party  \\\n",
       "4  病毒对老年人有严重的威胁，75%浓度酒精可以杀死病毒，病毒致死性很强，病毒会进化，并且致死性...  已取消所有聚会安排  父母已取消所有聚会安排   \n",
       "8         75%浓度酒精可以杀死病毒，病毒对老年人有严重的威胁，病毒会进化，并且致死性越来越强  已取消所有聚会安排  父母已取消所有聚会安排   \n",
       "\n",
       "                  channel_find_info control_feelings  \\\n",
       "4  微信好友，公众号，微信群，微信朋友圈，微博，抖音，电视新闻，其他     较悲观，短期可能会更严重   \n",
       "8                 微信好友，微信群，微信朋友圈，微博     较悲观，短期可能会更严重   \n",
       "\n",
       "  hospital_resource_shortage family_medical_resources family_living_resources  \n",
       "4               已有权威机构证实存在短缺                    口罩，酒精                     未储备  \n",
       "8                 没有确凿信息，不断定                    口罩，酒精               已储备7天内的物资  "
      ]
     },
     "execution_count": 141,
     "metadata": {},
     "output_type": "execute_result"
    }
   ],
   "source": [
    "df_girl_younpeople.head(2)"
   ]
  },
  {
   "cell_type": "code",
   "execution_count": 142,
   "metadata": {},
   "outputs": [
    {
     "data": {
      "text/plain": [
       "(401, 15)"
      ]
     },
     "execution_count": 142,
     "metadata": {},
     "output_type": "execute_result"
    }
   ],
   "source": [
    "df_boy_girl_younpeople = df_boy_younpeople.append(df_girl_younpeople)\n",
    "df_boy_girl_younpeople.shape"
   ]
  },
  {
   "cell_type": "code",
   "execution_count": 143,
   "metadata": {},
   "outputs": [
    {
     "data": {
      "text/plain": [
       "父母已取消所有聚会安排    285\n",
       "有聚会安排，父母会参与     86\n",
       "不清楚             30\n",
       "Name: parent_party, dtype: int64"
      ]
     },
     "execution_count": 143,
     "metadata": {},
     "output_type": "execute_result"
    }
   ],
   "source": [
    "df_boy_girl_younpeople.parent_party.value_counts()"
   ]
  },
  {
   "cell_type": "code",
   "execution_count": 144,
   "metadata": {},
   "outputs": [
    {
     "data": {
      "text/plain": [
       "已取消所有聚会安排         270\n",
       "有中型聚会安排（5～10人）     65\n",
       "有小型聚会安排（5人以下）      39\n",
       "有大型聚会安排（11及以上）     27\n",
       "Name: my_party, dtype: int64"
      ]
     },
     "execution_count": 144,
     "metadata": {},
     "output_type": "execute_result"
    }
   ],
   "source": [
    "df_boy_girl_younpeople.my_party.value_counts()"
   ]
  },
  {
   "cell_type": "code",
   "execution_count": 149,
   "metadata": {},
   "outputs": [
    {
     "data": {
      "text/plain": [
       "['已取消所有聚会安排', '有中型聚会安排（5～10人）', '有小型聚会安排（5人以下）', '有大型聚会安排（11及以上）']"
      ]
     },
     "execution_count": 149,
     "metadata": {},
     "output_type": "execute_result"
    }
   ],
   "source": [
    "young_myparty_keys = list(df_boy_girl_younpeople.my_party.value_counts().index)\n",
    "young_myparty_keys"
   ]
  },
  {
   "cell_type": "code",
   "execution_count": 150,
   "metadata": {},
   "outputs": [
    {
     "data": {
      "text/plain": [
       "[270, 65, 39, 27]"
      ]
     },
     "execution_count": 150,
     "metadata": {},
     "output_type": "execute_result"
    }
   ],
   "source": [
    "young_myparty_values = list(df_boy_girl_younpeople.my_party.value_counts().values)\n",
    "young_myparty_values"
   ]
  },
  {
   "cell_type": "code",
   "execution_count": 152,
   "metadata": {},
   "outputs": [
    {
     "data": {
      "image/png": "[encoded data removed]",
      "text/plain": [
       "<Figure size 720x432 with 1 Axes>"
      ]
     },
     "metadata": {},
     "output_type": "display_data"
    }
   ],
   "source": [
    "young_myparty_keys2 = ['no_party','5_10_people','0_5_people','>11_people']\n",
    "plt.figure(figsize=(10,6))\n",
    "plt.pie(young_myparty_values,labels=young_myparty_keys2,autopct='%1.1f%%')\n",
    "plt.title(\"年轻男女聚会情况\",fontproperties=myfont)\n",
    "plt.show()"
   ]
  },
  {
   "cell_type": "code",
   "execution_count": 153,
   "metadata": {},
   "outputs": [
    {
     "data": {
      "text/plain": [
       "['父母已取消所有聚会安排', '有聚会安排，父母会参与', '不清楚']"
      ]
     },
     "execution_count": 153,
     "metadata": {},
     "output_type": "execute_result"
    }
   ],
   "source": [
    "young_parentsparty_keys = list(df_boy_girl_younpeople.parent_party.value_counts().index)\n",
    "young_parentsparty_keys"
   ]
  },
  {
   "cell_type": "code",
   "execution_count": 154,
   "metadata": {},
   "outputs": [
    {
     "data": {
      "text/plain": [
       "[285, 86, 30]"
      ]
     },
     "execution_count": 154,
     "metadata": {},
     "output_type": "execute_result"
    }
   ],
   "source": [
    "young_parentsparty_values = list(df_boy_girl_younpeople.parent_party.value_counts().values)\n",
    "young_parentsparty_values"
   ]
  },
  {
   "cell_type": "code",
   "execution_count": 157,
   "metadata": {},
   "outputs": [],
   "source": [
    "young_parentsparty_keys2 = ['parents_no_party','parents_yes_party','do_not_know']"
   ]
  },
  {
   "cell_type": "code",
   "execution_count": 158,
   "metadata": {},
   "outputs": [
    {
     "data": {
      "image/png": "[encoded data removed]",
      "text/plain": [
       "<Figure size 720x432 with 1 Axes>"
      ]
     },
     "metadata": {},
     "output_type": "display_data"
    }
   ],
   "source": [
    "plt.figure(figsize=(10,6))\n",
    "plt.pie(young_parentsparty_values,labels=young_parentsparty_keys2,autopct='%1.1f%%')\n",
    "plt.title(\"年轻男女的父母聚会情况\",fontproperties=myfont)\n",
    "plt.show()"
   ]
  },
  {
   "cell_type": "code",
   "execution_count": 159,
   "metadata": {},
   "outputs": [
    {
     "data": {
      "image/png": "[encoded data removed]",
      "text/plain": [
       "<Figure size 432x288 with 2 Axes>"
      ]
     },
     "metadata": {},
     "output_type": "display_data"
    }
   ],
   "source": [
    "# 121 > 1行2列第1个\n",
    "fig1 = plt.subplot(121)\n",
    "plt.pie([1,2,3])\n",
    "# 122 > 1行2列第2个\n",
    "fig2 = plt.subplot(122)\n",
    "plt.pie([10,5,5])\n",
    "plt.show()"
   ]
  },
  {
   "cell_type": "code",
   "execution_count": 164,
   "metadata": {},
   "outputs": [
    {
     "data": {
      "image/png": "[encoded data removed]",
      "text/plain": [
       "<Figure size 1440x576 with 2 Axes>"
      ]
     },
     "metadata": {},
     "output_type": "display_data"
    }
   ],
   "source": [
    "plt.figure(figsize=(20,8))\n",
    "fig1 = plt.subplot(121)\n",
    "plt.pie(young_parentsparty_values,labels=young_parentsparty_keys2,autopct='%1.1f%%')\n",
    "plt.title(\"年轻男女的父母聚会情况\",fontproperties=myfont,fontsize=20)\n",
    "fig2 = plt.subplot(122)\n",
    "plt.pie(young_myparty_values,labels=young_myparty_keys2,autopct='%1.1f%%')\n",
    "plt.title(\"年轻男女聚会情况\",fontproperties=myfont,fontsize=20)\n",
    "plt.show()\n",
    "# 明知山有虎偏向虎山行，年轻人和年轻人的父母还是会选择聚会的情况差不多\n",
    "# 并不是读过书的人就一定真的懂得拒绝聚会带来的可能性肺炎影响"
   ]
  },
  {
   "cell_type": "code",
   "execution_count": 165,
   "metadata": {},
   "outputs": [
    {
     "data": {
      "text/html": [
       "<div>\n",
       "<style scoped>\n",
       "    .dataframe tbody tr th:only-of-type {\n",
       "        vertical-align: middle;\n",
       "    }\n",
       "\n",
       "    .dataframe tbody tr th {\n",
       "        vertical-align: top;\n",
       "    }\n",
       "\n",
       "    .dataframe thead th {\n",
       "        text-align: right;\n",
       "    }\n",
       "</style>\n",
       "<table border=\"1\" class=\"dataframe\">\n",
       "  <thead>\n",
       "    <tr style=\"text-align: right;\">\n",
       "      <th></th>\n",
       "      <th>time</th>\n",
       "      <th>id</th>\n",
       "      <th>age</th>\n",
       "      <th>sex</th>\n",
       "      <th>education</th>\n",
       "      <th>job</th>\n",
       "      <th>location</th>\n",
       "      <th>correct_understanding</th>\n",
       "      <th>my_party</th>\n",
       "      <th>parent_party</th>\n",
       "      <th>channel_find_info</th>\n",
       "      <th>control_feelings</th>\n",
       "      <th>hospital_resource_shortage</th>\n",
       "      <th>family_medical_resources</th>\n",
       "      <th>family_living_resources</th>\n",
       "    </tr>\n",
       "  </thead>\n",
       "  <tbody>\n",
       "    <tr>\n",
       "      <td>0</td>\n",
       "      <td>2020-01-26 11:59:57</td>\n",
       "      <td>480</td>\n",
       "      <td>18~25</td>\n",
       "      <td>男</td>\n",
       "      <td>大学本科</td>\n",
       "      <td>大学生</td>\n",
       "      <td>湖北省宜昌市</td>\n",
       "      <td>病毒对老年人有严重的威胁，病毒会进化，并且致死性越来越强</td>\n",
       "      <td>已取消所有聚会安排</td>\n",
       "      <td>父母已取消所有聚会安排</td>\n",
       "      <td>微信好友，公众号，微信群，微信朋友圈，微博，电视新闻</td>\n",
       "      <td>中立，不做判断</td>\n",
       "      <td>已有权威机构证实存在短缺</td>\n",
       "      <td>口罩，酒精，体温计</td>\n",
       "      <td>已储备30天以上的物资</td>\n",
       "    </tr>\n",
       "    <tr>\n",
       "      <td>1</td>\n",
       "      <td>2020-01-26 03:48:37</td>\n",
       "      <td>203</td>\n",
       "      <td>26~30</td>\n",
       "      <td>女</td>\n",
       "      <td>高中/中专/技校</td>\n",
       "      <td>个体经营户</td>\n",
       "      <td>福建省莆田市</td>\n",
       "      <td>病毒会进化，并且致死性越来越强，病毒对老年人有严重的威胁，感染病毒后会立即出现咳嗽、发烧的症...</td>\n",
       "      <td>有中型聚会安排（5～10人）</td>\n",
       "      <td>父母已取消所有聚会安排</td>\n",
       "      <td>微信好友，公众号，微信群，微博，微信朋友圈，抖音，电视新闻</td>\n",
       "      <td>中立，不做判断</td>\n",
       "      <td>没有确凿信息，不断定</td>\n",
       "      <td>口罩，体温计，酒精</td>\n",
       "      <td>未储备</td>\n",
       "    </tr>\n",
       "  </tbody>\n",
       "</table>\n",
       "</div>"
      ],
      "text/plain": [
       "                  time   id    age sex education    job location  \\\n",
       "0  2020-01-26 11:59:57  480  18~25   男      大学本科    大学生   湖北省宜昌市   \n",
       "1  2020-01-26 03:48:37  203  26~30   女  高中/中专/技校  个体经营户   福建省莆田市   \n",
       "\n",
       "                               correct_understanding        my_party  \\\n",
       "0                       病毒对老年人有严重的威胁，病毒会进化，并且致死性越来越强       已取消所有聚会安排   \n",
       "1  病毒会进化，并且致死性越来越强，病毒对老年人有严重的威胁，感染病毒后会立即出现咳嗽、发烧的症...  有中型聚会安排（5～10人）   \n",
       "\n",
       "  parent_party              channel_find_info control_feelings  \\\n",
       "0  父母已取消所有聚会安排     微信好友，公众号，微信群，微信朋友圈，微博，电视新闻          中立，不做判断   \n",
       "1  父母已取消所有聚会安排  微信好友，公众号，微信群，微博，微信朋友圈，抖音，电视新闻          中立，不做判断   \n",
       "\n",
       "  hospital_resource_shortage family_medical_resources family_living_resources  \n",
       "0               已有权威机构证实存在短缺                口罩，酒精，体温计             已储备30天以上的物资  \n",
       "1                 没有确凿信息，不断定                口罩，体温计，酒精                     未储备  "
      ]
     },
     "execution_count": 165,
     "metadata": {},
     "output_type": "execute_result"
    }
   ],
   "source": [
    "df.head(2)"
   ]
  },
  {
   "cell_type": "code",
   "execution_count": 167,
   "metadata": {},
   "outputs": [
    {
     "name": "stdout",
     "output_type": "stream",
     "text": [
      "<class 'pandas.core.frame.DataFrame'>\n",
      "RangeIndex: 498 entries, 0 to 497\n",
      "Data columns (total 15 columns):\n",
      "time                          498 non-null object\n",
      "id                            498 non-null int64\n",
      "age                           498 non-null object\n",
      "sex                           498 non-null object\n",
      "education                     498 non-null object\n",
      "job                           498 non-null object\n",
      "location                      498 non-null object\n",
      "correct_understanding         498 non-null object\n",
      "my_party                      498 non-null object\n",
      "parent_party                  498 non-null object\n",
      "channel_find_info             498 non-null object\n",
      "control_feelings              498 non-null object\n",
      "hospital_resource_shortage    498 non-null object\n",
      "family_medical_resources      498 non-null object\n",
      "family_living_resources       498 non-null object\n",
      "dtypes: int64(1), object(14)\n",
      "memory usage: 58.5+ KB\n"
     ]
    }
   ],
   "source": [
    "df.info()"
   ]
  }
 ],
 "metadata": {
  "kernelspec": {
   "display_name": "Python 3",
   "language": "python",
   "name": "python3"
  },
  "language_info": {
   "codemirror_mode": {
    "name": "ipython",
    "version": 3
   },
   "file_extension": ".py",
   "mimetype": "text/x-python",
   "name": "python",
   "nbconvert_exporter": "python",
   "pygments_lexer": "ipython3",
   "version": "3.7.4"
  },
  "toc": {
   "base_numbering": 1,
   "nav_menu": {},
   "number_sections": true,
   "sideBar": true,
   "skip_h1_title": false,
   "title_cell": "Table of Contents",
   "title_sidebar": "Contents",
   "toc_cell": false,
   "toc_position": {},
   "toc_section_display": true,
   "toc_window_display": false
  }
 },
 "nbformat": 4,
 "nbformat_minor": 2
}
